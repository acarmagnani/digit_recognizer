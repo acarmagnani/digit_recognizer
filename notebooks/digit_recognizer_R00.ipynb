{
 "cells": [
  {
   "cell_type": "markdown",
   "metadata": {},
   "source": [
    "## 1. Configuration\n",
    "\n",
    "### Importing Libraries"
   ]
  },
  {
   "cell_type": "code",
   "execution_count": 2,
   "metadata": {},
   "outputs": [],
   "source": [
    "# Basic libraries\n",
    "import numpy as np\n",
    "import pandas as pd\n",
    "\n",
    "# Data visualization\n",
    "import matplotlib.pyplot as plt\n",
    "import seaborn as sns\n",
    "\n",
    "# Machine learning and evaluation\n",
    "from sklearn.metrics import confusion_matrix\n",
    "from sklearn.model_selection import train_test_split\n",
    "\n",
    "# Deep learning (TensorFlow and Keras)\n",
    "import tensorflow as tf\n",
    "from tensorflow.keras import Sequential\n",
    "from tensorflow.keras.layers import Conv2D, MaxPooling2D, Flatten, Dense, Dropout, BatchNormalization\n",
    "from tensorflow.keras.regularizers import L2\n",
    "from tensorflow.keras.losses import SparseCategoricalCrossentropy\n",
    "from tensorflow.keras.metrics import SparseCategoricalAccuracy\n",
    "from tensorflow.keras.optimizers import Adam\n",
    "from tensorflow.keras.preprocessing.image import ImageDataGenerator\n",
    "\n",
    "# Suppress warnings\n",
    "import warnings\n",
    "warnings.filterwarnings('ignore')"
   ]
  },
  {
   "cell_type": "markdown",
   "metadata": {},
   "source": [
    "### Creating Configuration Class"
   ]
  },
  {
   "cell_type": "code",
   "execution_count": 35,
   "metadata": {},
   "outputs": [],
   "source": [
    "class CFG:    \n",
    "    \n",
    "    # Other configurations\n",
    "    color = '#F08000'\n",
    "    background_color = '#262626'\n",
    "    font_color = '#ffffff'\n",
    "    point_color = '#FF5733'\n",
    "    \n",
    "    margin = dict(l=90, r=90, t=90, b=90)\n",
    "    height = 900\n",
    "    point_size = 50\n",
    "\n",
    "    # Model weights and early stopping\n",
    "    lgb_weight = 0.20\n",
    "    ctb_weight = 0.20\n",
    "    xgb_weight = 0.20\n",
    "    ridge_weight = 0.20\n",
    "    rfr_weight = 0.20\n",
    "    early_stop = 50\n",
    "    n_splits = 15"
   ]
  },
  {
   "cell_type": "markdown",
   "metadata": {},
   "source": [
    "## 2. Data Preparation\n",
    "\n",
    "### Loading Data"
   ]
  },
  {
   "cell_type": "code",
   "execution_count": null,
   "metadata": {},
   "outputs": [],
   "source": [
    "train = pd.read_csv('../data/external/train.csv')\n",
    "test = pd.read_csv('../data/external/test.csv')"
   ]
  },
  {
   "cell_type": "markdown",
   "metadata": {},
   "source": [
    "### Separating Features and Labels"
   ]
  },
  {
   "cell_type": "code",
   "execution_count": 4,
   "metadata": {},
   "outputs": [],
   "source": [
    "X = train.drop(\"label\", axis=1)\n",
    "y = train[\"label\"]"
   ]
  },
  {
   "cell_type": "markdown",
   "metadata": {},
   "source": [
    "### Data Normalization"
   ]
  },
  {
   "cell_type": "code",
   "execution_count": 5,
   "metadata": {},
   "outputs": [],
   "source": [
    "X = X / 255.0\n",
    "\n",
    "# Applying transformations to test.csv\n",
    "X_test = test / 255.0"
   ]
  },
  {
   "cell_type": "markdown",
   "metadata": {},
   "source": [
    "### Splitting Data into Training and Validation Sets"
   ]
  },
  {
   "cell_type": "code",
   "execution_count": 6,
   "metadata": {},
   "outputs": [],
   "source": [
    "X_train, X_val, y_train, y_val = train_test_split(X, y, test_size=0.1, random_state=1)"
   ]
  },
  {
   "cell_type": "markdown",
   "metadata": {},
   "source": [
    "### Preview Images"
   ]
  },
  {
   "cell_type": "code",
   "execution_count": 7,
   "metadata": {},
   "outputs": [
    {
     "data": {
      "image/png": "[encoded data removed]",
      "text/plain": [
       "<Figure size 1500x500 with 30 Axes>"
      ]
     },
     "metadata": {},
     "output_type": "display_data"
    }
   ],
   "source": [
    "X_reshaped = X_train.to_numpy().reshape(-1, 28, 28, 1)\n",
    "\n",
    "plt.figure(figsize=(15, 5))\n",
    "\n",
    "for i in range(30):\n",
    "    plt.subplot(3, 10, i+1)\n",
    "    plt.imshow(X_reshaped[i, :, :, 0], cmap=plt.cm.binary)\n",
    "    plt.axis('off')\n",
    "plt.subplots_adjust(wspace=-0.1, hspace=-0.1)\n",
    "plt.show()"
   ]
  },
  {
   "cell_type": "markdown",
   "metadata": {},
   "source": [
    "## 3. Dense Neural Network\n",
    "\n",
    "A dense neural network, or fully connected neural network (FCNN), connects each neuron in one layer to every neuron in the next. The model we're using has <span style=\"font-weight: bold\">three dense layers:</span>\n",
    "- The first two layers use <span style=\"font-weight: bold\">ReLU (Rectified Linear Unit)</span> activation, which helps capture complex patterns.\n",
    "- The final layer uses <span style=\"font-weight: bold\">softmax</span> activation, which outputs probabilities for each digit (0-9) in this classification problem.\n",
    "\n",
    "The strategy here is to start with a basic model and adjust its complexity based on how it performs.\n",
    "\n",
    "### Defining the Model Architecture"
   ]
  },
  {
   "cell_type": "code",
   "execution_count": 8,
   "metadata": {},
   "outputs": [],
   "source": [
    "model = Sequential([\n",
    "    Dense(units=25, activation='relu'),\n",
    "    Dense(units=15, activation='relu'),\n",
    "    Dense(units=10, activation='softmax')\n",
    "])"
   ]
  },
  {
   "cell_type": "markdown",
   "metadata": {},
   "source": [
    "- <span style=\"font-weight: bold\">Layer 1:</span>\n",
    "    - ReLU replaces negative values with 0, which helps the network learn non-linear relationships and reduces the chance of vanishing gradients.\n",
    "- <span style=\"font-weight: bold\">Layer 2:</span>\n",
    "    - Aadds another layer of non-linear transformations to further capture complex patterns in the data.\n",
    "- <span style=\"font-weight: bold\">Layer 3:</span>\n",
    "    - Outputs probabilities for each of the 10 classes. Softmax ensures the output values sum to 1, making it suitable for multi-class classification.\n",
    "\n",
    "Using ReLU twice here increases the model's ability to learn and represent complex features. Adding multiple layers with ReLU isn’t redundant—it’s part of building a network capable of capturing layered, hierarchical patterns in the data.\n",
    "\n",
    "### Compiling the Model\n"
   ]
  },
  {
   "cell_type": "code",
   "execution_count": 9,
   "metadata": {},
   "outputs": [],
   "source": [
    "model.compile(\n",
    "    optimizer=Adam(learning_rate=1e-3),\n",
    "    loss=SparseCategoricalCrossentropy(),\n",
    "    metrics=['accuracy']\n",
    ")"
   ]
  },
  {
   "cell_type": "markdown",
   "metadata": {},
   "source": [
    "- <span style=\"font-weight: bold\">Adam</span> is an adaptive optimizer that adjusts learning rates based on the progress of training, often yielding better results than simple optimizers like Stochastic Gradient Descent (SGD).\n",
    "- <span style=\"font-weight: bold\">SparseCategoricalCrossentropy</span> is a loss function suitable for classification problems with integer-labeled data (like this, where labels are 0-9). It measures the difference between the true labels and the predicted probabilities.\n",
    "\n",
    "### Training the Model"
   ]
  },
  {
   "cell_type": "code",
   "execution_count": 11,
   "metadata": {},
   "outputs": [
    {
     "name": "stdout",
     "output_type": "stream",
     "text": [
      "Epoch 1/30\n",
      "\u001b[1m1182/1182\u001b[0m \u001b[32m━━━━━━━━━━━━━━━━━━━━\u001b[0m\u001b[37m\u001b[0m \u001b[1m1s\u001b[0m 1ms/step - accuracy: 0.9917 - loss: 0.0269 - val_accuracy: 0.9521 - val_loss: 0.2329\n",
      "Epoch 2/30\n",
      "\u001b[1m1182/1182\u001b[0m \u001b[32m━━━━━━━━━━━━━━━━━━━━\u001b[0m\u001b[37m\u001b[0m \u001b[1m1s\u001b[0m 1ms/step - accuracy: 0.9922 - loss: 0.0241 - val_accuracy: 0.9474 - val_loss: 0.2693\n",
      "Epoch 3/30\n",
      "\u001b[1m1182/1182\u001b[0m \u001b[32m━━━━━━━━━━━━━━━━━━━━\u001b[0m\u001b[37m\u001b[0m \u001b[1m1s\u001b[0m 1ms/step - accuracy: 0.9919 - loss: 0.0264 - val_accuracy: 0.9521 - val_loss: 0.2538\n",
      "Epoch 4/30\n",
      "\u001b[1m1182/1182\u001b[0m \u001b[32m━━━━━━━━━━━━━━━━━━━━\u001b[0m\u001b[37m\u001b[0m \u001b[1m1s\u001b[0m 1ms/step - accuracy: 0.9922 - loss: 0.0241 - val_accuracy: 0.9505 - val_loss: 0.2489\n",
      "Epoch 5/30\n",
      "\u001b[1m1182/1182\u001b[0m \u001b[32m━━━━━━━━━━━━━━━━━━━━\u001b[0m\u001b[37m\u001b[0m \u001b[1m1s\u001b[0m 1ms/step - accuracy: 0.9920 - loss: 0.0230 - val_accuracy: 0.9524 - val_loss: 0.2512\n",
      "Epoch 6/30\n",
      "\u001b[1m1182/1182\u001b[0m \u001b[32m━━━━━━━━━━━━━━━━━━━━\u001b[0m\u001b[37m\u001b[0m \u001b[1m1s\u001b[0m 1ms/step - accuracy: 0.9930 - loss: 0.0220 - val_accuracy: 0.9526 - val_loss: 0.2557\n",
      "Epoch 7/30\n",
      "\u001b[1m1182/1182\u001b[0m \u001b[32m━━━━━━━━━━━━━━━━━━━━\u001b[0m\u001b[37m\u001b[0m \u001b[1m1s\u001b[0m 1ms/step - accuracy: 0.9946 - loss: 0.0191 - val_accuracy: 0.9476 - val_loss: 0.2811\n",
      "Epoch 8/30\n",
      "\u001b[1m1182/1182\u001b[0m \u001b[32m━━━━━━━━━━━━━━━━━━━━\u001b[0m\u001b[37m\u001b[0m \u001b[1m1s\u001b[0m 1ms/step - accuracy: 0.9922 - loss: 0.0235 - val_accuracy: 0.9526 - val_loss: 0.2725\n",
      "Epoch 9/30\n",
      "\u001b[1m1182/1182\u001b[0m \u001b[32m━━━━━━━━━━━━━━━━━━━━\u001b[0m\u001b[37m\u001b[0m \u001b[1m1s\u001b[0m 1ms/step - accuracy: 0.9938 - loss: 0.0207 - val_accuracy: 0.9529 - val_loss: 0.2759\n",
      "Epoch 10/30\n",
      "\u001b[1m1182/1182\u001b[0m \u001b[32m━━━━━━━━━━━━━━━━━━━━\u001b[0m\u001b[37m\u001b[0m \u001b[1m1s\u001b[0m 1ms/step - accuracy: 0.9948 - loss: 0.0178 - val_accuracy: 0.9529 - val_loss: 0.2913\n",
      "Epoch 11/30\n",
      "\u001b[1m1182/1182\u001b[0m \u001b[32m━━━━━━━━━━━━━━━━━━━━\u001b[0m\u001b[37m\u001b[0m \u001b[1m1s\u001b[0m 1ms/step - accuracy: 0.9947 - loss: 0.0169 - val_accuracy: 0.9505 - val_loss: 0.3013\n",
      "Epoch 12/30\n",
      "\u001b[1m1182/1182\u001b[0m \u001b[32m━━━━━━━━━━━━━━━━━━━━\u001b[0m\u001b[37m\u001b[0m \u001b[1m1s\u001b[0m 1ms/step - accuracy: 0.9942 - loss: 0.0168 - val_accuracy: 0.9471 - val_loss: 0.3144\n",
      "Epoch 13/30\n",
      "\u001b[1m1182/1182\u001b[0m \u001b[32m━━━━━━━━━━━━━━━━━━━━\u001b[0m\u001b[37m\u001b[0m \u001b[1m1s\u001b[0m 1ms/step - accuracy: 0.9936 - loss: 0.0190 - val_accuracy: 0.9450 - val_loss: 0.3451\n",
      "Epoch 14/30\n",
      "\u001b[1m1182/1182\u001b[0m \u001b[32m━━━━━━━━━━━━━━━━━━━━\u001b[0m\u001b[37m\u001b[0m \u001b[1m1s\u001b[0m 1ms/step - accuracy: 0.9952 - loss: 0.0147 - val_accuracy: 0.9514 - val_loss: 0.3149\n",
      "Epoch 15/30\n",
      "\u001b[1m1182/1182\u001b[0m \u001b[32m━━━━━━━━━━━━━━━━━━━━\u001b[0m\u001b[37m\u001b[0m \u001b[1m1s\u001b[0m 1ms/step - accuracy: 0.9947 - loss: 0.0161 - val_accuracy: 0.9519 - val_loss: 0.3048\n",
      "Epoch 16/30\n",
      "\u001b[1m1182/1182\u001b[0m \u001b[32m━━━━━━━━━━━━━━━━━━━━\u001b[0m\u001b[37m\u001b[0m \u001b[1m1s\u001b[0m 1ms/step - accuracy: 0.9964 - loss: 0.0130 - val_accuracy: 0.9514 - val_loss: 0.3051\n",
      "Epoch 17/30\n",
      "\u001b[1m1182/1182\u001b[0m \u001b[32m━━━━━━━━━━━━━━━━━━━━\u001b[0m\u001b[37m\u001b[0m \u001b[1m1s\u001b[0m 1ms/step - accuracy: 0.9960 - loss: 0.0128 - val_accuracy: 0.9455 - val_loss: 0.3473\n",
      "Epoch 18/30\n",
      "\u001b[1m1182/1182\u001b[0m \u001b[32m━━━━━━━━━━━━━━━━━━━━\u001b[0m\u001b[37m\u001b[0m \u001b[1m1s\u001b[0m 1ms/step - accuracy: 0.9957 - loss: 0.0140 - val_accuracy: 0.9510 - val_loss: 0.3325\n",
      "Epoch 19/30\n",
      "\u001b[1m1182/1182\u001b[0m \u001b[32m━━━━━━━━━━━━━━━━━━━━\u001b[0m\u001b[37m\u001b[0m \u001b[1m1s\u001b[0m 1ms/step - accuracy: 0.9961 - loss: 0.0132 - val_accuracy: 0.9440 - val_loss: 0.3924\n",
      "Epoch 20/30\n",
      "\u001b[1m1182/1182\u001b[0m \u001b[32m━━━━━━━━━━━━━━━━━━━━\u001b[0m\u001b[37m\u001b[0m \u001b[1m1s\u001b[0m 1ms/step - accuracy: 0.9946 - loss: 0.0179 - val_accuracy: 0.9502 - val_loss: 0.3290\n",
      "Epoch 21/30\n",
      "\u001b[1m1182/1182\u001b[0m \u001b[32m━━━━━━━━━━━━━━━━━━━━\u001b[0m\u001b[37m\u001b[0m \u001b[1m1s\u001b[0m 1ms/step - accuracy: 0.9958 - loss: 0.0141 - val_accuracy: 0.9519 - val_loss: 0.3320\n",
      "Epoch 22/30\n",
      "\u001b[1m1182/1182\u001b[0m \u001b[32m━━━━━━━━━━━━━━━━━━━━\u001b[0m\u001b[37m\u001b[0m \u001b[1m1s\u001b[0m 1ms/step - accuracy: 0.9950 - loss: 0.0143 - val_accuracy: 0.9479 - val_loss: 0.3474\n",
      "Epoch 23/30\n",
      "\u001b[1m1182/1182\u001b[0m \u001b[32m━━━━━━━━━━━━━━━━━━━━\u001b[0m\u001b[37m\u001b[0m \u001b[1m1s\u001b[0m 1ms/step - accuracy: 0.9968 - loss: 0.0098 - val_accuracy: 0.9521 - val_loss: 0.3399\n",
      "Epoch 24/30\n",
      "\u001b[1m1182/1182\u001b[0m \u001b[32m━━━━━━━━━━━━━━━━━━━━\u001b[0m\u001b[37m\u001b[0m \u001b[1m1s\u001b[0m 1ms/step - accuracy: 0.9963 - loss: 0.0117 - val_accuracy: 0.9531 - val_loss: 0.3449\n",
      "Epoch 25/30\n",
      "\u001b[1m1182/1182\u001b[0m \u001b[32m━━━━━━━━━━━━━━━━━━━━\u001b[0m\u001b[37m\u001b[0m \u001b[1m1s\u001b[0m 1ms/step - accuracy: 0.9957 - loss: 0.0121 - val_accuracy: 0.9512 - val_loss: 0.3492\n",
      "Epoch 26/30\n",
      "\u001b[1m1182/1182\u001b[0m \u001b[32m━━━━━━━━━━━━━━━━━━━━\u001b[0m\u001b[37m\u001b[0m \u001b[1m1s\u001b[0m 1ms/step - accuracy: 0.9958 - loss: 0.0131 - val_accuracy: 0.9517 - val_loss: 0.3656\n",
      "Epoch 27/30\n",
      "\u001b[1m1182/1182\u001b[0m \u001b[32m━━━━━━━━━━━━━━━━━━━━\u001b[0m\u001b[37m\u001b[0m \u001b[1m1s\u001b[0m 1ms/step - accuracy: 0.9959 - loss: 0.0131 - val_accuracy: 0.9500 - val_loss: 0.3641\n",
      "Epoch 28/30\n",
      "\u001b[1m1182/1182\u001b[0m \u001b[32m━━━━━━━━━━━━━━━━━━━━\u001b[0m\u001b[37m\u001b[0m \u001b[1m1s\u001b[0m 1ms/step - accuracy: 0.9976 - loss: 0.0086 - val_accuracy: 0.9514 - val_loss: 0.3739\n",
      "Epoch 29/30\n",
      "\u001b[1m1182/1182\u001b[0m \u001b[32m━━━━━━━━━━━━━━━━━━━━\u001b[0m\u001b[37m\u001b[0m \u001b[1m1s\u001b[0m 1ms/step - accuracy: 0.9961 - loss: 0.0128 - val_accuracy: 0.9519 - val_loss: 0.3602\n",
      "Epoch 30/30\n",
      "\u001b[1m1182/1182\u001b[0m \u001b[32m━━━━━━━━━━━━━━━━━━━━\u001b[0m\u001b[37m\u001b[0m \u001b[1m1s\u001b[0m 1ms/step - accuracy: 0.9971 - loss: 0.0098 - val_accuracy: 0.9450 - val_loss: 0.3952\n"
     ]
    },
    {
     "data": {
      "text/plain": [
       "<keras.src.callbacks.history.History at 0x1c0d6de27a0>"
      ]
     },
     "execution_count": 11,
     "metadata": {},
     "output_type": "execute_result"
    }
   ],
   "source": [
    "model.fit(X_train, y_train, epochs=30, validation_data=(X_val, y_val))"
   ]
  },
  {
   "cell_type": "markdown",
   "metadata": {},
   "source": [
    "The model performs well on the training data but struggles on the validation data, indicating <span style=\"font-weight: bold\">overfitting</span>. This happens because the model has learned specific details and noise in the training data rather than capturing general patterns, which reduces its ability to generalize to new data.\n",
    "\n",
    "Regularization helps reduce overfitting by adding a penalty to the model’s complexity, discouraging it from “memorizing” the training data. This way, the model focuses on simpler, more meaningful patterns.\n",
    "\n",
    "### Understanding L2 Regularization\n",
    "\n",
    "<span style=\"font-weight: bold\">L2 Regularization</span> (also called weight decay) penalizes large weights in the model by adding a term to the loss function, proportional to the sum of the squared weights. This encourages the model to keep weights small, leading to a smoother and more generalizable decision boundary.\n",
    "\n",
    "### Defining a Model with L2 Regularization"
   ]
  },
  {
   "cell_type": "code",
   "execution_count": 12,
   "metadata": {},
   "outputs": [],
   "source": [
    "model = Sequential([\n",
    "    Dense(units=25, activation='relu', kernel_regularizer=L2(0.001)),\n",
    "    Dense(units=15, activation='relu', kernel_regularizer=L2(0.001)),\n",
    "    Dense(units=10, activation='softmax', kernel_regularizer=L2(0.001))\n",
    "])"
   ]
  },
  {
   "cell_type": "markdown",
   "metadata": {},
   "source": [
    "This parameter applies L2 regularization to each layer. kernel_regularizer is applied to the kernel weights (the main weights in each layer that connect it to the previous layer).\n",
    "\n",
    "L2(0.001) means that the penalty added is proportional to the sum of the squares of the weights, multiplied by 0.001. This 0.001 is the regularization strength—higher values penalize larger weights more strongly, making the model “simpler.”\n",
    "\n",
    "### Compiling and Training the Model"
   ]
  },
  {
   "cell_type": "code",
   "execution_count": 13,
   "metadata": {},
   "outputs": [
    {
     "name": "stdout",
     "output_type": "stream",
     "text": [
      "Epoch 1/30\n",
      "\u001b[1m1182/1182\u001b[0m \u001b[32m━━━━━━━━━━━━━━━━━━━━\u001b[0m\u001b[37m\u001b[0m \u001b[1m3s\u001b[0m 1ms/step - accuracy: 0.7596 - loss: 0.8735 - val_accuracy: 0.9155 - val_loss: 0.3734\n",
      "Epoch 2/30\n",
      "\u001b[1m1182/1182\u001b[0m \u001b[32m━━━━━━━━━━━━━━━━━━━━\u001b[0m\u001b[37m\u001b[0m \u001b[1m1s\u001b[0m 1ms/step - accuracy: 0.9291 - loss: 0.3518 - val_accuracy: 0.9388 - val_loss: 0.3181\n",
      "Epoch 3/30\n",
      "\u001b[1m1182/1182\u001b[0m \u001b[32m━━━━━━━━━━━━━━━━━━━━\u001b[0m\u001b[37m\u001b[0m \u001b[1m1s\u001b[0m 1ms/step - accuracy: 0.9393 - loss: 0.3115 - val_accuracy: 0.9414 - val_loss: 0.3026\n",
      "Epoch 4/30\n",
      "\u001b[1m1182/1182\u001b[0m \u001b[32m━━━━━━━━━━━━━━━━━━━━\u001b[0m\u001b[37m\u001b[0m \u001b[1m1s\u001b[0m 1ms/step - accuracy: 0.9424 - loss: 0.3014 - val_accuracy: 0.9360 - val_loss: 0.3246\n",
      "Epoch 5/30\n",
      "\u001b[1m1182/1182\u001b[0m \u001b[32m━━━━━━━━━━━━━━━━━━━━\u001b[0m\u001b[37m\u001b[0m \u001b[1m1s\u001b[0m 1ms/step - accuracy: 0.9508 - loss: 0.2800 - val_accuracy: 0.9521 - val_loss: 0.2739\n",
      "Epoch 6/30\n",
      "\u001b[1m1182/1182\u001b[0m \u001b[32m━━━━━━━━━━━━━━━━━━━━\u001b[0m\u001b[37m\u001b[0m \u001b[1m1s\u001b[0m 1ms/step - accuracy: 0.9538 - loss: 0.2681 - val_accuracy: 0.9467 - val_loss: 0.2814\n",
      "Epoch 7/30\n",
      "\u001b[1m1182/1182\u001b[0m \u001b[32m━━━━━━━━━━━━━━━━━━━━\u001b[0m\u001b[37m\u001b[0m \u001b[1m1s\u001b[0m 1ms/step - accuracy: 0.9560 - loss: 0.2597 - val_accuracy: 0.9545 - val_loss: 0.2703\n",
      "Epoch 8/30\n",
      "\u001b[1m1182/1182\u001b[0m \u001b[32m━━━━━━━━━━━━━━━━━━━━\u001b[0m\u001b[37m\u001b[0m \u001b[1m1s\u001b[0m 1ms/step - accuracy: 0.9596 - loss: 0.2549 - val_accuracy: 0.9490 - val_loss: 0.2785\n",
      "Epoch 9/30\n",
      "\u001b[1m1182/1182\u001b[0m \u001b[32m━━━━━━━━━━━━━━━━━━━━\u001b[0m\u001b[37m\u001b[0m \u001b[1m1s\u001b[0m 1ms/step - accuracy: 0.9612 - loss: 0.2527 - val_accuracy: 0.9531 - val_loss: 0.2729\n",
      "Epoch 10/30\n",
      "\u001b[1m1182/1182\u001b[0m \u001b[32m━━━━━━━━━━━━━━━━━━━━\u001b[0m\u001b[37m\u001b[0m \u001b[1m1s\u001b[0m 1ms/step - accuracy: 0.9604 - loss: 0.2490 - val_accuracy: 0.9548 - val_loss: 0.2756\n",
      "Epoch 11/30\n",
      "\u001b[1m1182/1182\u001b[0m \u001b[32m━━━━━━━━━━━━━━━━━━━━\u001b[0m\u001b[37m\u001b[0m \u001b[1m1s\u001b[0m 1ms/step - accuracy: 0.9606 - loss: 0.2483 - val_accuracy: 0.9593 - val_loss: 0.2606\n",
      "Epoch 12/30\n",
      "\u001b[1m1182/1182\u001b[0m \u001b[32m━━━━━━━━━━━━━━━━━━━━\u001b[0m\u001b[37m\u001b[0m \u001b[1m1s\u001b[0m 1ms/step - accuracy: 0.9634 - loss: 0.2446 - val_accuracy: 0.9586 - val_loss: 0.2647\n",
      "Epoch 13/30\n",
      "\u001b[1m1182/1182\u001b[0m \u001b[32m━━━━━━━━━━━━━━━━━━━━\u001b[0m\u001b[37m\u001b[0m \u001b[1m1s\u001b[0m 1ms/step - accuracy: 0.9648 - loss: 0.2395 - val_accuracy: 0.9595 - val_loss: 0.2625\n",
      "Epoch 14/30\n",
      "\u001b[1m1182/1182\u001b[0m \u001b[32m━━━━━━━━━━━━━━━━━━━━\u001b[0m\u001b[37m\u001b[0m \u001b[1m1s\u001b[0m 1ms/step - accuracy: 0.9674 - loss: 0.2327 - val_accuracy: 0.9595 - val_loss: 0.2615\n",
      "Epoch 15/30\n",
      "\u001b[1m1182/1182\u001b[0m \u001b[32m━━━━━━━━━━━━━━━━━━━━\u001b[0m\u001b[37m\u001b[0m \u001b[1m1s\u001b[0m 1ms/step - accuracy: 0.9639 - loss: 0.2387 - val_accuracy: 0.9593 - val_loss: 0.2605\n",
      "Epoch 16/30\n",
      "\u001b[1m1182/1182\u001b[0m \u001b[32m━━━━━━━━━━━━━━━━━━━━\u001b[0m\u001b[37m\u001b[0m \u001b[1m1s\u001b[0m 1ms/step - accuracy: 0.9669 - loss: 0.2336 - val_accuracy: 0.9610 - val_loss: 0.2556\n",
      "Epoch 17/30\n",
      "\u001b[1m1182/1182\u001b[0m \u001b[32m━━━━━━━━━━━━━━━━━━━━\u001b[0m\u001b[37m\u001b[0m \u001b[1m1s\u001b[0m 1ms/step - accuracy: 0.9684 - loss: 0.2328 - val_accuracy: 0.9619 - val_loss: 0.2539\n",
      "Epoch 18/30\n",
      "\u001b[1m1182/1182\u001b[0m \u001b[32m━━━━━━━━━━━━━━━━━━━━\u001b[0m\u001b[37m\u001b[0m \u001b[1m1s\u001b[0m 1ms/step - accuracy: 0.9661 - loss: 0.2342 - val_accuracy: 0.9602 - val_loss: 0.2582\n",
      "Epoch 19/30\n",
      "\u001b[1m1182/1182\u001b[0m \u001b[32m━━━━━━━━━━━━━━━━━━━━\u001b[0m\u001b[37m\u001b[0m \u001b[1m1s\u001b[0m 1ms/step - accuracy: 0.9679 - loss: 0.2289 - val_accuracy: 0.9648 - val_loss: 0.2491\n",
      "Epoch 20/30\n",
      "\u001b[1m1182/1182\u001b[0m \u001b[32m━━━━━━━━━━━━━━━━━━━━\u001b[0m\u001b[37m\u001b[0m \u001b[1m1s\u001b[0m 1ms/step - accuracy: 0.9679 - loss: 0.2310 - val_accuracy: 0.9617 - val_loss: 0.2522\n",
      "Epoch 21/30\n",
      "\u001b[1m1182/1182\u001b[0m \u001b[32m━━━━━━━━━━━━━━━━━━━━\u001b[0m\u001b[37m\u001b[0m \u001b[1m1s\u001b[0m 1ms/step - accuracy: 0.9687 - loss: 0.2277 - val_accuracy: 0.9567 - val_loss: 0.2717\n",
      "Epoch 22/30\n",
      "\u001b[1m1182/1182\u001b[0m \u001b[32m━━━━━━━━━━━━━━━━━━━━\u001b[0m\u001b[37m\u001b[0m \u001b[1m1s\u001b[0m 1ms/step - accuracy: 0.9691 - loss: 0.2269 - val_accuracy: 0.9652 - val_loss: 0.2459\n",
      "Epoch 23/30\n",
      "\u001b[1m1182/1182\u001b[0m \u001b[32m━━━━━━━━━━━━━━━━━━━━\u001b[0m\u001b[37m\u001b[0m \u001b[1m1s\u001b[0m 1ms/step - accuracy: 0.9702 - loss: 0.2229 - val_accuracy: 0.9543 - val_loss: 0.2795\n",
      "Epoch 24/30\n",
      "\u001b[1m1182/1182\u001b[0m \u001b[32m━━━━━━━━━━━━━━━━━━━━\u001b[0m\u001b[37m\u001b[0m \u001b[1m1s\u001b[0m 1ms/step - accuracy: 0.9705 - loss: 0.2212 - val_accuracy: 0.9543 - val_loss: 0.2682\n",
      "Epoch 25/30\n",
      "\u001b[1m1182/1182\u001b[0m \u001b[32m━━━━━━━━━━━━━━━━━━━━\u001b[0m\u001b[37m\u001b[0m \u001b[1m1s\u001b[0m 1ms/step - accuracy: 0.9683 - loss: 0.2300 - val_accuracy: 0.9579 - val_loss: 0.2692\n",
      "Epoch 26/30\n",
      "\u001b[1m1182/1182\u001b[0m \u001b[32m━━━━━━━━━━━━━━━━━━━━\u001b[0m\u001b[37m\u001b[0m \u001b[1m1s\u001b[0m 1ms/step - accuracy: 0.9694 - loss: 0.2261 - val_accuracy: 0.9593 - val_loss: 0.2593\n",
      "Epoch 27/30\n",
      "\u001b[1m1182/1182\u001b[0m \u001b[32m━━━━━━━━━━━━━━━━━━━━\u001b[0m\u001b[37m\u001b[0m \u001b[1m1s\u001b[0m 1ms/step - accuracy: 0.9703 - loss: 0.2235 - val_accuracy: 0.9631 - val_loss: 0.2462\n",
      "Epoch 28/30\n",
      "\u001b[1m1182/1182\u001b[0m \u001b[32m━━━━━━━━━━━━━━━━━━━━\u001b[0m\u001b[37m\u001b[0m \u001b[1m1s\u001b[0m 1ms/step - accuracy: 0.9715 - loss: 0.2226 - val_accuracy: 0.9602 - val_loss: 0.2619\n",
      "Epoch 29/30\n",
      "\u001b[1m1182/1182\u001b[0m \u001b[32m━━━━━━━━━━━━━━━━━━━━\u001b[0m\u001b[37m\u001b[0m \u001b[1m1s\u001b[0m 1ms/step - accuracy: 0.9715 - loss: 0.2221 - val_accuracy: 0.9555 - val_loss: 0.2684\n",
      "Epoch 30/30\n",
      "\u001b[1m1182/1182\u001b[0m \u001b[32m━━━━━━━━━━━━━━━━━━━━\u001b[0m\u001b[37m\u001b[0m \u001b[1m2s\u001b[0m 1ms/step - accuracy: 0.9715 - loss: 0.2211 - val_accuracy: 0.9586 - val_loss: 0.2640\n"
     ]
    },
    {
     "data": {
      "text/plain": [
       "<keras.src.callbacks.history.History at 0x1c0d90ff430>"
      ]
     },
     "execution_count": 13,
     "metadata": {},
     "output_type": "execute_result"
    }
   ],
   "source": [
    "model.compile(\n",
    "    optimizer = Adam(learning_rate=1e-3),\n",
    "    loss=SparseCategoricalCrossentropy(),\n",
    "    metrics=['accuracy']\n",
    ")\n",
    "\n",
    "model.fit(X_train, y_train, epochs=30, validation_data=(X_val, y_val))"
   ]
  },
  {
   "cell_type": "markdown",
   "metadata": {},
   "source": [
    "The difference between training and validation performance has reduced. However, let's build a more complex dense neural network with additional layers, a higher number of neurons, and Dropout to further reduce overfitting, which will allow the model to learn more nuanced patterns while maintaining generalization.\n",
    "\n",
    "- By adding more layers and neurons (units) per layer, the model can capture more detailed and complex features, which should improve accuracy.\n",
    "- However, a more complex model is also more prone to overfitting. Therefore, regularization (L2) and Dropout are added to control this.\n",
    "- <span style=\"font-weight: bold\">Dropout</span> is a regularization technique where randomly selected neurons are ignored (or \"dropped out\") during training. This forces the network to learn more robust features that generalize better to new data, helping to prevent overfitting.\n",
    "\n",
    "### Defining a Deeper, More Complex Model"
   ]
  },
  {
   "cell_type": "code",
   "execution_count": 15,
   "metadata": {},
   "outputs": [],
   "source": [
    "model = Sequential([\n",
    "    Dense(units=512, activation='relu', kernel_regularizer=L2(0.001)),  # Increased units\n",
    "    Dropout(0.4),  # Add dropout to prevent overfitting\n",
    "    Dense(units=256, activation='relu', kernel_regularizer=L2(0.001)),\n",
    "    Dropout(0.4),\n",
    "    Dense(units=128, activation='relu', kernel_regularizer=L2(0.001)),\n",
    "    Dropout(0.3),\n",
    "    Dense(units=64, activation='relu', kernel_regularizer=L2(0.001)),\n",
    "    Dropout(0.3),\n",
    "    Dense(units=32, activation='relu', kernel_regularizer=L2(0.001)),\n",
    "    Dense(units=10, activation='softmax', kernel_regularizer=L2(0.001))  \n",
    "])"
   ]
  },
  {
   "cell_type": "markdown",
   "metadata": {},
   "source": [
    "### Compiling and Training the Model"
   ]
  },
  {
   "cell_type": "code",
   "execution_count": 16,
   "metadata": {},
   "outputs": [
    {
     "name": "stdout",
     "output_type": "stream",
     "text": [
      "Epoch 1/50\n",
      "\u001b[1m1182/1182\u001b[0m \u001b[32m━━━━━━━━━━━━━━━━━━━━\u001b[0m\u001b[37m\u001b[0m \u001b[1m8s\u001b[0m 5ms/step - accuracy: 0.2657 - loss: 3.1987 - val_accuracy: 0.8098 - val_loss: 1.6949\n",
      "Epoch 2/50\n",
      "\u001b[1m1182/1182\u001b[0m \u001b[32m━━━━━━━━━━━━━━━━━━━━\u001b[0m\u001b[37m\u001b[0m \u001b[1m5s\u001b[0m 4ms/step - accuracy: 0.6886 - loss: 1.8662 - val_accuracy: 0.8867 - val_loss: 1.2846\n",
      "Epoch 3/50\n",
      "\u001b[1m1182/1182\u001b[0m \u001b[32m━━━━━━━━━━━━━━━━━━━━\u001b[0m\u001b[37m\u001b[0m \u001b[1m6s\u001b[0m 5ms/step - accuracy: 0.8061 - loss: 1.4826 - val_accuracy: 0.9083 - val_loss: 1.1397\n",
      "Epoch 4/50\n",
      "\u001b[1m1182/1182\u001b[0m \u001b[32m━━━━━━━━━━━━━━━━━━━━\u001b[0m\u001b[37m\u001b[0m \u001b[1m5s\u001b[0m 4ms/step - accuracy: 0.8610 - loss: 1.2919 - val_accuracy: 0.9257 - val_loss: 1.0323\n",
      "Epoch 5/50\n",
      "\u001b[1m1182/1182\u001b[0m \u001b[32m━━━━━━━━━━━━━━━━━━━━\u001b[0m\u001b[37m\u001b[0m \u001b[1m5s\u001b[0m 4ms/step - accuracy: 0.8903 - loss: 1.1601 - val_accuracy: 0.9345 - val_loss: 0.9584\n",
      "Epoch 6/50\n",
      "\u001b[1m1182/1182\u001b[0m \u001b[32m━━━━━━━━━━━━━━━━━━━━\u001b[0m\u001b[37m\u001b[0m \u001b[1m5s\u001b[0m 4ms/step - accuracy: 0.9088 - loss: 1.0613 - val_accuracy: 0.9469 - val_loss: 0.8918\n",
      "Epoch 7/50\n",
      "\u001b[1m1182/1182\u001b[0m \u001b[32m━━━━━━━━━━━━━━━━━━━━\u001b[0m\u001b[37m\u001b[0m \u001b[1m5s\u001b[0m 4ms/step - accuracy: 0.9184 - loss: 0.9803 - val_accuracy: 0.9521 - val_loss: 0.8373\n",
      "Epoch 8/50\n",
      "\u001b[1m1182/1182\u001b[0m \u001b[32m━━━━━━━━━━━━━━━━━━━━\u001b[0m\u001b[37m\u001b[0m \u001b[1m5s\u001b[0m 4ms/step - accuracy: 0.9311 - loss: 0.9089 - val_accuracy: 0.9538 - val_loss: 0.7860\n",
      "Epoch 9/50\n",
      "\u001b[1m1182/1182\u001b[0m \u001b[32m━━━━━━━━━━━━━━━━━━━━\u001b[0m\u001b[37m\u001b[0m \u001b[1m5s\u001b[0m 4ms/step - accuracy: 0.9394 - loss: 0.8448 - val_accuracy: 0.9562 - val_loss: 0.7394\n",
      "Epoch 10/50\n",
      "\u001b[1m1182/1182\u001b[0m \u001b[32m━━━━━━━━━━━━━━━━━━━━\u001b[0m\u001b[37m\u001b[0m \u001b[1m5s\u001b[0m 4ms/step - accuracy: 0.9416 - loss: 0.8026 - val_accuracy: 0.9593 - val_loss: 0.6966\n",
      "Epoch 11/50\n",
      "\u001b[1m1182/1182\u001b[0m \u001b[32m━━━━━━━━━━━━━━━━━━━━\u001b[0m\u001b[37m\u001b[0m \u001b[1m5s\u001b[0m 4ms/step - accuracy: 0.9466 - loss: 0.7538 - val_accuracy: 0.9619 - val_loss: 0.6596\n",
      "Epoch 12/50\n",
      "\u001b[1m1182/1182\u001b[0m \u001b[32m━━━━━━━━━━━━━━━━━━━━\u001b[0m\u001b[37m\u001b[0m \u001b[1m5s\u001b[0m 4ms/step - accuracy: 0.9514 - loss: 0.7077 - val_accuracy: 0.9650 - val_loss: 0.6273\n",
      "Epoch 13/50\n",
      "\u001b[1m1182/1182\u001b[0m \u001b[32m━━━━━━━━━━━━━━━━━━━━\u001b[0m\u001b[37m\u001b[0m \u001b[1m5s\u001b[0m 4ms/step - accuracy: 0.9558 - loss: 0.6667 - val_accuracy: 0.9681 - val_loss: 0.5912\n",
      "Epoch 14/50\n",
      "\u001b[1m1182/1182\u001b[0m \u001b[32m━━━━━━━━━━━━━━━━━━━━\u001b[0m\u001b[37m\u001b[0m \u001b[1m5s\u001b[0m 4ms/step - accuracy: 0.9590 - loss: 0.6327 - val_accuracy: 0.9693 - val_loss: 0.5690\n",
      "Epoch 15/50\n",
      "\u001b[1m1182/1182\u001b[0m \u001b[32m━━━━━━━━━━━━━━━━━━━━\u001b[0m\u001b[37m\u001b[0m \u001b[1m5s\u001b[0m 4ms/step - accuracy: 0.9610 - loss: 0.6023 - val_accuracy: 0.9690 - val_loss: 0.5471\n",
      "Epoch 16/50\n",
      "\u001b[1m1182/1182\u001b[0m \u001b[32m━━━━━━━━━━━━━━━━━━━━\u001b[0m\u001b[37m\u001b[0m \u001b[1m5s\u001b[0m 4ms/step - accuracy: 0.9605 - loss: 0.5793 - val_accuracy: 0.9712 - val_loss: 0.5215\n",
      "Epoch 17/50\n",
      "\u001b[1m1182/1182\u001b[0m \u001b[32m━━━━━━━━━━━━━━━━━━━━\u001b[0m\u001b[37m\u001b[0m \u001b[1m5s\u001b[0m 4ms/step - accuracy: 0.9657 - loss: 0.5495 - val_accuracy: 0.9693 - val_loss: 0.5015\n",
      "Epoch 18/50\n",
      "\u001b[1m1182/1182\u001b[0m \u001b[32m━━━━━━━━━━━━━━━━━━━━\u001b[0m\u001b[37m\u001b[0m \u001b[1m6s\u001b[0m 5ms/step - accuracy: 0.9675 - loss: 0.5199 - val_accuracy: 0.9717 - val_loss: 0.4831\n",
      "Epoch 19/50\n",
      "\u001b[1m1182/1182\u001b[0m \u001b[32m━━━━━━━━━━━━━━━━━━━━\u001b[0m\u001b[37m\u001b[0m \u001b[1m5s\u001b[0m 5ms/step - accuracy: 0.9660 - loss: 0.5081 - val_accuracy: 0.9729 - val_loss: 0.4671\n",
      "Epoch 20/50\n",
      "\u001b[1m1182/1182\u001b[0m \u001b[32m━━━━━━━━━━━━━━━━━━━━\u001b[0m\u001b[37m\u001b[0m \u001b[1m5s\u001b[0m 5ms/step - accuracy: 0.9691 - loss: 0.4798 - val_accuracy: 0.9740 - val_loss: 0.4458\n",
      "Epoch 21/50\n",
      "\u001b[1m1182/1182\u001b[0m \u001b[32m━━━━━━━━━━━━━━━━━━━━\u001b[0m\u001b[37m\u001b[0m \u001b[1m5s\u001b[0m 5ms/step - accuracy: 0.9709 - loss: 0.4595 - val_accuracy: 0.9748 - val_loss: 0.4329\n",
      "Epoch 22/50\n",
      "\u001b[1m1182/1182\u001b[0m \u001b[32m━━━━━━━━━━━━━━━━━━━━\u001b[0m\u001b[37m\u001b[0m \u001b[1m5s\u001b[0m 5ms/step - accuracy: 0.9716 - loss: 0.4446 - val_accuracy: 0.9740 - val_loss: 0.4207\n",
      "Epoch 23/50\n",
      "\u001b[1m1182/1182\u001b[0m \u001b[32m━━━━━━━━━━━━━━━━━━━━\u001b[0m\u001b[37m\u001b[0m \u001b[1m5s\u001b[0m 5ms/step - accuracy: 0.9718 - loss: 0.4307 - val_accuracy: 0.9757 - val_loss: 0.4080\n",
      "Epoch 24/50\n",
      "\u001b[1m1182/1182\u001b[0m \u001b[32m━━━━━━━━━━━━━━━━━━━━\u001b[0m\u001b[37m\u001b[0m \u001b[1m6s\u001b[0m 5ms/step - accuracy: 0.9739 - loss: 0.4131 - val_accuracy: 0.9774 - val_loss: 0.3939\n",
      "Epoch 25/50\n",
      "\u001b[1m1182/1182\u001b[0m \u001b[32m━━━━━━━━━━━━━━━━━━━━\u001b[0m\u001b[37m\u001b[0m \u001b[1m6s\u001b[0m 5ms/step - accuracy: 0.9751 - loss: 0.3996 - val_accuracy: 0.9755 - val_loss: 0.3826\n",
      "Epoch 26/50\n",
      "\u001b[1m1182/1182\u001b[0m \u001b[32m━━━━━━━━━━━━━━━━━━━━\u001b[0m\u001b[37m\u001b[0m \u001b[1m6s\u001b[0m 5ms/step - accuracy: 0.9751 - loss: 0.3888 - val_accuracy: 0.9771 - val_loss: 0.3724\n",
      "Epoch 27/50\n",
      "\u001b[1m1182/1182\u001b[0m \u001b[32m━━━━━━━━━━━━━━━━━━━━\u001b[0m\u001b[37m\u001b[0m \u001b[1m5s\u001b[0m 4ms/step - accuracy: 0.9747 - loss: 0.3791 - val_accuracy: 0.9764 - val_loss: 0.3656\n",
      "Epoch 28/50\n",
      "\u001b[1m1182/1182\u001b[0m \u001b[32m━━━━━━━━━━━━━━━━━━━━\u001b[0m\u001b[37m\u001b[0m \u001b[1m5s\u001b[0m 4ms/step - accuracy: 0.9774 - loss: 0.3651 - val_accuracy: 0.9774 - val_loss: 0.3563\n",
      "Epoch 29/50\n",
      "\u001b[1m1182/1182\u001b[0m \u001b[32m━━━━━━━━━━━━━━━━━━━━\u001b[0m\u001b[37m\u001b[0m \u001b[1m5s\u001b[0m 4ms/step - accuracy: 0.9785 - loss: 0.3528 - val_accuracy: 0.9764 - val_loss: 0.3513\n",
      "Epoch 30/50\n",
      "\u001b[1m1182/1182\u001b[0m \u001b[32m━━━━━━━━━━━━━━━━━━━━\u001b[0m\u001b[37m\u001b[0m \u001b[1m5s\u001b[0m 4ms/step - accuracy: 0.9801 - loss: 0.3480 - val_accuracy: 0.9781 - val_loss: 0.3428\n",
      "Epoch 31/50\n",
      "\u001b[1m1182/1182\u001b[0m \u001b[32m━━━━━━━━━━━━━━━━━━━━\u001b[0m\u001b[37m\u001b[0m \u001b[1m5s\u001b[0m 5ms/step - accuracy: 0.9793 - loss: 0.3391 - val_accuracy: 0.9764 - val_loss: 0.3394\n",
      "Epoch 32/50\n",
      "\u001b[1m1182/1182\u001b[0m \u001b[32m━━━━━━━━━━━━━━━━━━━━\u001b[0m\u001b[37m\u001b[0m \u001b[1m5s\u001b[0m 4ms/step - accuracy: 0.9802 - loss: 0.3270 - val_accuracy: 0.9771 - val_loss: 0.3290\n",
      "Epoch 33/50\n",
      "\u001b[1m1182/1182\u001b[0m \u001b[32m━━━━━━━━━━━━━━━━━━━━\u001b[0m\u001b[37m\u001b[0m \u001b[1m5s\u001b[0m 4ms/step - accuracy: 0.9790 - loss: 0.3263 - val_accuracy: 0.9786 - val_loss: 0.3210\n",
      "Epoch 34/50\n",
      "\u001b[1m1182/1182\u001b[0m \u001b[32m━━━━━━━━━━━━━━━━━━━━\u001b[0m\u001b[37m\u001b[0m \u001b[1m5s\u001b[0m 4ms/step - accuracy: 0.9798 - loss: 0.3174 - val_accuracy: 0.9769 - val_loss: 0.3208\n",
      "Epoch 35/50\n",
      "\u001b[1m1182/1182\u001b[0m \u001b[32m━━━━━━━━━━━━━━━━━━━━\u001b[0m\u001b[37m\u001b[0m \u001b[1m5s\u001b[0m 4ms/step - accuracy: 0.9802 - loss: 0.3128 - val_accuracy: 0.9812 - val_loss: 0.3097\n",
      "Epoch 36/50\n",
      "\u001b[1m1182/1182\u001b[0m \u001b[32m━━━━━━━━━━━━━━━━━━━━\u001b[0m\u001b[37m\u001b[0m \u001b[1m5s\u001b[0m 4ms/step - accuracy: 0.9841 - loss: 0.3001 - val_accuracy: 0.9786 - val_loss: 0.3084\n",
      "Epoch 37/50\n",
      "\u001b[1m1182/1182\u001b[0m \u001b[32m━━━━━━━━━━━━━━━━━━━━\u001b[0m\u001b[37m\u001b[0m \u001b[1m6s\u001b[0m 5ms/step - accuracy: 0.9811 - loss: 0.3001 - val_accuracy: 0.9795 - val_loss: 0.3024\n",
      "Epoch 38/50\n",
      "\u001b[1m1182/1182\u001b[0m \u001b[32m━━━━━━━━━━━━━━━━━━━━\u001b[0m\u001b[37m\u001b[0m \u001b[1m5s\u001b[0m 4ms/step - accuracy: 0.9821 - loss: 0.2918 - val_accuracy: 0.9783 - val_loss: 0.3009\n",
      "Epoch 39/50\n",
      "\u001b[1m1182/1182\u001b[0m \u001b[32m━━━━━━━━━━━━━━━━━━━━\u001b[0m\u001b[37m\u001b[0m \u001b[1m6s\u001b[0m 5ms/step - accuracy: 0.9833 - loss: 0.2884 - val_accuracy: 0.9800 - val_loss: 0.2954\n",
      "Epoch 40/50\n",
      "\u001b[1m1182/1182\u001b[0m \u001b[32m━━━━━━━━━━━━━━━━━━━━\u001b[0m\u001b[37m\u001b[0m \u001b[1m5s\u001b[0m 5ms/step - accuracy: 0.9833 - loss: 0.2812 - val_accuracy: 0.9807 - val_loss: 0.2921\n",
      "Epoch 41/50\n",
      "\u001b[1m1182/1182\u001b[0m \u001b[32m━━━━━━━━━━━━━━━━━━━━\u001b[0m\u001b[37m\u001b[0m \u001b[1m6s\u001b[0m 5ms/step - accuracy: 0.9847 - loss: 0.2753 - val_accuracy: 0.9795 - val_loss: 0.2917\n",
      "Epoch 42/50\n",
      "\u001b[1m1182/1182\u001b[0m \u001b[32m━━━━━━━━━━━━━━━━━━━━\u001b[0m\u001b[37m\u001b[0m \u001b[1m5s\u001b[0m 4ms/step - accuracy: 0.9837 - loss: 0.2746 - val_accuracy: 0.9774 - val_loss: 0.2921\n",
      "Epoch 43/50\n",
      "\u001b[1m1182/1182\u001b[0m \u001b[32m━━━━━━━━━━━━━━━━━━━━\u001b[0m\u001b[37m\u001b[0m \u001b[1m5s\u001b[0m 4ms/step - accuracy: 0.9843 - loss: 0.2729 - val_accuracy: 0.9805 - val_loss: 0.2853\n",
      "Epoch 44/50\n",
      "\u001b[1m1182/1182\u001b[0m \u001b[32m━━━━━━━━━━━━━━━━━━━━\u001b[0m\u001b[37m\u001b[0m \u001b[1m5s\u001b[0m 4ms/step - accuracy: 0.9837 - loss: 0.2703 - val_accuracy: 0.9795 - val_loss: 0.2803\n",
      "Epoch 45/50\n",
      "\u001b[1m1182/1182\u001b[0m \u001b[32m━━━━━━━━━━━━━━━━━━━━\u001b[0m\u001b[37m\u001b[0m \u001b[1m6s\u001b[0m 5ms/step - accuracy: 0.9843 - loss: 0.2611 - val_accuracy: 0.9781 - val_loss: 0.2807\n",
      "Epoch 46/50\n",
      "\u001b[1m1182/1182\u001b[0m \u001b[32m━━━━━━━━━━━━━━━━━━━━\u001b[0m\u001b[37m\u001b[0m \u001b[1m5s\u001b[0m 4ms/step - accuracy: 0.9846 - loss: 0.2598 - val_accuracy: 0.9798 - val_loss: 0.2769\n",
      "Epoch 47/50\n",
      "\u001b[1m1182/1182\u001b[0m \u001b[32m━━━━━━━━━━━━━━━━━━━━\u001b[0m\u001b[37m\u001b[0m \u001b[1m6s\u001b[0m 5ms/step - accuracy: 0.9861 - loss: 0.2521 - val_accuracy: 0.9790 - val_loss: 0.2753\n",
      "Epoch 48/50\n",
      "\u001b[1m1182/1182\u001b[0m \u001b[32m━━━━━━━━━━━━━━━━━━━━\u001b[0m\u001b[37m\u001b[0m \u001b[1m6s\u001b[0m 5ms/step - accuracy: 0.9850 - loss: 0.2558 - val_accuracy: 0.9790 - val_loss: 0.2720\n",
      "Epoch 49/50\n",
      "\u001b[1m1182/1182\u001b[0m \u001b[32m━━━━━━━━━━━━━━━━━━━━\u001b[0m\u001b[37m\u001b[0m \u001b[1m5s\u001b[0m 4ms/step - accuracy: 0.9853 - loss: 0.2522 - val_accuracy: 0.9798 - val_loss: 0.2677\n",
      "Epoch 50/50\n",
      "\u001b[1m1182/1182\u001b[0m \u001b[32m━━━━━━━━━━━━━━━━━━━━\u001b[0m\u001b[37m\u001b[0m \u001b[1m5s\u001b[0m 4ms/step - accuracy: 0.9839 - loss: 0.2517 - val_accuracy: 0.9802 - val_loss: 0.2669\n"
     ]
    },
    {
     "data": {
      "text/plain": [
       "<keras.src.callbacks.history.History at 0x1c0d9a0ab90>"
      ]
     },
     "execution_count": 16,
     "metadata": {},
     "output_type": "execute_result"
    }
   ],
   "source": [
    "model.compile(\n",
    "    optimizer=Adam(learning_rate=5e-5),  # Reduced learning rate for better convergence\n",
    "    loss=SparseCategoricalCrossentropy(),\n",
    "    metrics=['accuracy']\n",
    ")\n",
    "\n",
    "model.fit(X_train, y_train, epochs=50, validation_data=(X_val, y_val))"
   ]
  },
  {
   "cell_type": "markdown",
   "metadata": {},
   "source": [
    "## 4. Convolutional Neural Network (CNN)\n",
    "\n",
    "CNN is highly effective for image data, structured to capture spatial hierarchies in images, making them ideal for tasks like digit recognition.\n",
    "\n",
    "### Reshape the Data"
   ]
  },
  {
   "cell_type": "code",
   "execution_count": 17,
   "metadata": {},
   "outputs": [],
   "source": [
    "# Convert DataFrames to NumPy arrays\n",
    "X_train = X_train.to_numpy().reshape(-1, 28, 28, 1)\n",
    "X_val = X_val.to_numpy().reshape(-1, 28, 28, 1)\n",
    "X_test = X_test.to_numpy().reshape(-1, 28, 28, 1)"
   ]
  },
  {
   "cell_type": "markdown",
   "metadata": {},
   "source": [
    "- Why Reshape the Data for CNNs?\n",
    "\n",
    "In this dataset, images are represented as 1D arrays with 784 pixels each (flattened from a 28x28 grid). CNNs, however, work best with 2D arrays, so we need to reshape each image to a 28x28 grid with a depth of 1 (since these are grayscale images).\n",
    "\n",
    "### Defining the CNN Model"
   ]
  },
  {
   "cell_type": "code",
   "execution_count": 20,
   "metadata": {},
   "outputs": [],
   "source": [
    "model = Sequential([\n",
    "    # First layer\n",
    "    Conv2D(32, kernel_size=(3, 3), activation='relu', padding='Same', kernel_regularizer=L2(0.0001), input_shape=(28, 28, 1)),\n",
    "    MaxPooling2D(pool_size=(2, 2)),\n",
    "    Dropout(0.2),\n",
    "    \n",
    "    #Second Layer\n",
    "    Conv2D(64, kernel_size=(3, 3), activation='relu', padding='Same', kernel_regularizer=L2(0.0001)),\n",
    "    MaxPooling2D(pool_size=(2, 2)),\n",
    "    Dropout(0.3),\n",
    "    \n",
    "    # Third layer\n",
    "    Conv2D(128, kernel_size=(3, 3), activation='relu', padding='Same', kernel_regularizer=L2(0.0001)),\n",
    "    MaxPooling2D(pool_size=(2, 2)),\n",
    "    Dropout(0.3),\n",
    "    \n",
    "    Flatten(),\n",
    "    \n",
    "    # Fully connected layer\n",
    "    Dense(64, activation='relu', kernel_regularizer=L2(0.0001)),\n",
    "    Dropout(0.2),\n",
    "    \n",
    "    # Output layer\n",
    "    Dense(10, activation='softmax')\n",
    "])"
   ]
  },
  {
   "cell_type": "markdown",
   "metadata": {},
   "source": [
    "<span style=\"font-weight: bold\">Convolutional Layers and Pooling</span>\n",
    "\n",
    "1. First Convolotuinal Layer:\n",
    "    - <span style=\"font-weight: bold\">Conv2D(32, kernel_size=(3, 3))</span>: Applies 32 filters (small 3x3 matrices) across the image. Each filter can capture a distinct feature, such as edges or textures.\n",
    "    - <span style=\"font-weight: bold\">activation='relu'</span>: ReLU activation makes the model learn non-linear features.\n",
    "    - <span style=\"font-weight: bold\">padding='Same'</span>: Adds padding to keep the output size the same as the input size.\n",
    "    - <span style=\"font-weight: bold\">kernel_regularizer=L2(0.0001)</span>: L2 regularization helps reduce overfitting.\n",
    "    - <span style=\"font-weight: bold\">input_shape=(28, 28, 1)</span>: Specifies the input format (height, width, channels).\n",
    "\n",
    "2. MaxPooling Layer:\n",
    "    - Reduces the spatial dimensions of the feature maps by selecting the maximum value in each 2x2 window. This helps capture the most important features and reduces computation.\n",
    "\n",
    "3. Dropout Layer:\n",
    "    - Randomly drops 20% of the neurons during training, which helps prevent overfitting.\n",
    "\n",
    "Each <span style=\"font-weight: bold\">convolutional + pooling + dropout</span> block follows a similar structure but with an increasing number of filters in each convolutional layer. This allows the model to progressively learn more complex features.\n",
    "\n",
    "<span style=\"font-weight: bold\">Flatten and Dense Layers</span>\n",
    "\n",
    "1. Flatten Layer:\n",
    "    - Converts the 2D output of the final convolutional layer into a 1D vector, preparing it for the fully connected (dense) layers.\n",
    "\n",
    "2. Dense Layer:\n",
    "    - 64 neurons with ReLU activation, L2 regularization is applied to reduce overfitting.\n",
    "\n",
    "3. Dropout Layer:\n",
    "    - Drops 20% of the neurons to help prevent overfitting.\n",
    "\n",
    "4. Output Layer:\n",
    "    - 10 neurons with softmax activation\n",
    "\n",
    "### Compiling and Training the Model"
   ]
  },
  {
   "cell_type": "code",
   "execution_count": 21,
   "metadata": {},
   "outputs": [
    {
     "name": "stdout",
     "output_type": "stream",
     "text": [
      "Epoch 1/50\n",
      "\u001b[1m1182/1182\u001b[0m \u001b[32m━━━━━━━━━━━━━━━━━━━━\u001b[0m\u001b[37m\u001b[0m \u001b[1m13s\u001b[0m 9ms/step - accuracy: 0.4787 - loss: 1.5297 - val_accuracy: 0.9433 - val_loss: 0.2257\n",
      "Epoch 2/50\n",
      "\u001b[1m1182/1182\u001b[0m \u001b[32m━━━━━━━━━━━━━━━━━━━━\u001b[0m\u001b[37m\u001b[0m \u001b[1m11s\u001b[0m 10ms/step - accuracy: 0.9082 - loss: 0.3163 - val_accuracy: 0.9626 - val_loss: 0.1593\n",
      "Epoch 3/50\n",
      "\u001b[1m1182/1182\u001b[0m \u001b[32m━━━━━━━━━━━━━━━━━━━━\u001b[0m\u001b[37m\u001b[0m \u001b[1m12s\u001b[0m 10ms/step - accuracy: 0.9344 - loss: 0.2440 - val_accuracy: 0.9700 - val_loss: 0.1299\n",
      "Epoch 4/50\n",
      "\u001b[1m1182/1182\u001b[0m \u001b[32m━━━━━━━━━━━━━━━━━━━━\u001b[0m\u001b[37m\u001b[0m \u001b[1m12s\u001b[0m 10ms/step - accuracy: 0.9461 - loss: 0.2011 - val_accuracy: 0.9752 - val_loss: 0.1142\n",
      "Epoch 5/50\n",
      "\u001b[1m1182/1182\u001b[0m \u001b[32m━━━━━━━━━━━━━━━━━━━━\u001b[0m\u001b[37m\u001b[0m \u001b[1m12s\u001b[0m 10ms/step - accuracy: 0.9530 - loss: 0.1760 - val_accuracy: 0.9771 - val_loss: 0.1061\n",
      "Epoch 6/50\n",
      "\u001b[1m1182/1182\u001b[0m \u001b[32m━━━━━━━━━━━━━━━━━━━━\u001b[0m\u001b[37m\u001b[0m \u001b[1m12s\u001b[0m 10ms/step - accuracy: 0.9614 - loss: 0.1564 - val_accuracy: 0.9790 - val_loss: 0.0968\n",
      "Epoch 7/50\n",
      "\u001b[1m1182/1182\u001b[0m \u001b[32m━━━━━━━━━━━━━━━━━━━━\u001b[0m\u001b[37m\u001b[0m \u001b[1m12s\u001b[0m 11ms/step - accuracy: 0.9669 - loss: 0.1350 - val_accuracy: 0.9819 - val_loss: 0.0889\n",
      "Epoch 8/50\n",
      "\u001b[1m1182/1182\u001b[0m \u001b[32m━━━━━━━━━━━━━━━━━━━━\u001b[0m\u001b[37m\u001b[0m \u001b[1m12s\u001b[0m 11ms/step - accuracy: 0.9691 - loss: 0.1290 - val_accuracy: 0.9838 - val_loss: 0.0839\n",
      "Epoch 9/50\n",
      "\u001b[1m1182/1182\u001b[0m \u001b[32m━━━━━━━━━━━━━━━━━━━━\u001b[0m\u001b[37m\u001b[0m \u001b[1m12s\u001b[0m 10ms/step - accuracy: 0.9724 - loss: 0.1223 - val_accuracy: 0.9843 - val_loss: 0.0791\n",
      "Epoch 10/50\n",
      "\u001b[1m1182/1182\u001b[0m \u001b[32m━━━━━━━━━━━━━━━━━━━━\u001b[0m\u001b[37m\u001b[0m \u001b[1m13s\u001b[0m 11ms/step - accuracy: 0.9749 - loss: 0.1110 - val_accuracy: 0.9869 - val_loss: 0.0745\n",
      "Epoch 11/50\n",
      "\u001b[1m1182/1182\u001b[0m \u001b[32m━━━━━━━━━━━━━━━━━━━━\u001b[0m\u001b[37m\u001b[0m \u001b[1m13s\u001b[0m 11ms/step - accuracy: 0.9749 - loss: 0.1078 - val_accuracy: 0.9862 - val_loss: 0.0748\n",
      "Epoch 12/50\n",
      "\u001b[1m1182/1182\u001b[0m \u001b[32m━━━━━━━━━━━━━━━━━━━━\u001b[0m\u001b[37m\u001b[0m \u001b[1m13s\u001b[0m 11ms/step - accuracy: 0.9789 - loss: 0.0995 - val_accuracy: 0.9876 - val_loss: 0.0713\n",
      "Epoch 13/50\n",
      "\u001b[1m1182/1182\u001b[0m \u001b[32m━━━━━━━━━━━━━━━━━━━━\u001b[0m\u001b[37m\u001b[0m \u001b[1m13s\u001b[0m 11ms/step - accuracy: 0.9801 - loss: 0.0951 - val_accuracy: 0.9864 - val_loss: 0.0711\n",
      "Epoch 14/50\n",
      "\u001b[1m1182/1182\u001b[0m \u001b[32m━━━━━━━━━━━━━━━━━━━━\u001b[0m\u001b[37m\u001b[0m \u001b[1m13s\u001b[0m 11ms/step - accuracy: 0.9794 - loss: 0.0950 - val_accuracy: 0.9883 - val_loss: 0.0690\n",
      "Epoch 15/50\n",
      "\u001b[1m1182/1182\u001b[0m \u001b[32m━━━━━━━━━━━━━━━━━━━━\u001b[0m\u001b[37m\u001b[0m \u001b[1m12s\u001b[0m 10ms/step - accuracy: 0.9808 - loss: 0.0901 - val_accuracy: 0.9871 - val_loss: 0.0685\n",
      "Epoch 16/50\n",
      "\u001b[1m1182/1182\u001b[0m \u001b[32m━━━━━━━━━━━━━━━━━━━━\u001b[0m\u001b[37m\u001b[0m \u001b[1m12s\u001b[0m 10ms/step - accuracy: 0.9822 - loss: 0.0857 - val_accuracy: 0.9890 - val_loss: 0.0656\n",
      "Epoch 17/50\n",
      "\u001b[1m1182/1182\u001b[0m \u001b[32m━━━━━━━━━━━━━━━━━━━━\u001b[0m\u001b[37m\u001b[0m \u001b[1m12s\u001b[0m 10ms/step - accuracy: 0.9834 - loss: 0.0844 - val_accuracy: 0.9893 - val_loss: 0.0640\n",
      "Epoch 18/50\n",
      "\u001b[1m1182/1182\u001b[0m \u001b[32m━━━━━━━━━━━━━━━━━━━━\u001b[0m\u001b[37m\u001b[0m \u001b[1m12s\u001b[0m 10ms/step - accuracy: 0.9830 - loss: 0.0823 - val_accuracy: 0.9898 - val_loss: 0.0631\n",
      "Epoch 19/50\n",
      "\u001b[1m1182/1182\u001b[0m \u001b[32m━━━━━━━━━━━━━━━━━━━━\u001b[0m\u001b[37m\u001b[0m \u001b[1m13s\u001b[0m 11ms/step - accuracy: 0.9846 - loss: 0.0790 - val_accuracy: 0.9900 - val_loss: 0.0614\n",
      "Epoch 20/50\n",
      "\u001b[1m1182/1182\u001b[0m \u001b[32m━━━━━━━━━━━━━━━━━━━━\u001b[0m\u001b[37m\u001b[0m \u001b[1m12s\u001b[0m 10ms/step - accuracy: 0.9854 - loss: 0.0765 - val_accuracy: 0.9905 - val_loss: 0.0608\n",
      "Epoch 21/50\n",
      "\u001b[1m1182/1182\u001b[0m \u001b[32m━━━━━━━━━━━━━━━━━━━━\u001b[0m\u001b[37m\u001b[0m \u001b[1m13s\u001b[0m 11ms/step - accuracy: 0.9873 - loss: 0.0727 - val_accuracy: 0.9902 - val_loss: 0.0626\n",
      "Epoch 22/50\n",
      "\u001b[1m1182/1182\u001b[0m \u001b[32m━━━━━━━━━━━━━━━━━━━━\u001b[0m\u001b[37m\u001b[0m \u001b[1m13s\u001b[0m 11ms/step - accuracy: 0.9857 - loss: 0.0730 - val_accuracy: 0.9902 - val_loss: 0.0596\n",
      "Epoch 23/50\n",
      "\u001b[1m1182/1182\u001b[0m \u001b[32m━━━━━━━━━━━━━━━━━━━━\u001b[0m\u001b[37m\u001b[0m \u001b[1m12s\u001b[0m 11ms/step - accuracy: 0.9873 - loss: 0.0715 - val_accuracy: 0.9900 - val_loss: 0.0608\n",
      "Epoch 24/50\n",
      "\u001b[1m1182/1182\u001b[0m \u001b[32m━━━━━━━━━━━━━━━━━━━━\u001b[0m\u001b[37m\u001b[0m \u001b[1m13s\u001b[0m 11ms/step - accuracy: 0.9862 - loss: 0.0705 - val_accuracy: 0.9912 - val_loss: 0.0593\n",
      "Epoch 25/50\n",
      "\u001b[1m1182/1182\u001b[0m \u001b[32m━━━━━━━━━━━━━━━━━━━━\u001b[0m\u001b[37m\u001b[0m \u001b[1m14s\u001b[0m 11ms/step - accuracy: 0.9876 - loss: 0.0675 - val_accuracy: 0.9905 - val_loss: 0.0581\n",
      "Epoch 26/50\n",
      "\u001b[1m1182/1182\u001b[0m \u001b[32m━━━━━━━━━━━━━━━━━━━━\u001b[0m\u001b[37m\u001b[0m \u001b[1m13s\u001b[0m 11ms/step - accuracy: 0.9882 - loss: 0.0658 - val_accuracy: 0.9910 - val_loss: 0.0571\n",
      "Epoch 27/50\n",
      "\u001b[1m1182/1182\u001b[0m \u001b[32m━━━━━━━━━━━━━━━━━━━━\u001b[0m\u001b[37m\u001b[0m \u001b[1m12s\u001b[0m 10ms/step - accuracy: 0.9874 - loss: 0.0688 - val_accuracy: 0.9914 - val_loss: 0.0571\n",
      "Epoch 28/50\n",
      "\u001b[1m1182/1182\u001b[0m \u001b[32m━━━━━━━━━━━━━━━━━━━━\u001b[0m\u001b[37m\u001b[0m \u001b[1m12s\u001b[0m 10ms/step - accuracy: 0.9887 - loss: 0.0656 - val_accuracy: 0.9912 - val_loss: 0.0560\n",
      "Epoch 29/50\n",
      "\u001b[1m1182/1182\u001b[0m \u001b[32m━━━━━━━━━━━━━━━━━━━━\u001b[0m\u001b[37m\u001b[0m \u001b[1m13s\u001b[0m 11ms/step - accuracy: 0.9883 - loss: 0.0663 - val_accuracy: 0.9919 - val_loss: 0.0551\n",
      "Epoch 30/50\n",
      "\u001b[1m1182/1182\u001b[0m \u001b[32m━━━━━━━━━━━━━━━━━━━━\u001b[0m\u001b[37m\u001b[0m \u001b[1m13s\u001b[0m 11ms/step - accuracy: 0.9883 - loss: 0.0655 - val_accuracy: 0.9921 - val_loss: 0.0533\n",
      "Epoch 31/50\n",
      "\u001b[1m1182/1182\u001b[0m \u001b[32m━━━━━━━━━━━━━━━━━━━━\u001b[0m\u001b[37m\u001b[0m \u001b[1m13s\u001b[0m 11ms/step - accuracy: 0.9881 - loss: 0.0656 - val_accuracy: 0.9902 - val_loss: 0.0576\n",
      "Epoch 32/50\n",
      "\u001b[1m1182/1182\u001b[0m \u001b[32m━━━━━━━━━━━━━━━━━━━━\u001b[0m\u001b[37m\u001b[0m \u001b[1m13s\u001b[0m 11ms/step - accuracy: 0.9890 - loss: 0.0615 - val_accuracy: 0.9917 - val_loss: 0.0548\n",
      "Epoch 33/50\n",
      "\u001b[1m1182/1182\u001b[0m \u001b[32m━━━━━━━━━━━━━━━━━━━━\u001b[0m\u001b[37m\u001b[0m \u001b[1m12s\u001b[0m 10ms/step - accuracy: 0.9904 - loss: 0.0571 - val_accuracy: 0.9921 - val_loss: 0.0553\n",
      "Epoch 34/50\n",
      "\u001b[1m1182/1182\u001b[0m \u001b[32m━━━━━━━━━━━━━━━━━━━━\u001b[0m\u001b[37m\u001b[0m \u001b[1m12s\u001b[0m 10ms/step - accuracy: 0.9894 - loss: 0.0593 - val_accuracy: 0.9902 - val_loss: 0.0565\n",
      "Epoch 35/50\n",
      "\u001b[1m1182/1182\u001b[0m \u001b[32m━━━━━━━━━━━━━━━━━━━━\u001b[0m\u001b[37m\u001b[0m \u001b[1m12s\u001b[0m 10ms/step - accuracy: 0.9895 - loss: 0.0607 - val_accuracy: 0.9921 - val_loss: 0.0529\n",
      "Epoch 36/50\n",
      "\u001b[1m1182/1182\u001b[0m \u001b[32m━━━━━━━━━━━━━━━━━━━━\u001b[0m\u001b[37m\u001b[0m \u001b[1m12s\u001b[0m 10ms/step - accuracy: 0.9903 - loss: 0.0598 - val_accuracy: 0.9926 - val_loss: 0.0524\n",
      "Epoch 37/50\n",
      "\u001b[1m1182/1182\u001b[0m \u001b[32m━━━━━━━━━━━━━━━━━━━━\u001b[0m\u001b[37m\u001b[0m \u001b[1m13s\u001b[0m 11ms/step - accuracy: 0.9904 - loss: 0.0570 - val_accuracy: 0.9912 - val_loss: 0.0556\n",
      "Epoch 38/50\n",
      "\u001b[1m1182/1182\u001b[0m \u001b[32m━━━━━━━━━━━━━━━━━━━━\u001b[0m\u001b[37m\u001b[0m \u001b[1m13s\u001b[0m 11ms/step - accuracy: 0.9908 - loss: 0.0551 - val_accuracy: 0.9938 - val_loss: 0.0517\n",
      "Epoch 39/50\n",
      "\u001b[1m1182/1182\u001b[0m \u001b[32m━━━━━━━━━━━━━━━━━━━━\u001b[0m\u001b[37m\u001b[0m \u001b[1m13s\u001b[0m 11ms/step - accuracy: 0.9908 - loss: 0.0560 - val_accuracy: 0.9926 - val_loss: 0.0522\n",
      "Epoch 40/50\n",
      "\u001b[1m1182/1182\u001b[0m \u001b[32m━━━━━━━━━━━━━━━━━━━━\u001b[0m\u001b[37m\u001b[0m \u001b[1m13s\u001b[0m 11ms/step - accuracy: 0.9915 - loss: 0.0545 - val_accuracy: 0.9919 - val_loss: 0.0526\n",
      "Epoch 41/50\n",
      "\u001b[1m1182/1182\u001b[0m \u001b[32m━━━━━━━━━━━━━━━━━━━━\u001b[0m\u001b[37m\u001b[0m \u001b[1m14s\u001b[0m 11ms/step - accuracy: 0.9918 - loss: 0.0541 - val_accuracy: 0.9931 - val_loss: 0.0521\n",
      "Epoch 42/50\n",
      "\u001b[1m1182/1182\u001b[0m \u001b[32m━━━━━━━━━━━━━━━━━━━━\u001b[0m\u001b[37m\u001b[0m \u001b[1m13s\u001b[0m 11ms/step - accuracy: 0.9908 - loss: 0.0548 - val_accuracy: 0.9919 - val_loss: 0.0544\n",
      "Epoch 43/50\n",
      "\u001b[1m1182/1182\u001b[0m \u001b[32m━━━━━━━━━━━━━━━━━━━━\u001b[0m\u001b[37m\u001b[0m \u001b[1m13s\u001b[0m 11ms/step - accuracy: 0.9913 - loss: 0.0544 - val_accuracy: 0.9926 - val_loss: 0.0524\n",
      "Epoch 44/50\n",
      "\u001b[1m1182/1182\u001b[0m \u001b[32m━━━━━━━━━━━━━━━━━━━━\u001b[0m\u001b[37m\u001b[0m \u001b[1m13s\u001b[0m 11ms/step - accuracy: 0.9928 - loss: 0.0506 - val_accuracy: 0.9929 - val_loss: 0.0514\n",
      "Epoch 45/50\n",
      "\u001b[1m1182/1182\u001b[0m \u001b[32m━━━━━━━━━━━━━━━━━━━━\u001b[0m\u001b[37m\u001b[0m \u001b[1m13s\u001b[0m 11ms/step - accuracy: 0.9906 - loss: 0.0519 - val_accuracy: 0.9919 - val_loss: 0.0533\n",
      "Epoch 46/50\n",
      "\u001b[1m1182/1182\u001b[0m \u001b[32m━━━━━━━━━━━━━━━━━━━━\u001b[0m\u001b[37m\u001b[0m \u001b[1m12s\u001b[0m 11ms/step - accuracy: 0.9922 - loss: 0.0501 - val_accuracy: 0.9921 - val_loss: 0.0547\n",
      "Epoch 47/50\n",
      "\u001b[1m1182/1182\u001b[0m \u001b[32m━━━━━━━━━━━━━━━━━━━━\u001b[0m\u001b[37m\u001b[0m \u001b[1m12s\u001b[0m 10ms/step - accuracy: 0.9925 - loss: 0.0493 - val_accuracy: 0.9919 - val_loss: 0.0527\n",
      "Epoch 48/50\n",
      "\u001b[1m1182/1182\u001b[0m \u001b[32m━━━━━━━━━━━━━━━━━━━━\u001b[0m\u001b[37m\u001b[0m \u001b[1m12s\u001b[0m 10ms/step - accuracy: 0.9922 - loss: 0.0502 - val_accuracy: 0.9907 - val_loss: 0.0524\n",
      "Epoch 49/50\n",
      "\u001b[1m1182/1182\u001b[0m \u001b[32m━━━━━━━━━━━━━━━━━━━━\u001b[0m\u001b[37m\u001b[0m \u001b[1m12s\u001b[0m 11ms/step - accuracy: 0.9921 - loss: 0.0510 - val_accuracy: 0.9933 - val_loss: 0.0500\n",
      "Epoch 50/50\n",
      "\u001b[1m1182/1182\u001b[0m \u001b[32m━━━━━━━━━━━━━━━━━━━━\u001b[0m\u001b[37m\u001b[0m \u001b[1m13s\u001b[0m 11ms/step - accuracy: 0.9925 - loss: 0.0500 - val_accuracy: 0.9912 - val_loss: 0.0511\n"
     ]
    },
    {
     "data": {
      "text/plain": [
       "<keras.src.callbacks.history.History at 0x1c129d86e30>"
      ]
     },
     "execution_count": 21,
     "metadata": {},
     "output_type": "execute_result"
    }
   ],
   "source": [
    "model.compile(\n",
    "    optimizer=Adam(learning_rate=1e-4),   \n",
    "    loss=SparseCategoricalCrossentropy(),\n",
    "    metrics=['accuracy']\n",
    ")\n",
    "\n",
    "model.fit(X_train, y_train, epochs=50, validation_data=(X_val, y_val))"
   ]
  },
  {
   "cell_type": "markdown",
   "metadata": {},
   "source": [
    "### Data Augmentation\n",
    "\n",
    "Data augmentation generates new, slightly altered versions of images by applying random transformations. This process expands the training dataset and makes the model more robust to variations in real-world data, such as rotated, shifted, or zoomed-in digits. For digit recognition, these variations are especially helpful because handwritten digits can appear with slight distortions. By using these small transformations, the model gains robustness and learns more generalizable features, reducing the chance of overfitting."
   ]
  },
  {
   "cell_type": "code",
   "execution_count": 24,
   "metadata": {},
   "outputs": [],
   "source": [
    "datagen = ImageDataGenerator(\n",
    "    rotation_range=5,\n",
    "    zoom_range=0.1,\n",
    "    width_shift_range=0.1,\n",
    "    height_shift_range=0.1\n",
    ")\n",
    "\n",
    "datagen.fit(X_train)"
   ]
  },
  {
   "cell_type": "markdown",
   "metadata": {},
   "source": [
    "### Defining the CNN Model with Batch Normalization"
   ]
  },
  {
   "cell_type": "code",
   "execution_count": 25,
   "metadata": {},
   "outputs": [],
   "source": [
    "model = Sequential([\n",
    "    # First convolutional block\n",
    "    Conv2D(64, kernel_size=(3, 3), activation='relu', padding='Same', kernel_regularizer=L2(0.0001), input_shape=(28, 28, 1)),\n",
    "    BatchNormalization(),\n",
    "    MaxPooling2D(pool_size=(2, 2)),\n",
    "    Dropout(0.3),\n",
    "    \n",
    "    #Second convolutional block\n",
    "    Conv2D(128, kernel_size=(3, 3), activation='relu', padding='Same', kernel_regularizer=L2(0.0001)),\n",
    "    BatchNormalization(),\n",
    "    MaxPooling2D(pool_size=(2, 2)),\n",
    "    Dropout(0.3),\n",
    "    \n",
    "    # Third convolutional block\n",
    "    Conv2D(256, kernel_size=(3, 3), activation='relu', padding='Same', kernel_regularizer=L2(0.0001)),\n",
    "    BatchNormalization(),\n",
    "    MaxPooling2D(pool_size=(2, 2)),\n",
    "    Dropout(0.4),\n",
    "    \n",
    "    # Flatten and fully connected layers\n",
    "    Flatten(),\n",
    "    Dense(128, activation='relu', kernel_regularizer=L2(0.0001)),\n",
    "    Dropout(0.4),\n",
    "    Dense(64, activation='relu', kernel_regularizer=L2(0.0001)),\n",
    "    Dropout(0.3),\n",
    "    \n",
    "    # Output layer\n",
    "    Dense(10, activation='softmax')\n",
    "])"
   ]
  },
  {
   "cell_type": "markdown",
   "metadata": {},
   "source": [
    "### Compiling and Training the Model"
   ]
  },
  {
   "cell_type": "code",
   "execution_count": 26,
   "metadata": {},
   "outputs": [
    {
     "name": "stdout",
     "output_type": "stream",
     "text": [
      "Epoch 1/50\n",
      "\u001b[1m1182/1182\u001b[0m \u001b[32m━━━━━━━━━━━━━━━━━━━━\u001b[0m\u001b[37m\u001b[0m \u001b[1m55s\u001b[0m 44ms/step - accuracy: 0.2394 - loss: 2.3610 - val_accuracy: 0.9124 - val_loss: 0.4081\n",
      "Epoch 2/50\n",
      "\u001b[1m1182/1182\u001b[0m \u001b[32m━━━━━━━━━━━━━━━━━━━━\u001b[0m\u001b[37m\u001b[0m \u001b[1m55s\u001b[0m 47ms/step - accuracy: 0.7042 - loss: 0.9476 - val_accuracy: 0.9610 - val_loss: 0.1870\n",
      "Epoch 3/50\n",
      "\u001b[1m1182/1182\u001b[0m \u001b[32m━━━━━━━━━━━━━━━━━━━━\u001b[0m\u001b[37m\u001b[0m \u001b[1m52s\u001b[0m 44ms/step - accuracy: 0.8526 - loss: 0.5462 - val_accuracy: 0.9724 - val_loss: 0.1460\n",
      "Epoch 4/50\n",
      "\u001b[1m1182/1182\u001b[0m \u001b[32m━━━━━━━━━━━━━━━━━━━━\u001b[0m\u001b[37m\u001b[0m \u001b[1m52s\u001b[0m 44ms/step - accuracy: 0.9010 - loss: 0.3919 - val_accuracy: 0.9836 - val_loss: 0.1147\n",
      "Epoch 5/50\n",
      "\u001b[1m1182/1182\u001b[0m \u001b[32m━━━━━━━━━━━━━━━━━━━━\u001b[0m\u001b[37m\u001b[0m \u001b[1m52s\u001b[0m 44ms/step - accuracy: 0.9247 - loss: 0.3189 - val_accuracy: 0.9821 - val_loss: 0.1138\n",
      "Epoch 6/50\n",
      "\u001b[1m1182/1182\u001b[0m \u001b[32m━━━━━━━━━━━━━━━━━━━━\u001b[0m\u001b[37m\u001b[0m \u001b[1m53s\u001b[0m 45ms/step - accuracy: 0.9421 - loss: 0.2703 - val_accuracy: 0.9874 - val_loss: 0.0997\n",
      "Epoch 7/50\n",
      "\u001b[1m1182/1182\u001b[0m \u001b[32m━━━━━━━━━━━━━━━━━━━━\u001b[0m\u001b[37m\u001b[0m \u001b[1m53s\u001b[0m 45ms/step - accuracy: 0.9511 - loss: 0.2429 - val_accuracy: 0.9898 - val_loss: 0.0978\n",
      "Epoch 8/50\n",
      "\u001b[1m1182/1182\u001b[0m \u001b[32m━━━━━━━━━━━━━━━━━━━━\u001b[0m\u001b[37m\u001b[0m \u001b[1m53s\u001b[0m 45ms/step - accuracy: 0.9556 - loss: 0.2188 - val_accuracy: 0.9864 - val_loss: 0.1017\n",
      "Epoch 9/50\n",
      "\u001b[1m1182/1182\u001b[0m \u001b[32m━━━━━━━━━━━━━━━━━━━━\u001b[0m\u001b[37m\u001b[0m \u001b[1m53s\u001b[0m 45ms/step - accuracy: 0.9615 - loss: 0.1970 - val_accuracy: 0.9895 - val_loss: 0.0942\n",
      "Epoch 10/50\n",
      "\u001b[1m1182/1182\u001b[0m \u001b[32m━━━━━━━━━━━━━━━━━━━━\u001b[0m\u001b[37m\u001b[0m \u001b[1m54s\u001b[0m 45ms/step - accuracy: 0.9641 - loss: 0.1899 - val_accuracy: 0.9919 - val_loss: 0.0884\n",
      "Epoch 11/50\n",
      "\u001b[1m1182/1182\u001b[0m \u001b[32m━━━━━━━━━━━━━━━━━━━━\u001b[0m\u001b[37m\u001b[0m \u001b[1m54s\u001b[0m 45ms/step - accuracy: 0.9674 - loss: 0.1772 - val_accuracy: 0.9900 - val_loss: 0.0863\n",
      "Epoch 12/50\n",
      "\u001b[1m1182/1182\u001b[0m \u001b[32m━━━━━━━━━━━━━━━━━━━━\u001b[0m\u001b[37m\u001b[0m \u001b[1m55s\u001b[0m 46ms/step - accuracy: 0.9703 - loss: 0.1715 - val_accuracy: 0.9886 - val_loss: 0.0984\n",
      "Epoch 13/50\n",
      "\u001b[1m1182/1182\u001b[0m \u001b[32m━━━━━━━━━━━━━━━━━━━━\u001b[0m\u001b[37m\u001b[0m \u001b[1m54s\u001b[0m 46ms/step - accuracy: 0.9737 - loss: 0.1554 - val_accuracy: 0.9907 - val_loss: 0.0877\n",
      "Epoch 14/50\n",
      "\u001b[1m1182/1182\u001b[0m \u001b[32m━━━━━━━━━━━━━━━━━━━━\u001b[0m\u001b[37m\u001b[0m \u001b[1m55s\u001b[0m 46ms/step - accuracy: 0.9730 - loss: 0.1608 - val_accuracy: 0.9921 - val_loss: 0.0828\n",
      "Epoch 15/50\n",
      "\u001b[1m1182/1182\u001b[0m \u001b[32m━━━━━━━━━━━━━━━━━━━━\u001b[0m\u001b[37m\u001b[0m \u001b[1m55s\u001b[0m 46ms/step - accuracy: 0.9744 - loss: 0.1492 - val_accuracy: 0.9902 - val_loss: 0.0880\n",
      "Epoch 16/50\n",
      "\u001b[1m1182/1182\u001b[0m \u001b[32m━━━━━━━━━━━━━━━━━━━━\u001b[0m\u001b[37m\u001b[0m \u001b[1m55s\u001b[0m 46ms/step - accuracy: 0.9775 - loss: 0.1409 - val_accuracy: 0.9924 - val_loss: 0.0844\n",
      "Epoch 17/50\n",
      "\u001b[1m1182/1182\u001b[0m \u001b[32m━━━━━━━━━━━━━━━━━━━━\u001b[0m\u001b[37m\u001b[0m \u001b[1m54s\u001b[0m 46ms/step - accuracy: 0.9782 - loss: 0.1358 - val_accuracy: 0.9921 - val_loss: 0.0822\n",
      "Epoch 18/50\n",
      "\u001b[1m1182/1182\u001b[0m \u001b[32m━━━━━━━━━━━━━━━━━━━━\u001b[0m\u001b[37m\u001b[0m \u001b[1m56s\u001b[0m 47ms/step - accuracy: 0.9801 - loss: 0.1287 - val_accuracy: 0.9910 - val_loss: 0.0849\n",
      "Epoch 19/50\n",
      "\u001b[1m1182/1182\u001b[0m \u001b[32m━━━━━━━━━━━━━━━━━━━━\u001b[0m\u001b[37m\u001b[0m \u001b[1m54s\u001b[0m 46ms/step - accuracy: 0.9769 - loss: 0.1366 - val_accuracy: 0.9929 - val_loss: 0.0803\n",
      "Epoch 20/50\n",
      "\u001b[1m1182/1182\u001b[0m \u001b[32m━━━━━━━━━━━━━━━━━━━━\u001b[0m\u001b[37m\u001b[0m \u001b[1m55s\u001b[0m 46ms/step - accuracy: 0.9799 - loss: 0.1326 - val_accuracy: 0.9924 - val_loss: 0.0835\n",
      "Epoch 21/50\n",
      "\u001b[1m1182/1182\u001b[0m \u001b[32m━━━━━━━━━━━━━━━━━━━━\u001b[0m\u001b[37m\u001b[0m \u001b[1m54s\u001b[0m 46ms/step - accuracy: 0.9798 - loss: 0.1344 - val_accuracy: 0.9936 - val_loss: 0.0799\n",
      "Epoch 22/50\n",
      "\u001b[1m1182/1182\u001b[0m \u001b[32m━━━━━━━━━━━━━━━━━━━━\u001b[0m\u001b[37m\u001b[0m \u001b[1m55s\u001b[0m 46ms/step - accuracy: 0.9822 - loss: 0.1257 - val_accuracy: 0.9924 - val_loss: 0.0820\n",
      "Epoch 23/50\n",
      "\u001b[1m1182/1182\u001b[0m \u001b[32m━━━━━━━━━━━━━━━━━━━━\u001b[0m\u001b[37m\u001b[0m \u001b[1m56s\u001b[0m 47ms/step - accuracy: 0.9834 - loss: 0.1187 - val_accuracy: 0.9933 - val_loss: 0.0813\n",
      "Epoch 24/50\n",
      "\u001b[1m1182/1182\u001b[0m \u001b[32m━━━━━━━━━━━━━━━━━━━━\u001b[0m\u001b[37m\u001b[0m \u001b[1m57s\u001b[0m 49ms/step - accuracy: 0.9823 - loss: 0.1183 - val_accuracy: 0.9931 - val_loss: 0.0797\n",
      "Epoch 25/50\n",
      "\u001b[1m1182/1182\u001b[0m \u001b[32m━━━━━━━━━━━━━━━━━━━━\u001b[0m\u001b[37m\u001b[0m \u001b[1m56s\u001b[0m 47ms/step - accuracy: 0.9836 - loss: 0.1166 - val_accuracy: 0.9950 - val_loss: 0.0759\n",
      "Epoch 26/50\n",
      "\u001b[1m1182/1182\u001b[0m \u001b[32m━━━━━━━━━━━━━━━━━━━━\u001b[0m\u001b[37m\u001b[0m \u001b[1m54s\u001b[0m 46ms/step - accuracy: 0.9827 - loss: 0.1178 - val_accuracy: 0.9938 - val_loss: 0.0785\n",
      "Epoch 27/50\n",
      "\u001b[1m1182/1182\u001b[0m \u001b[32m━━━━━━━━━━━━━━━━━━━━\u001b[0m\u001b[37m\u001b[0m \u001b[1m58s\u001b[0m 49ms/step - accuracy: 0.9833 - loss: 0.1138 - val_accuracy: 0.9929 - val_loss: 0.0790\n",
      "Epoch 28/50\n",
      "\u001b[1m1182/1182\u001b[0m \u001b[32m━━━━━━━━━━━━━━━━━━━━\u001b[0m\u001b[37m\u001b[0m \u001b[1m58s\u001b[0m 49ms/step - accuracy: 0.9837 - loss: 0.1131 - val_accuracy: 0.9943 - val_loss: 0.0790\n",
      "Epoch 29/50\n",
      "\u001b[1m1182/1182\u001b[0m \u001b[32m━━━━━━━━━━━━━━━━━━━━\u001b[0m\u001b[37m\u001b[0m \u001b[1m57s\u001b[0m 48ms/step - accuracy: 0.9843 - loss: 0.1140 - val_accuracy: 0.9936 - val_loss: 0.0796\n",
      "Epoch 30/50\n",
      "\u001b[1m1182/1182\u001b[0m \u001b[32m━━━━━━━━━━━━━━━━━━━━\u001b[0m\u001b[37m\u001b[0m \u001b[1m57s\u001b[0m 48ms/step - accuracy: 0.9861 - loss: 0.1075 - val_accuracy: 0.9931 - val_loss: 0.0774\n",
      "Epoch 31/50\n",
      "\u001b[1m1182/1182\u001b[0m \u001b[32m━━━━━━━━━━━━━━━━━━━━\u001b[0m\u001b[37m\u001b[0m \u001b[1m56s\u001b[0m 47ms/step - accuracy: 0.9851 - loss: 0.1091 - val_accuracy: 0.9929 - val_loss: 0.0774\n",
      "Epoch 32/50\n",
      "\u001b[1m1182/1182\u001b[0m \u001b[32m━━━━━━━━━━━━━━━━━━━━\u001b[0m\u001b[37m\u001b[0m \u001b[1m56s\u001b[0m 47ms/step - accuracy: 0.9863 - loss: 0.1019 - val_accuracy: 0.9929 - val_loss: 0.0787\n",
      "Epoch 33/50\n",
      "\u001b[1m1182/1182\u001b[0m \u001b[32m━━━━━━━━━━━━━━━━━━━━\u001b[0m\u001b[37m\u001b[0m \u001b[1m57s\u001b[0m 48ms/step - accuracy: 0.9868 - loss: 0.0991 - val_accuracy: 0.9926 - val_loss: 0.0806\n",
      "Epoch 34/50\n",
      "\u001b[1m1182/1182\u001b[0m \u001b[32m━━━━━━━━━━━━━━━━━━━━\u001b[0m\u001b[37m\u001b[0m \u001b[1m59s\u001b[0m 50ms/step - accuracy: 0.9856 - loss: 0.1049 - val_accuracy: 0.9924 - val_loss: 0.0779\n",
      "Epoch 35/50\n",
      "\u001b[1m1182/1182\u001b[0m \u001b[32m━━━━━━━━━━━━━━━━━━━━\u001b[0m\u001b[37m\u001b[0m \u001b[1m61s\u001b[0m 51ms/step - accuracy: 0.9858 - loss: 0.1070 - val_accuracy: 0.9933 - val_loss: 0.0749\n",
      "Epoch 36/50\n",
      "\u001b[1m1182/1182\u001b[0m \u001b[32m━━━━━━━━━━━━━━━━━━━━\u001b[0m\u001b[37m\u001b[0m \u001b[1m60s\u001b[0m 51ms/step - accuracy: 0.9868 - loss: 0.0976 - val_accuracy: 0.9938 - val_loss: 0.0722\n",
      "Epoch 37/50\n",
      "\u001b[1m1182/1182\u001b[0m \u001b[32m━━━━━━━━━━━━━━━━━━━━\u001b[0m\u001b[37m\u001b[0m \u001b[1m55s\u001b[0m 47ms/step - accuracy: 0.9862 - loss: 0.1025 - val_accuracy: 0.9938 - val_loss: 0.0742\n",
      "Epoch 38/50\n",
      "\u001b[1m1182/1182\u001b[0m \u001b[32m━━━━━━━━━━━━━━━━━━━━\u001b[0m\u001b[37m\u001b[0m \u001b[1m54s\u001b[0m 46ms/step - accuracy: 0.9879 - loss: 0.0982 - val_accuracy: 0.9945 - val_loss: 0.0707\n",
      "Epoch 39/50\n",
      "\u001b[1m1182/1182\u001b[0m \u001b[32m━━━━━━━━━━━━━━━━━━━━\u001b[0m\u001b[37m\u001b[0m \u001b[1m56s\u001b[0m 47ms/step - accuracy: 0.9866 - loss: 0.0955 - val_accuracy: 0.9943 - val_loss: 0.0740\n",
      "Epoch 40/50\n",
      "\u001b[1m1182/1182\u001b[0m \u001b[32m━━━━━━━━━━━━━━━━━━━━\u001b[0m\u001b[37m\u001b[0m \u001b[1m58s\u001b[0m 49ms/step - accuracy: 0.9874 - loss: 0.0956 - val_accuracy: 0.9936 - val_loss: 0.0748\n",
      "Epoch 41/50\n",
      "\u001b[1m1182/1182\u001b[0m \u001b[32m━━━━━━━━━━━━━━━━━━━━\u001b[0m\u001b[37m\u001b[0m \u001b[1m63s\u001b[0m 54ms/step - accuracy: 0.9888 - loss: 0.0949 - val_accuracy: 0.9943 - val_loss: 0.0746\n",
      "Epoch 42/50\n",
      "\u001b[1m1182/1182\u001b[0m \u001b[32m━━━━━━━━━━━━━━━━━━━━\u001b[0m\u001b[37m\u001b[0m \u001b[1m58s\u001b[0m 49ms/step - accuracy: 0.9884 - loss: 0.0928 - val_accuracy: 0.9929 - val_loss: 0.0737\n",
      "Epoch 43/50\n",
      "\u001b[1m1182/1182\u001b[0m \u001b[32m━━━━━━━━━━━━━━━━━━━━\u001b[0m\u001b[37m\u001b[0m \u001b[1m58s\u001b[0m 49ms/step - accuracy: 0.9888 - loss: 0.0937 - val_accuracy: 0.9945 - val_loss: 0.0734\n",
      "Epoch 44/50\n",
      "\u001b[1m1182/1182\u001b[0m \u001b[32m━━━━━━━━━━━━━━━━━━━━\u001b[0m\u001b[37m\u001b[0m \u001b[1m60s\u001b[0m 51ms/step - accuracy: 0.9875 - loss: 0.0951 - val_accuracy: 0.9926 - val_loss: 0.0742\n",
      "Epoch 45/50\n",
      "\u001b[1m1182/1182\u001b[0m \u001b[32m━━━━━━━━━━━━━━━━━━━━\u001b[0m\u001b[37m\u001b[0m \u001b[1m65s\u001b[0m 55ms/step - accuracy: 0.9880 - loss: 0.0893 - val_accuracy: 0.9950 - val_loss: 0.0696\n",
      "Epoch 46/50\n",
      "\u001b[1m1182/1182\u001b[0m \u001b[32m━━━━━━━━━━━━━━━━━━━━\u001b[0m\u001b[37m\u001b[0m \u001b[1m69s\u001b[0m 58ms/step - accuracy: 0.9894 - loss: 0.0904 - val_accuracy: 0.9933 - val_loss: 0.0729\n",
      "Epoch 47/50\n",
      "\u001b[1m1182/1182\u001b[0m \u001b[32m━━━━━━━━━━━━━━━━━━━━\u001b[0m\u001b[37m\u001b[0m \u001b[1m63s\u001b[0m 54ms/step - accuracy: 0.9874 - loss: 0.0943 - val_accuracy: 0.9943 - val_loss: 0.0713\n",
      "Epoch 48/50\n",
      "\u001b[1m1182/1182\u001b[0m \u001b[32m━━━━━━━━━━━━━━━━━━━━\u001b[0m\u001b[37m\u001b[0m \u001b[1m61s\u001b[0m 51ms/step - accuracy: 0.9877 - loss: 0.0924 - val_accuracy: 0.9943 - val_loss: 0.0689\n",
      "Epoch 49/50\n",
      "\u001b[1m1182/1182\u001b[0m \u001b[32m━━━━━━━━━━━━━━━━━━━━\u001b[0m\u001b[37m\u001b[0m \u001b[1m62s\u001b[0m 52ms/step - accuracy: 0.9887 - loss: 0.0851 - val_accuracy: 0.9955 - val_loss: 0.0688\n",
      "Epoch 50/50\n",
      "\u001b[1m1182/1182\u001b[0m \u001b[32m━━━━━━━━━━━━━━━━━━━━\u001b[0m\u001b[37m\u001b[0m \u001b[1m65s\u001b[0m 55ms/step - accuracy: 0.9888 - loss: 0.0902 - val_accuracy: 0.9943 - val_loss: 0.0701\n"
     ]
    }
   ],
   "source": [
    "model.compile(\n",
    "    optimizer=Adam(learning_rate=1e-4),\n",
    "    loss=SparseCategoricalCrossentropy(),\n",
    "    metrics=['accuracy']\n",
    ")\n",
    "\n",
    "history = model.fit(datagen.flow(X_train, y_train, batch_size=32), epochs=50, validation_data=(X_val, y_val))"
   ]
  },
  {
   "cell_type": "markdown",
   "metadata": {},
   "source": [
    "## 5. Model Evaluation\n",
    "\n",
    "### Plotting Training and Validation Curves\n",
    "\n",
    "The training and validation curves show how the model's accuracy and loss changed over time (epochs). These curves help you spot signs of overfitting or underfitting."
   ]
  },
  {
   "cell_type": "code",
   "execution_count": 38,
   "metadata": {},
   "outputs": [
    {
     "data": {
      "image/png": "[encoded data removed]",
      "text/plain": [
       "<Figure size 640x480 with 1 Axes>"
      ]
     },
     "metadata": {},
     "output_type": "display_data"
    },
    {
     "data": {
      "image/png": "[encoded data removed]",
      "text/plain": [
       "<Figure size 640x480 with 1 Axes>"
      ]
     },
     "metadata": {},
     "output_type": "display_data"
    }
   ],
   "source": [
    "# Accuracy curve\n",
    "fig, ax = plt.subplots()\n",
    "fig.patch.set_facecolor(CFG.background_color)\n",
    "ax.set_facecolor(CFG.background_color)\n",
    "ax.plot(history.history['accuracy'], label='train accuracy', color=CFG.point_color)\n",
    "ax.plot(history.history['val_accuracy'], label='validation accuracy', color='skyblue')\n",
    "legend = ax.legend(facecolor=CFG.background_color, edgecolor=CFG.font_color)\n",
    "plt.setp(legend.get_texts(), color=CFG.font_color)  # Set legend text color to white\n",
    "ax.set_title(\"Training vs Validation Accuracy\", color=CFG.font_color)\n",
    "ax.set_xlabel(\"Epoch\", color=CFG.font_color)\n",
    "ax.set_ylabel(\"Accuracy\", color=CFG.font_color)\n",
    "ax.tick_params(colors=CFG.font_color)\n",
    "for spine in ax.spines.values():\n",
    "    spine.set_visible(False)\n",
    "plt.show()\n",
    "\n",
    "# Loss curve\n",
    "fig, ax = plt.subplots()\n",
    "fig.patch.set_facecolor(CFG.background_color)\n",
    "ax.set_facecolor(CFG.background_color)\n",
    "ax.plot(history.history['loss'], label='train loss', color=CFG.point_color)\n",
    "ax.plot(history.history['val_loss'], label='validation loss', color='skyblue')\n",
    "legend = ax.legend(facecolor=CFG.background_color, edgecolor=CFG.font_color)\n",
    "plt.setp(legend.get_texts(), color=CFG.font_color)  # Set legend text color to white\n",
    "ax.set_title(\"Training vs Validation Loss\", color=CFG.font_color)\n",
    "ax.set_xlabel(\"Epoch\", color=CFG.font_color)\n",
    "ax.set_ylabel(\"Loss\", color=CFG.font_color)\n",
    "ax.tick_params(colors=CFG.font_color)\n",
    "for spine in ax.spines.values():\n",
    "    spine.set_visible(False)\n",
    "plt.show()"
   ]
  },
  {
   "cell_type": "markdown",
   "metadata": {},
   "source": [
    "### Confusion Matrix\n",
    "\n",
    "A confusion matrix provides a detailed view of model performance by showing how many times each digit was correctly or incorrectly predicted. Each row represents the true label, and each column represents the predicted label."
   ]
  },
  {
   "cell_type": "code",
   "execution_count": 45,
   "metadata": {},
   "outputs": [
    {
     "name": "stdout",
     "output_type": "stream",
     "text": [
      "\u001b[1m132/132\u001b[0m \u001b[32m━━━━━━━━━━━━━━━━━━━━\u001b[0m\u001b[37m\u001b[0m \u001b[1m1s\u001b[0m 8ms/step\n"
     ]
    },
    {
     "data": {
      "image/png": "[encoded data removed]",
      "text/plain": [
       "<Figure size 800x600 with 1 Axes>"
      ]
     },
     "metadata": {},
     "output_type": "display_data"
    }
   ],
   "source": [
    "# 1. Make predictions on the validation set\n",
    "y_pred_probs = model.predict(X_val)  # Predict probabilities\n",
    "y_pred = np.argmax(y_pred_probs, axis=1)  # Convert probabilities to class labels\n",
    "\n",
    "# 2. Generate the confusion matrix\n",
    "conf_matrix = confusion_matrix(y_val, y_pred)\n",
    "\n",
    "# 3. Define class names (digits 0 to 9)\n",
    "class_names = [i for i in range(10)]\n",
    "\n",
    "# 4. Plot the confusion matrix\n",
    "custom_cmap = LinearSegmentedColormap.from_list('custom_cmap', [CFG.background_color, CFG.point_color])\n",
    "\n",
    "fig, ax = plt.subplots(figsize=(8, 6))\n",
    "fig.patch.set_facecolor(CFG.background_color)\n",
    "ax.set_facecolor(CFG.background_color)\n",
    "\n",
    "# Use the custom colormap for the heatmap\n",
    "sns.heatmap(conf_matrix, annot=True, fmt='d', cmap=custom_cmap, \n",
    "            xticklabels=class_names, yticklabels=class_names, cbar=False, annot_kws={\"color\": CFG.font_color})\n",
    "\n",
    "# Set the colors for labels and ticks\n",
    "ax.set_xlabel('Predicted Label', color=CFG.font_color)\n",
    "ax.set_ylabel('True Label', color=CFG.font_color)\n",
    "ax.set_title('Confusion Matrix', color=CFG.font_color)\n",
    "ax.tick_params(axis='x', colors=CFG.font_color)\n",
    "ax.tick_params(axis='y', colors=CFG.font_color)\n",
    "\n",
    "# Hide spines for a cleaner look\n",
    "for spine in ax.spines.values():\n",
    "    spine.set_visible(False)\n",
    "\n",
    "plt.show()"
   ]
  },
  {
   "cell_type": "markdown",
   "metadata": {},
   "source": [
    "## 6. Predictions"
   ]
  },
  {
   "cell_type": "code",
   "execution_count": 31,
   "metadata": {},
   "outputs": [
    {
     "name": "stdout",
     "output_type": "stream",
     "text": [
      "\u001b[1m219/219\u001b[0m \u001b[32m━━━━━━━━━━━━━━━━━━━━\u001b[0m\u001b[37m\u001b[0m \u001b[1m7s\u001b[0m 33ms/step\n"
     ]
    }
   ],
   "source": [
    "predictions = model.predict(X_test, batch_size=128)"
   ]
  },
  {
   "cell_type": "code",
   "execution_count": 32,
   "metadata": {},
   "outputs": [],
   "source": [
    "predicted_classes = np.argmax(predictions, axis=1)"
   ]
  },
  {
   "cell_type": "code",
   "execution_count": 34,
   "metadata": {},
   "outputs": [],
   "source": [
    "submission_df = pd.DataFrame({\n",
    "    'ImageId': range(1, len(predicted_classes) + 1),\n",
    "    'Label': predicted_classes\n",
    "})\n",
    "submission_df = pd.DataFrame({\n",
    "    'ImageId': range(1, len(predicted_classes) + 1),\n",
    "    'Label': predicted_classes\n",
    "})\n",
    "submission_df.to_csv('submission.csv', index=False)"
   ]
  }
 ],
 "metadata": {
  "kernelspec": {
   "display_name": "venv",
   "language": "python",
   "name": "python3"
  },
  "language_info": {
   "codemirror_mode": {
    "name": "ipython",
    "version": 3
   },
   "file_extension": ".py",
   "mimetype": "text/x-python",
   "name": "python",
   "nbconvert_exporter": "python",
   "pygments_lexer": "ipython3",
   "version": "3.10.11"
  }
 },
 "nbformat": 4,
 "nbformat_minor": 2
}
