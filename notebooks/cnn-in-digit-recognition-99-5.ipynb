{
 "cells": [
  {
   "cell_type": "markdown",
   "id": "55e15218",
   "metadata": {
    "papermill": {
     "duration": 0.01111,
     "end_time": "2024-09-23T20:30:53.905229",
     "exception": false,
     "start_time": "2024-09-23T20:30:53.894119",
     "status": "completed"
    },
    "tags": []
   },
   "source": [
    "<a id=\"1\"></a>\n",
    "# <div style=\"text-align:center; border-radius:15px; padding:15px; margin:0; font-size:180%; font-family:Arial, sans-serif; background-color:#84172D; color:#EDEBEC; overflow:hidden; box-shadow:0 4px 8px rgba(0, 0, 0, 0.3);\"><b> Power of Neural Network in Digit Recognition </b></div>"
   ]
  },
  {
   "cell_type": "markdown",
   "id": "221d40ca",
   "metadata": {
    "papermill": {
     "duration": 0.010134,
     "end_time": "2024-09-23T20:30:53.925889",
     "exception": false,
     "start_time": "2024-09-23T20:30:53.915755",
     "status": "completed"
    },
    "tags": []
   },
   "source": [
    "![ai](https://r2.starryai.com/results/1050111228/f615547a-0894-401a-8e47-ec9a50dd8ed7.webp)"
   ]
  },
  {
   "cell_type": "markdown",
   "id": "8e927c96",
   "metadata": {
    "papermill": {
     "duration": 0.01032,
     "end_time": "2024-09-23T20:30:53.946458",
     "exception": false,
     "start_time": "2024-09-23T20:30:53.936138",
     "status": "completed"
    },
    "tags": []
   },
   "source": [
    "# <div style=\"text-align:center; border-radius:15px; padding:15px; margin:0; font-size:110%; font-family:Arial, sans-serif; background-color:#056C90; color:#EDEBEC; overflow:hidden; box-shadow:0 4px 8px rgba(0, 0, 0, 0.3);\"><b> 1. Introduction </b></div>"
   ]
  },
  {
   "cell_type": "markdown",
   "id": "58b96c3e",
   "metadata": {
    "papermill": {
     "duration": 0.01007,
     "end_time": "2024-09-23T20:30:53.966818",
     "exception": false,
     "start_time": "2024-09-23T20:30:53.956748",
     "status": "completed"
    },
    "tags": []
   },
   "source": [
    "In the rapidly evolving field of artificial intelligence (AI), neural networks have become a powerful tool for solving complex problems, such as digit recognition. This project begins by establishing a baseline using dense neural networks, before transitioning to more advanced convolutional neural networks (CNNs). The aim is to showcase how different types of neural networks can be applied to the MNIST dataset, which contains 28,000 images of handwritten digits, and progressively improve accuracy in digit classification.\n",
    "\n",
    "## Understanding Neural Networks\n",
    "Neural networks are inspired by the structure and function of the human brain. Just as neurons in the brain process information, artificial neurons in a neural network take inputs, process them, and pass on the result. These neurons are organized into layers, where each layer learns progressively more complex patterns in the data.\n",
    "\n",
    "We begin this project with dense (fully connected) neural networks, where each neuron in one layer is connected to every neuron in the next. These layers extract features from the input data (in our case, the pixel values of handwritten digits) and perform non-linear transformations to predict the digit. Dense networks are effective for simple datasets, but they often struggle with image data, where spatial relationships between pixels are key.\n",
    "\n",
    "## From Dense Networks to CNNs\n",
    "While dense neural networks can serve as a strong baseline, convolutional neural networks (CNNs) are far better suited for image classification tasks. CNNs take advantage of the spatial structure of images by applying filters (convolutions) to detect patterns such as edges, curves, and textures, allowing the network to \"see\" the image in a more structured way. These filters automatically learn to detect features at different levels of abstraction, making CNNs more effective in recognizing and classifying complex patterns in images, such as handwritten digits."
   ]
  },
  {
   "cell_type": "markdown",
   "id": "42744cd8",
   "metadata": {
    "papermill": {
     "duration": 0.010266,
     "end_time": "2024-09-23T20:30:53.987399",
     "exception": false,
     "start_time": "2024-09-23T20:30:53.977133",
     "status": "completed"
    },
    "tags": []
   },
   "source": [
    "# <div style=\"text-align:center; border-radius:15px; padding:15px; margin:0; font-size:110%; font-family:Arial, sans-serif; background-color:#056C90; color:#EDEBEC; overflow:hidden; box-shadow:0 4px 8px rgba(0, 0, 0, 0.3);\"><b> 2. Importing Libraries </b></div>"
   ]
  },
  {
   "cell_type": "code",
   "execution_count": 1,
   "id": "0ef38efc",
   "metadata": {
    "_cell_guid": "b1076dfc-b9ad-4769-8c92-a6c4dae69d19",
    "_uuid": "8f2839f25d086af736a60e9eeb907d3b93b6e0e5",
    "execution": {
     "iopub.execute_input": "2024-09-23T20:30:54.010311Z",
     "iopub.status.busy": "2024-09-23T20:30:54.009505Z",
     "iopub.status.idle": "2024-09-23T20:31:09.906246Z",
     "shell.execute_reply": "2024-09-23T20:31:09.905464Z"
    },
    "papermill": {
     "duration": 15.910789,
     "end_time": "2024-09-23T20:31:09.908790",
     "exception": false,
     "start_time": "2024-09-23T20:30:53.998001",
     "status": "completed"
    },
    "tags": []
   },
   "outputs": [],
   "source": [
    "import numpy as np \n",
    "import pandas as pd \n",
    "import matplotlib.pyplot as plt\n",
    "import seaborn as sns\n",
    "from sklearn.metrics import confusion_matrix\n",
    "\n",
    "from sklearn.model_selection import train_test_split\n",
    "\n",
    "import tensorflow as tf\n",
    "from tensorflow.keras import Sequential\n",
    "from tensorflow.keras.layers import Conv2D, MaxPooling2D, Flatten, Dense, Dropout, BatchNormalization\n",
    "from tensorflow.keras.regularizers import L2\n",
    "from tensorflow.keras.losses import SparseCategoricalCrossentropy\n",
    "from tensorflow.keras.metrics import SparseCategoricalAccuracy\n",
    "from tensorflow.keras.optimizers import Adam\n",
    "from tensorflow.keras.preprocessing.image import ImageDataGenerator\n",
    "\n",
    "# Suppress warnings\n",
    "import warnings\n",
    "warnings.filterwarnings('ignore')"
   ]
  },
  {
   "cell_type": "markdown",
   "id": "2a0e2091",
   "metadata": {
    "papermill": {
     "duration": 0.0104,
     "end_time": "2024-09-23T20:31:09.930190",
     "exception": false,
     "start_time": "2024-09-23T20:31:09.919790",
     "status": "completed"
    },
    "tags": []
   },
   "source": [
    "# <div style=\"text-align:center; border-radius:15px; padding:15px; margin:0; font-size:110%; font-family:Arial, sans-serif; background-color:#056C90; color:#EDEBEC; overflow:hidden; box-shadow:0 4px 8px rgba(0, 0, 0, 0.3);\"><b> 3. Data Preparation </b></div>"
   ]
  },
  {
   "cell_type": "markdown",
   "id": "7e3ee3a2",
   "metadata": {
    "papermill": {
     "duration": 0.01067,
     "end_time": "2024-09-23T20:31:09.951286",
     "exception": false,
     "start_time": "2024-09-23T20:31:09.940616",
     "status": "completed"
    },
    "tags": []
   },
   "source": [
    "## Loading data"
   ]
  },
  {
   "cell_type": "code",
   "execution_count": 2,
   "id": "e27947f0",
   "metadata": {
    "execution": {
     "iopub.execute_input": "2024-09-23T20:31:09.975536Z",
     "iopub.status.busy": "2024-09-23T20:31:09.974894Z",
     "iopub.status.idle": "2024-09-23T20:31:15.368447Z",
     "shell.execute_reply": "2024-09-23T20:31:15.367660Z"
    },
    "papermill": {
     "duration": 5.408337,
     "end_time": "2024-09-23T20:31:15.370824",
     "exception": false,
     "start_time": "2024-09-23T20:31:09.962487",
     "status": "completed"
    },
    "tags": []
   },
   "outputs": [],
   "source": [
    "train = pd.read_csv(\"/kaggle/input/digit-recognizer/train.csv\")\n",
    "test = pd.read_csv('/kaggle/input/digit-recognizer/test.csv')"
   ]
  },
  {
   "cell_type": "markdown",
   "id": "6a2dff3f",
   "metadata": {
    "papermill": {
     "duration": 0.010421,
     "end_time": "2024-09-23T20:31:15.392234",
     "exception": false,
     "start_time": "2024-09-23T20:31:15.381813",
     "status": "completed"
    },
    "tags": []
   },
   "source": [
    "## Separating features and labels"
   ]
  },
  {
   "cell_type": "code",
   "execution_count": 3,
   "id": "3c393ae8",
   "metadata": {
    "execution": {
     "iopub.execute_input": "2024-09-23T20:31:15.414916Z",
     "iopub.status.busy": "2024-09-23T20:31:15.414130Z",
     "iopub.status.idle": "2024-09-23T20:31:15.506921Z",
     "shell.execute_reply": "2024-09-23T20:31:15.506136Z"
    },
    "papermill": {
     "duration": 0.106726,
     "end_time": "2024-09-23T20:31:15.509370",
     "exception": false,
     "start_time": "2024-09-23T20:31:15.402644",
     "status": "completed"
    },
    "tags": []
   },
   "outputs": [],
   "source": [
    "X = train.drop(\"label\", axis=1) \n",
    "y = train.label"
   ]
  },
  {
   "cell_type": "markdown",
   "id": "7330c15a",
   "metadata": {
    "papermill": {
     "duration": 0.010103,
     "end_time": "2024-09-23T20:31:15.530352",
     "exception": false,
     "start_time": "2024-09-23T20:31:15.520249",
     "status": "completed"
    },
    "tags": []
   },
   "source": [
    "## Data normalization"
   ]
  },
  {
   "cell_type": "markdown",
   "id": "c898b9f1",
   "metadata": {
    "papermill": {
     "duration": 0.009979,
     "end_time": "2024-09-23T20:31:15.550617",
     "exception": false,
     "start_time": "2024-09-23T20:31:15.540638",
     "status": "completed"
    },
    "tags": []
   },
   "source": [
    "This step ensures that our input data is in a suitable range for training a neural network, leading to better performance and faster learning."
   ]
  },
  {
   "cell_type": "code",
   "execution_count": 4,
   "id": "89c3bf99",
   "metadata": {
    "execution": {
     "iopub.execute_input": "2024-09-23T20:31:15.572615Z",
     "iopub.status.busy": "2024-09-23T20:31:15.572006Z",
     "iopub.status.idle": "2024-09-23T20:31:15.664694Z",
     "shell.execute_reply": "2024-09-23T20:31:15.663855Z"
    },
    "papermill": {
     "duration": 0.106147,
     "end_time": "2024-09-23T20:31:15.666986",
     "exception": false,
     "start_time": "2024-09-23T20:31:15.560839",
     "status": "completed"
    },
    "tags": []
   },
   "outputs": [],
   "source": [
    "# Normalize the data (scale pixel values between 0 and 1)\n",
    "X = X / 255.0\n",
    "X_test = test / 255.0"
   ]
  },
  {
   "cell_type": "markdown",
   "id": "6969bfd2",
   "metadata": {
    "papermill": {
     "duration": 0.010059,
     "end_time": "2024-09-23T20:31:15.687640",
     "exception": false,
     "start_time": "2024-09-23T20:31:15.677581",
     "status": "completed"
    },
    "tags": []
   },
   "source": [
    "## Spliting data into training and testing sets"
   ]
  },
  {
   "cell_type": "code",
   "execution_count": 5,
   "id": "6388b7ae",
   "metadata": {
    "execution": {
     "iopub.execute_input": "2024-09-23T20:31:15.709686Z",
     "iopub.status.busy": "2024-09-23T20:31:15.708997Z",
     "iopub.status.idle": "2024-09-23T20:31:15.892199Z",
     "shell.execute_reply": "2024-09-23T20:31:15.891313Z"
    },
    "papermill": {
     "duration": 0.196845,
     "end_time": "2024-09-23T20:31:15.894742",
     "exception": false,
     "start_time": "2024-09-23T20:31:15.697897",
     "status": "completed"
    },
    "tags": []
   },
   "outputs": [],
   "source": [
    "X_train, X_val, y_train, y_val = train_test_split(X, y, test_size=0.1, random_state=1)"
   ]
  },
  {
   "cell_type": "markdown",
   "id": "300a5253",
   "metadata": {
    "papermill": {
     "duration": 0.010056,
     "end_time": "2024-09-23T20:31:15.916626",
     "exception": false,
     "start_time": "2024-09-23T20:31:15.906570",
     "status": "completed"
    },
    "tags": []
   },
   "source": [
    "## Preview Images"
   ]
  },
  {
   "cell_type": "code",
   "execution_count": 6,
   "id": "13bae7a3",
   "metadata": {
    "_kg_hide-input": true,
    "execution": {
     "iopub.execute_input": "2024-09-23T20:31:15.939021Z",
     "iopub.status.busy": "2024-09-23T20:31:15.938368Z",
     "iopub.status.idle": "2024-09-23T20:31:17.066339Z",
     "shell.execute_reply": "2024-09-23T20:31:17.065506Z"
    },
    "papermill": {
     "duration": 1.141717,
     "end_time": "2024-09-23T20:31:17.068714",
     "exception": false,
     "start_time": "2024-09-23T20:31:15.926997",
     "status": "completed"
    },
    "tags": []
   },
   "outputs": [
    {
     "data": {
      "image/png": "[encoded data removed]",
      "text/plain": [
       "<Figure size 1500x500 with 30 Axes>"
      ]
     },
     "metadata": {},
     "output_type": "display_data"
    }
   ],
   "source": [
    "X_reshaped = X_train.to_numpy().reshape(-1, 28, 28, 1)\n",
    "\n",
    "plt.figure(figsize=(15, 5))\n",
    "for i in range(30):  \n",
    "    plt.subplot(3, 10, i+1)\n",
    "    plt.imshow(X_reshaped[i, :, :, 0], cmap=plt.cm.binary)  # Access the 28x28 image directly\n",
    "    plt.axis('off')\n",
    "plt.subplots_adjust(wspace=-0.1, hspace=-0.1)\n",
    "plt.show()\n"
   ]
  },
  {
   "cell_type": "markdown",
   "id": "3f0ec368",
   "metadata": {
    "papermill": {
     "duration": 0.010905,
     "end_time": "2024-09-23T20:31:17.090918",
     "exception": false,
     "start_time": "2024-09-23T20:31:17.080013",
     "status": "completed"
    },
    "tags": []
   },
   "source": [
    "# <div style=\"text-align:center; border-radius:15px; padding:15px; margin:0; font-size:110%; font-family:Arial, sans-serif; background-color:#056C90; color:#EDEBEC; overflow:hidden; box-shadow:0 4px 8px rgba(0, 0, 0, 0.3);\"><b> 4. Dense Neural Network </b></div>"
   ]
  },
  {
   "cell_type": "markdown",
   "id": "62912c5d",
   "metadata": {
    "papermill": {
     "duration": 0.010774,
     "end_time": "2024-09-23T20:31:17.112742",
     "exception": false,
     "start_time": "2024-09-23T20:31:17.101968",
     "status": "completed"
    },
    "tags": []
   },
   "source": [
    "A dense neural network, also known as a fully connected neural network (FCNN) or multi-layer perceptron (MLP), is a machine learning model that connects each layer to the previous layer."
   ]
  },
  {
   "cell_type": "markdown",
   "id": "8e827e10",
   "metadata": {
    "papermill": {
     "duration": 0.010552,
     "end_time": "2024-09-23T20:31:17.134158",
     "exception": false,
     "start_time": "2024-09-23T20:31:17.123606",
     "status": "completed"
    },
    "tags": []
   },
   "source": [
    "We will train the model through iterative steps, starting with a simple version. If the model shows signs of high bias or underfitting, we'll increase its complexity. If the model shows high variance or overfitting, we'll boost the regularization. This approach should help us achieve better results."
   ]
  },
  {
   "cell_type": "code",
   "execution_count": 7,
   "id": "6e899847",
   "metadata": {
    "execution": {
     "iopub.execute_input": "2024-09-23T20:31:17.157025Z",
     "iopub.status.busy": "2024-09-23T20:31:17.156628Z",
     "iopub.status.idle": "2024-09-23T20:31:17.167433Z",
     "shell.execute_reply": "2024-09-23T20:31:17.166732Z"
    },
    "papermill": {
     "duration": 0.024354,
     "end_time": "2024-09-23T20:31:17.169311",
     "exception": false,
     "start_time": "2024-09-23T20:31:17.144957",
     "status": "completed"
    },
    "tags": []
   },
   "outputs": [],
   "source": [
    "# Define a simple model\n",
    "model = Sequential([\n",
    "    Dense(units=25, activation='relu'),\n",
    "    Dense(units=15, activation='relu'),\n",
    "    Dense(units=10, activation='softmax')\n",
    "])"
   ]
  },
  {
   "cell_type": "code",
   "execution_count": 8,
   "id": "b287c2a6",
   "metadata": {
    "execution": {
     "iopub.execute_input": "2024-09-23T20:31:17.191988Z",
     "iopub.status.busy": "2024-09-23T20:31:17.191677Z",
     "iopub.status.idle": "2024-09-23T20:31:18.040870Z",
     "shell.execute_reply": "2024-09-23T20:31:18.039970Z"
    },
    "papermill": {
     "duration": 0.863079,
     "end_time": "2024-09-23T20:31:18.043245",
     "exception": false,
     "start_time": "2024-09-23T20:31:17.180166",
     "status": "completed"
    },
    "tags": []
   },
   "outputs": [],
   "source": [
    "# Compile the model with an Adam optimizer and metrics\n",
    "model.compile(\n",
    "    optimizer = Adam(learning_rate=1e-3),\n",
    "    loss=SparseCategoricalCrossentropy(),\n",
    "    metrics=['accuracy']\n",
    ")"
   ]
  },
  {
   "cell_type": "code",
   "execution_count": 9,
   "id": "8d5b3f52",
   "metadata": {
    "execution": {
     "iopub.execute_input": "2024-09-23T20:31:18.066529Z",
     "iopub.status.busy": "2024-09-23T20:31:18.066197Z",
     "iopub.status.idle": "2024-09-23T20:32:18.657264Z",
     "shell.execute_reply": "2024-09-23T20:32:18.656306Z"
    },
    "papermill": {
     "duration": 60.60492,
     "end_time": "2024-09-23T20:32:18.659328",
     "exception": false,
     "start_time": "2024-09-23T20:31:18.054408",
     "status": "completed"
    },
    "tags": []
   },
   "outputs": [
    {
     "name": "stdout",
     "output_type": "stream",
     "text": [
      "Epoch 1/30\n"
     ]
    },
    {
     "name": "stderr",
     "output_type": "stream",
     "text": [
      "WARNING: All log messages before absl::InitializeLog() is called are written to STDERR\n",
      "I0000 00:00:1727123479.464082      71 service.cc:145] XLA service 0x7aefb0016160 initialized for platform CUDA (this does not guarantee that XLA will be used). Devices:\n",
      "I0000 00:00:1727123479.464136      71 service.cc:153]   StreamExecutor device (0): Tesla T4, Compute Capability 7.5\n",
      "I0000 00:00:1727123479.464142      71 service.cc:153]   StreamExecutor device (1): Tesla T4, Compute Capability 7.5\n"
     ]
    },
    {
     "name": "stdout",
     "output_type": "stream",
     "text": [
      "\u001b[1m 114/1182\u001b[0m \u001b[32m━\u001b[0m\u001b[37m━━━━━━━━━━━━━━━━━━━\u001b[0m \u001b[1m1s\u001b[0m 1ms/step - accuracy: 0.3487 - loss: 1.9690"
     ]
    },
    {
     "name": "stderr",
     "output_type": "stream",
     "text": [
      "I0000 00:00:1727123481.388812      71 device_compiler.h:188] Compiled cluster using XLA!  This line is logged at most once for the lifetime of the process.\n"
     ]
    },
    {
     "name": "stdout",
     "output_type": "stream",
     "text": [
      "\u001b[1m1182/1182\u001b[0m \u001b[32m━━━━━━━━━━━━━━━━━━━━\u001b[0m\u001b[37m\u001b[0m \u001b[1m6s\u001b[0m 3ms/step - accuracy: 0.7317 - loss: 0.8819 - val_accuracy: 0.9233 - val_loss: 0.2592\n",
      "Epoch 2/30\n",
      "\u001b[1m1182/1182\u001b[0m \u001b[32m━━━━━━━━━━━━━━━━━━━━\u001b[0m\u001b[37m\u001b[0m \u001b[1m2s\u001b[0m 2ms/step - accuracy: 0.9284 - loss: 0.2408 - val_accuracy: 0.9429 - val_loss: 0.2040\n",
      "Epoch 3/30\n",
      "\u001b[1m1182/1182\u001b[0m \u001b[32m━━━━━━━━━━━━━━━━━━━━\u001b[0m\u001b[37m\u001b[0m \u001b[1m2s\u001b[0m 2ms/step - accuracy: 0.9435 - loss: 0.1847 - val_accuracy: 0.9450 - val_loss: 0.1825\n",
      "Epoch 4/30\n",
      "\u001b[1m1182/1182\u001b[0m \u001b[32m━━━━━━━━━━━━━━━━━━━━\u001b[0m\u001b[37m\u001b[0m \u001b[1m2s\u001b[0m 2ms/step - accuracy: 0.9531 - loss: 0.1578 - val_accuracy: 0.9460 - val_loss: 0.1735\n",
      "Epoch 5/30\n",
      "\u001b[1m1182/1182\u001b[0m \u001b[32m━━━━━━━━━━━━━━━━━━━━\u001b[0m\u001b[37m\u001b[0m \u001b[1m2s\u001b[0m 1ms/step - accuracy: 0.9590 - loss: 0.1375 - val_accuracy: 0.9517 - val_loss: 0.1553\n",
      "Epoch 6/30\n",
      "\u001b[1m1182/1182\u001b[0m \u001b[32m━━━━━━━━━━━━━━━━━━━━\u001b[0m\u001b[37m\u001b[0m \u001b[1m2s\u001b[0m 2ms/step - accuracy: 0.9629 - loss: 0.1220 - val_accuracy: 0.9540 - val_loss: 0.1572\n",
      "Epoch 7/30\n",
      "\u001b[1m1182/1182\u001b[0m \u001b[32m━━━━━━━━━━━━━━━━━━━━\u001b[0m\u001b[37m\u001b[0m \u001b[1m2s\u001b[0m 2ms/step - accuracy: 0.9667 - loss: 0.1087 - val_accuracy: 0.9533 - val_loss: 0.1484\n",
      "Epoch 8/30\n",
      "\u001b[1m1182/1182\u001b[0m \u001b[32m━━━━━━━━━━━━━━━━━━━━\u001b[0m\u001b[37m\u001b[0m \u001b[1m2s\u001b[0m 2ms/step - accuracy: 0.9705 - loss: 0.0996 - val_accuracy: 0.9576 - val_loss: 0.1384\n",
      "Epoch 9/30\n",
      "\u001b[1m1182/1182\u001b[0m \u001b[32m━━━━━━━━━━━━━━━━━━━━\u001b[0m\u001b[37m\u001b[0m \u001b[1m2s\u001b[0m 2ms/step - accuracy: 0.9742 - loss: 0.0850 - val_accuracy: 0.9571 - val_loss: 0.1428\n",
      "Epoch 10/30\n",
      "\u001b[1m1182/1182\u001b[0m \u001b[32m━━━━━━━━━━━━━━━━━━━━\u001b[0m\u001b[37m\u001b[0m \u001b[1m2s\u001b[0m 1ms/step - accuracy: 0.9746 - loss: 0.0819 - val_accuracy: 0.9612 - val_loss: 0.1356\n",
      "Epoch 11/30\n",
      "\u001b[1m1182/1182\u001b[0m \u001b[32m━━━━━━━━━━━━━━━━━━━━\u001b[0m\u001b[37m\u001b[0m \u001b[1m2s\u001b[0m 2ms/step - accuracy: 0.9762 - loss: 0.0755 - val_accuracy: 0.9614 - val_loss: 0.1392\n",
      "Epoch 12/30\n",
      "\u001b[1m1182/1182\u001b[0m \u001b[32m━━━━━━━━━━━━━━━━━━━━\u001b[0m\u001b[37m\u001b[0m \u001b[1m2s\u001b[0m 1ms/step - accuracy: 0.9781 - loss: 0.0688 - val_accuracy: 0.9624 - val_loss: 0.1388\n",
      "Epoch 13/30\n",
      "\u001b[1m1182/1182\u001b[0m \u001b[32m━━━━━━━━━━━━━━━━━━━━\u001b[0m\u001b[37m\u001b[0m \u001b[1m2s\u001b[0m 1ms/step - accuracy: 0.9811 - loss: 0.0641 - val_accuracy: 0.9602 - val_loss: 0.1406\n",
      "Epoch 14/30\n",
      "\u001b[1m1182/1182\u001b[0m \u001b[32m━━━━━━━━━━━━━━━━━━━━\u001b[0m\u001b[37m\u001b[0m \u001b[1m2s\u001b[0m 2ms/step - accuracy: 0.9812 - loss: 0.0602 - val_accuracy: 0.9612 - val_loss: 0.1424\n",
      "Epoch 15/30\n",
      "\u001b[1m1182/1182\u001b[0m \u001b[32m━━━━━━━━━━━━━━━━━━━━\u001b[0m\u001b[37m\u001b[0m \u001b[1m2s\u001b[0m 1ms/step - accuracy: 0.9820 - loss: 0.0568 - val_accuracy: 0.9602 - val_loss: 0.1447\n",
      "Epoch 16/30\n",
      "\u001b[1m1182/1182\u001b[0m \u001b[32m━━━━━━━━━━━━━━━━━━━━\u001b[0m\u001b[37m\u001b[0m \u001b[1m2s\u001b[0m 1ms/step - accuracy: 0.9832 - loss: 0.0520 - val_accuracy: 0.9610 - val_loss: 0.1523\n",
      "Epoch 17/30\n",
      "\u001b[1m1182/1182\u001b[0m \u001b[32m━━━━━━━━━━━━━━━━━━━━\u001b[0m\u001b[37m\u001b[0m \u001b[1m2s\u001b[0m 1ms/step - accuracy: 0.9848 - loss: 0.0486 - val_accuracy: 0.9624 - val_loss: 0.1473\n",
      "Epoch 18/30\n",
      "\u001b[1m1182/1182\u001b[0m \u001b[32m━━━━━━━━━━━━━━━━━━━━\u001b[0m\u001b[37m\u001b[0m \u001b[1m2s\u001b[0m 2ms/step - accuracy: 0.9848 - loss: 0.0480 - val_accuracy: 0.9645 - val_loss: 0.1453\n",
      "Epoch 19/30\n",
      "\u001b[1m1182/1182\u001b[0m \u001b[32m━━━━━━━━━━━━━━━━━━━━\u001b[0m\u001b[37m\u001b[0m \u001b[1m3s\u001b[0m 2ms/step - accuracy: 0.9861 - loss: 0.0460 - val_accuracy: 0.9626 - val_loss: 0.1483\n",
      "Epoch 20/30\n",
      "\u001b[1m1182/1182\u001b[0m \u001b[32m━━━━━━━━━━━━━━━━━━━━\u001b[0m\u001b[37m\u001b[0m \u001b[1m2s\u001b[0m 2ms/step - accuracy: 0.9868 - loss: 0.0423 - val_accuracy: 0.9619 - val_loss: 0.1495\n",
      "Epoch 21/30\n",
      "\u001b[1m1182/1182\u001b[0m \u001b[32m━━━━━━━━━━━━━━━━━━━━\u001b[0m\u001b[37m\u001b[0m \u001b[1m2s\u001b[0m 2ms/step - accuracy: 0.9873 - loss: 0.0413 - val_accuracy: 0.9590 - val_loss: 0.1637\n",
      "Epoch 22/30\n",
      "\u001b[1m1182/1182\u001b[0m \u001b[32m━━━━━━━━━━━━━━━━━━━━\u001b[0m\u001b[37m\u001b[0m \u001b[1m2s\u001b[0m 2ms/step - accuracy: 0.9876 - loss: 0.0376 - val_accuracy: 0.9614 - val_loss: 0.1621\n",
      "Epoch 23/30\n",
      "\u001b[1m1182/1182\u001b[0m \u001b[32m━━━━━━━━━━━━━━━━━━━━\u001b[0m\u001b[37m\u001b[0m \u001b[1m2s\u001b[0m 2ms/step - accuracy: 0.9892 - loss: 0.0336 - val_accuracy: 0.9595 - val_loss: 0.1689\n",
      "Epoch 24/30\n",
      "\u001b[1m1182/1182\u001b[0m \u001b[32m━━━━━━━━━━━━━━━━━━━━\u001b[0m\u001b[37m\u001b[0m \u001b[1m2s\u001b[0m 2ms/step - accuracy: 0.9890 - loss: 0.0344 - val_accuracy: 0.9626 - val_loss: 0.1675\n",
      "Epoch 25/30\n",
      "\u001b[1m1182/1182\u001b[0m \u001b[32m━━━━━━━━━━━━━━━━━━━━\u001b[0m\u001b[37m\u001b[0m \u001b[1m2s\u001b[0m 2ms/step - accuracy: 0.9908 - loss: 0.0297 - val_accuracy: 0.9583 - val_loss: 0.1901\n",
      "Epoch 26/30\n",
      "\u001b[1m1182/1182\u001b[0m \u001b[32m━━━━━━━━━━━━━━━━━━━━\u001b[0m\u001b[37m\u001b[0m \u001b[1m2s\u001b[0m 2ms/step - accuracy: 0.9899 - loss: 0.0314 - val_accuracy: 0.9624 - val_loss: 0.1853\n",
      "Epoch 27/30\n",
      "\u001b[1m1182/1182\u001b[0m \u001b[32m━━━━━━━━━━━━━━━━━━━━\u001b[0m\u001b[37m\u001b[0m \u001b[1m2s\u001b[0m 2ms/step - accuracy: 0.9915 - loss: 0.0277 - val_accuracy: 0.9552 - val_loss: 0.1983\n",
      "Epoch 28/30\n",
      "\u001b[1m1182/1182\u001b[0m \u001b[32m━━━━━━━━━━━━━━━━━━━━\u001b[0m\u001b[37m\u001b[0m \u001b[1m2s\u001b[0m 2ms/step - accuracy: 0.9901 - loss: 0.0293 - val_accuracy: 0.9629 - val_loss: 0.1833\n",
      "Epoch 29/30\n",
      "\u001b[1m1182/1182\u001b[0m \u001b[32m━━━━━━━━━━━━━━━━━━━━\u001b[0m\u001b[37m\u001b[0m \u001b[1m2s\u001b[0m 2ms/step - accuracy: 0.9925 - loss: 0.0232 - val_accuracy: 0.9595 - val_loss: 0.1928\n",
      "Epoch 30/30\n",
      "\u001b[1m1182/1182\u001b[0m \u001b[32m━━━━━━━━━━━━━━━━━━━━\u001b[0m\u001b[37m\u001b[0m \u001b[1m2s\u001b[0m 2ms/step - accuracy: 0.9931 - loss: 0.0227 - val_accuracy: 0.9612 - val_loss: 0.1998\n"
     ]
    },
    {
     "data": {
      "text/plain": [
       "<keras.src.callbacks.history.History at 0x7af0a5a38940>"
      ]
     },
     "execution_count": 9,
     "metadata": {},
     "output_type": "execute_result"
    }
   ],
   "source": [
    "# Train the model\n",
    "model.fit(X_train, y_train, epochs=30, validation_data=(X_val, y_val))"
   ]
  },
  {
   "cell_type": "markdown",
   "id": "98e0df25",
   "metadata": {
    "papermill": {
     "duration": 0.091506,
     "end_time": "2024-09-23T20:32:18.843652",
     "exception": false,
     "start_time": "2024-09-23T20:32:18.752146",
     "status": "completed"
    },
    "tags": []
   },
   "source": [
    "The model is performing much better on the training data than on the validation data, which means it's overfitting. High variance or overfitting happens when the model learns too much from the training data, including noise, and struggles to generalize to new data. To fix this, we will add a regularization term, which acts like a penalty and helps the model focus on the important patterns rather than memorizing the training data."
   ]
  },
  {
   "cell_type": "code",
   "execution_count": 10,
   "id": "08e2603f",
   "metadata": {
    "execution": {
     "iopub.execute_input": "2024-09-23T20:32:19.030765Z",
     "iopub.status.busy": "2024-09-23T20:32:19.030379Z",
     "iopub.status.idle": "2024-09-23T20:33:18.918322Z",
     "shell.execute_reply": "2024-09-23T20:33:18.917361Z"
    },
    "papermill": {
     "duration": 59.984798,
     "end_time": "2024-09-23T20:33:18.920407",
     "exception": false,
     "start_time": "2024-09-23T20:32:18.935609",
     "status": "completed"
    },
    "tags": []
   },
   "outputs": [
    {
     "name": "stdout",
     "output_type": "stream",
     "text": [
      "Epoch 1/30\n",
      "\u001b[1m1182/1182\u001b[0m \u001b[32m━━━━━━━━━━━━━━━━━━━━\u001b[0m\u001b[37m\u001b[0m \u001b[1m6s\u001b[0m 3ms/step - accuracy: 0.7347 - loss: 0.9669 - val_accuracy: 0.9188 - val_loss: 0.3730\n",
      "Epoch 2/30\n",
      "\u001b[1m1182/1182\u001b[0m \u001b[32m━━━━━━━━━━━━━━━━━━━━\u001b[0m\u001b[37m\u001b[0m \u001b[1m2s\u001b[0m 2ms/step - accuracy: 0.9303 - loss: 0.3469 - val_accuracy: 0.9388 - val_loss: 0.3117\n",
      "Epoch 3/30\n",
      "\u001b[1m1182/1182\u001b[0m \u001b[32m━━━━━━━━━━━━━━━━━━━━\u001b[0m\u001b[37m\u001b[0m \u001b[1m3s\u001b[0m 2ms/step - accuracy: 0.9421 - loss: 0.3086 - val_accuracy: 0.9421 - val_loss: 0.3034\n",
      "Epoch 4/30\n",
      "\u001b[1m1182/1182\u001b[0m \u001b[32m━━━━━━━━━━━━━━━━━━━━\u001b[0m\u001b[37m\u001b[0m \u001b[1m2s\u001b[0m 2ms/step - accuracy: 0.9500 - loss: 0.2806 - val_accuracy: 0.9450 - val_loss: 0.2914\n",
      "Epoch 5/30\n",
      "\u001b[1m1182/1182\u001b[0m \u001b[32m━━━━━━━━━━━━━━━━━━━━\u001b[0m\u001b[37m\u001b[0m \u001b[1m2s\u001b[0m 2ms/step - accuracy: 0.9514 - loss: 0.2705 - val_accuracy: 0.9481 - val_loss: 0.2808\n",
      "Epoch 6/30\n",
      "\u001b[1m1182/1182\u001b[0m \u001b[32m━━━━━━━━━━━━━━━━━━━━\u001b[0m\u001b[37m\u001b[0m \u001b[1m2s\u001b[0m 2ms/step - accuracy: 0.9576 - loss: 0.2612 - val_accuracy: 0.9445 - val_loss: 0.2976\n",
      "Epoch 7/30\n",
      "\u001b[1m1182/1182\u001b[0m \u001b[32m━━━━━━━━━━━━━━━━━━━━\u001b[0m\u001b[37m\u001b[0m \u001b[1m2s\u001b[0m 2ms/step - accuracy: 0.9585 - loss: 0.2527 - val_accuracy: 0.9524 - val_loss: 0.2705\n",
      "Epoch 8/30\n",
      "\u001b[1m1182/1182\u001b[0m \u001b[32m━━━━━━━━━━━━━━━━━━━━\u001b[0m\u001b[37m\u001b[0m \u001b[1m2s\u001b[0m 1ms/step - accuracy: 0.9617 - loss: 0.2497 - val_accuracy: 0.9479 - val_loss: 0.2814\n",
      "Epoch 9/30\n",
      "\u001b[1m1182/1182\u001b[0m \u001b[32m━━━━━━━━━━━━━━━━━━━━\u001b[0m\u001b[37m\u001b[0m \u001b[1m2s\u001b[0m 1ms/step - accuracy: 0.9610 - loss: 0.2509 - val_accuracy: 0.9548 - val_loss: 0.2669\n",
      "Epoch 10/30\n",
      "\u001b[1m1182/1182\u001b[0m \u001b[32m━━━━━━━━━━━━━━━━━━━━\u001b[0m\u001b[37m\u001b[0m \u001b[1m2s\u001b[0m 1ms/step - accuracy: 0.9629 - loss: 0.2452 - val_accuracy: 0.9540 - val_loss: 0.2668\n",
      "Epoch 11/30\n",
      "\u001b[1m1182/1182\u001b[0m \u001b[32m━━━━━━━━━━━━━━━━━━━━\u001b[0m\u001b[37m\u001b[0m \u001b[1m2s\u001b[0m 1ms/step - accuracy: 0.9653 - loss: 0.2403 - val_accuracy: 0.9540 - val_loss: 0.2664\n",
      "Epoch 12/30\n",
      "\u001b[1m1182/1182\u001b[0m \u001b[32m━━━━━━━━━━━━━━━━━━━━\u001b[0m\u001b[37m\u001b[0m \u001b[1m2s\u001b[0m 2ms/step - accuracy: 0.9644 - loss: 0.2405 - val_accuracy: 0.9569 - val_loss: 0.2643\n",
      "Epoch 13/30\n",
      "\u001b[1m1182/1182\u001b[0m \u001b[32m━━━━━━━━━━━━━━━━━━━━\u001b[0m\u001b[37m\u001b[0m \u001b[1m2s\u001b[0m 2ms/step - accuracy: 0.9649 - loss: 0.2388 - val_accuracy: 0.9569 - val_loss: 0.2654\n",
      "Epoch 14/30\n",
      "\u001b[1m1182/1182\u001b[0m \u001b[32m━━━━━━━━━━━━━━━━━━━━\u001b[0m\u001b[37m\u001b[0m \u001b[1m2s\u001b[0m 2ms/step - accuracy: 0.9655 - loss: 0.2379 - val_accuracy: 0.9540 - val_loss: 0.2648\n",
      "Epoch 15/30\n",
      "\u001b[1m1182/1182\u001b[0m \u001b[32m━━━━━━━━━━━━━━━━━━━━\u001b[0m\u001b[37m\u001b[0m \u001b[1m2s\u001b[0m 1ms/step - accuracy: 0.9685 - loss: 0.2305 - val_accuracy: 0.9598 - val_loss: 0.2581\n",
      "Epoch 16/30\n",
      "\u001b[1m1182/1182\u001b[0m \u001b[32m━━━━━━━━━━━━━━━━━━━━\u001b[0m\u001b[37m\u001b[0m \u001b[1m2s\u001b[0m 2ms/step - accuracy: 0.9685 - loss: 0.2313 - val_accuracy: 0.9562 - val_loss: 0.2596\n",
      "Epoch 17/30\n",
      "\u001b[1m1182/1182\u001b[0m \u001b[32m━━━━━━━━━━━━━━━━━━━━\u001b[0m\u001b[37m\u001b[0m \u001b[1m2s\u001b[0m 2ms/step - accuracy: 0.9672 - loss: 0.2328 - val_accuracy: 0.9588 - val_loss: 0.2589\n",
      "Epoch 18/30\n",
      "\u001b[1m1182/1182\u001b[0m \u001b[32m━━━━━━━━━━━━━━━━━━━━\u001b[0m\u001b[37m\u001b[0m \u001b[1m2s\u001b[0m 2ms/step - accuracy: 0.9671 - loss: 0.2310 - val_accuracy: 0.9583 - val_loss: 0.2591\n",
      "Epoch 19/30\n",
      "\u001b[1m1182/1182\u001b[0m \u001b[32m━━━━━━━━━━━━━━━━━━━━\u001b[0m\u001b[37m\u001b[0m \u001b[1m2s\u001b[0m 2ms/step - accuracy: 0.9685 - loss: 0.2316 - val_accuracy: 0.9588 - val_loss: 0.2618\n",
      "Epoch 20/30\n",
      "\u001b[1m1182/1182\u001b[0m \u001b[32m━━━━━━━━━━━━━━━━━━━━\u001b[0m\u001b[37m\u001b[0m \u001b[1m2s\u001b[0m 2ms/step - accuracy: 0.9684 - loss: 0.2293 - val_accuracy: 0.9552 - val_loss: 0.2666\n",
      "Epoch 21/30\n",
      "\u001b[1m1182/1182\u001b[0m \u001b[32m━━━━━━━━━━━━━━━━━━━━\u001b[0m\u001b[37m\u001b[0m \u001b[1m2s\u001b[0m 2ms/step - accuracy: 0.9696 - loss: 0.2302 - val_accuracy: 0.9595 - val_loss: 0.2536\n",
      "Epoch 22/30\n",
      "\u001b[1m1182/1182\u001b[0m \u001b[32m━━━━━━━━━━━━━━━━━━━━\u001b[0m\u001b[37m\u001b[0m \u001b[1m2s\u001b[0m 2ms/step - accuracy: 0.9698 - loss: 0.2277 - val_accuracy: 0.9579 - val_loss: 0.2574\n",
      "Epoch 23/30\n",
      "\u001b[1m1182/1182\u001b[0m \u001b[32m━━━━━━━━━━━━━━━━━━━━\u001b[0m\u001b[37m\u001b[0m \u001b[1m2s\u001b[0m 2ms/step - accuracy: 0.9695 - loss: 0.2265 - val_accuracy: 0.9576 - val_loss: 0.2559\n",
      "Epoch 24/30\n",
      "\u001b[1m1182/1182\u001b[0m \u001b[32m━━━━━━━━━━━━━━━━━━━━\u001b[0m\u001b[37m\u001b[0m \u001b[1m2s\u001b[0m 2ms/step - accuracy: 0.9698 - loss: 0.2248 - val_accuracy: 0.9600 - val_loss: 0.2511\n",
      "Epoch 25/30\n",
      "\u001b[1m1182/1182\u001b[0m \u001b[32m━━━━━━━━━━━━━━━━━━━━\u001b[0m\u001b[37m\u001b[0m \u001b[1m2s\u001b[0m 2ms/step - accuracy: 0.9709 - loss: 0.2235 - val_accuracy: 0.9576 - val_loss: 0.2541\n",
      "Epoch 26/30\n",
      "\u001b[1m1182/1182\u001b[0m \u001b[32m━━━━━━━━━━━━━━━━━━━━\u001b[0m\u001b[37m\u001b[0m \u001b[1m2s\u001b[0m 2ms/step - accuracy: 0.9698 - loss: 0.2252 - val_accuracy: 0.9595 - val_loss: 0.2576\n",
      "Epoch 27/30\n",
      "\u001b[1m1182/1182\u001b[0m \u001b[32m━━━━━━━━━━━━━━━━━━━━\u001b[0m\u001b[37m\u001b[0m \u001b[1m2s\u001b[0m 2ms/step - accuracy: 0.9713 - loss: 0.2243 - val_accuracy: 0.9610 - val_loss: 0.2571\n",
      "Epoch 28/30\n",
      "\u001b[1m1182/1182\u001b[0m \u001b[32m━━━━━━━━━━━━━━━━━━━━\u001b[0m\u001b[37m\u001b[0m \u001b[1m2s\u001b[0m 2ms/step - accuracy: 0.9695 - loss: 0.2269 - val_accuracy: 0.9555 - val_loss: 0.2646\n",
      "Epoch 29/30\n",
      "\u001b[1m1182/1182\u001b[0m \u001b[32m━━━━━━━━━━━━━━━━━━━━\u001b[0m\u001b[37m\u001b[0m \u001b[1m2s\u001b[0m 2ms/step - accuracy: 0.9678 - loss: 0.2312 - val_accuracy: 0.9540 - val_loss: 0.2690\n",
      "Epoch 30/30\n",
      "\u001b[1m1182/1182\u001b[0m \u001b[32m━━━━━━━━━━━━━━━━━━━━\u001b[0m\u001b[37m\u001b[0m \u001b[1m2s\u001b[0m 2ms/step - accuracy: 0.9717 - loss: 0.2242 - val_accuracy: 0.9600 - val_loss: 0.2556\n"
     ]
    },
    {
     "data": {
      "text/plain": [
       "<keras.src.callbacks.history.History at 0x7af0a40a1180>"
      ]
     },
     "execution_count": 10,
     "metadata": {},
     "output_type": "execute_result"
    }
   ],
   "source": [
    "# Define a model with regularization\n",
    "model = Sequential([\n",
    "    Dense(units=25, activation='relu', kernel_regularizer=L2(0.001)),\n",
    "    Dense(units=15, activation='relu', kernel_regularizer=L2(0.001)),\n",
    "    Dense(units=10, activation='softmax', kernel_regularizer=L2(0.001))\n",
    "])\n",
    "\n",
    "# Compile the model with an Adam optimizer and metrics\n",
    "model.compile(\n",
    "    optimizer = Adam(learning_rate=1e-3),\n",
    "    loss=SparseCategoricalCrossentropy(),\n",
    "    metrics=['accuracy']\n",
    ")\n",
    "\n",
    "# Train the model\n",
    "model.fit(X_train, y_train, epochs=30, validation_data=(X_val, y_val))"
   ]
  },
  {
   "cell_type": "markdown",
   "id": "57ae7043",
   "metadata": {
    "papermill": {
     "duration": 0.177149,
     "end_time": "2024-09-23T20:33:19.276169",
     "exception": false,
     "start_time": "2024-09-23T20:33:19.099020",
     "status": "completed"
    },
    "tags": []
   },
   "source": [
    "The difference between training and validation performance has reduced, but there's still room for improvement in accuracy. To enhance the model, we'll increase its complexity while maintaining regularization and adding Dropout. This will help the model generalize better and improve overall performance."
   ]
  },
  {
   "cell_type": "code",
   "execution_count": 11,
   "id": "053d2167",
   "metadata": {
    "execution": {
     "iopub.execute_input": "2024-09-23T20:33:19.630361Z",
     "iopub.status.busy": "2024-09-23T20:33:19.629584Z",
     "iopub.status.idle": "2024-09-23T20:35:48.193861Z",
     "shell.execute_reply": "2024-09-23T20:35:48.192912Z"
    },
    "papermill": {
     "duration": 148.743701,
     "end_time": "2024-09-23T20:35:48.195865",
     "exception": false,
     "start_time": "2024-09-23T20:33:19.452164",
     "status": "completed"
    },
    "tags": []
   },
   "outputs": [
    {
     "name": "stdout",
     "output_type": "stream",
     "text": [
      "Epoch 1/50\n",
      "\u001b[1m1182/1182\u001b[0m \u001b[32m━━━━━━━━━━━━━━━━━━━━\u001b[0m\u001b[37m\u001b[0m \u001b[1m20s\u001b[0m 9ms/step - accuracy: 0.2249 - loss: 3.2612 - val_accuracy: 0.7579 - val_loss: 1.8216\n",
      "Epoch 2/50\n",
      "\u001b[1m1182/1182\u001b[0m \u001b[32m━━━━━━━━━━━━━━━━━━━━\u001b[0m\u001b[37m\u001b[0m \u001b[1m3s\u001b[0m 2ms/step - accuracy: 0.6592 - loss: 1.9564 - val_accuracy: 0.8762 - val_loss: 1.3386\n",
      "Epoch 3/50\n",
      "\u001b[1m1182/1182\u001b[0m \u001b[32m━━━━━━━━━━━━━━━━━━━━\u001b[0m\u001b[37m\u001b[0m \u001b[1m3s\u001b[0m 2ms/step - accuracy: 0.7966 - loss: 1.5292 - val_accuracy: 0.9102 - val_loss: 1.1505\n",
      "Epoch 4/50\n",
      "\u001b[1m1182/1182\u001b[0m \u001b[32m━━━━━━━━━━━━━━━━━━━━\u001b[0m\u001b[37m\u001b[0m \u001b[1m3s\u001b[0m 2ms/step - accuracy: 0.8592 - loss: 1.3045 - val_accuracy: 0.9252 - val_loss: 1.0384\n",
      "Epoch 5/50\n",
      "\u001b[1m1182/1182\u001b[0m \u001b[32m━━━━━━━━━━━━━━━━━━━━\u001b[0m\u001b[37m\u001b[0m \u001b[1m3s\u001b[0m 2ms/step - accuracy: 0.8905 - loss: 1.1631 - val_accuracy: 0.9393 - val_loss: 0.9573\n",
      "Epoch 6/50\n",
      "\u001b[1m1182/1182\u001b[0m \u001b[32m━━━━━━━━━━━━━━━━━━━━\u001b[0m\u001b[37m\u001b[0m \u001b[1m3s\u001b[0m 2ms/step - accuracy: 0.9096 - loss: 1.0526 - val_accuracy: 0.9474 - val_loss: 0.8932\n",
      "Epoch 7/50\n",
      "\u001b[1m1182/1182\u001b[0m \u001b[32m━━━━━━━━━━━━━━━━━━━━\u001b[0m\u001b[37m\u001b[0m \u001b[1m3s\u001b[0m 2ms/step - accuracy: 0.9195 - loss: 0.9859 - val_accuracy: 0.9510 - val_loss: 0.8361\n",
      "Epoch 8/50\n",
      "\u001b[1m1182/1182\u001b[0m \u001b[32m━━━━━━━━━━━━━━━━━━━━\u001b[0m\u001b[37m\u001b[0m \u001b[1m3s\u001b[0m 2ms/step - accuracy: 0.9313 - loss: 0.9080 - val_accuracy: 0.9543 - val_loss: 0.7878\n",
      "Epoch 9/50\n",
      "\u001b[1m1182/1182\u001b[0m \u001b[32m━━━━━━━━━━━━━━━━━━━━\u001b[0m\u001b[37m\u001b[0m \u001b[1m3s\u001b[0m 2ms/step - accuracy: 0.9364 - loss: 0.8561 - val_accuracy: 0.9588 - val_loss: 0.7434\n",
      "Epoch 10/50\n",
      "\u001b[1m1182/1182\u001b[0m \u001b[32m━━━━━━━━━━━━━━━━━━━━\u001b[0m\u001b[37m\u001b[0m \u001b[1m3s\u001b[0m 2ms/step - accuracy: 0.9440 - loss: 0.8008 - val_accuracy: 0.9605 - val_loss: 0.7025\n",
      "Epoch 11/50\n",
      "\u001b[1m1182/1182\u001b[0m \u001b[32m━━━━━━━━━━━━━━━━━━━━\u001b[0m\u001b[37m\u001b[0m \u001b[1m3s\u001b[0m 2ms/step - accuracy: 0.9457 - loss: 0.7533 - val_accuracy: 0.9631 - val_loss: 0.6665\n",
      "Epoch 12/50\n",
      "\u001b[1m1182/1182\u001b[0m \u001b[32m━━━━━━━━━━━━━━━━━━━━\u001b[0m\u001b[37m\u001b[0m \u001b[1m3s\u001b[0m 2ms/step - accuracy: 0.9524 - loss: 0.7056 - val_accuracy: 0.9667 - val_loss: 0.6285\n",
      "Epoch 13/50\n",
      "\u001b[1m1182/1182\u001b[0m \u001b[32m━━━━━━━━━━━━━━━━━━━━\u001b[0m\u001b[37m\u001b[0m \u001b[1m3s\u001b[0m 2ms/step - accuracy: 0.9540 - loss: 0.6781 - val_accuracy: 0.9664 - val_loss: 0.6041\n",
      "Epoch 14/50\n",
      "\u001b[1m1182/1182\u001b[0m \u001b[32m━━━━━━━━━━━━━━━━━━━━\u001b[0m\u001b[37m\u001b[0m \u001b[1m3s\u001b[0m 2ms/step - accuracy: 0.9562 - loss: 0.6453 - val_accuracy: 0.9693 - val_loss: 0.5725\n",
      "Epoch 15/50\n",
      "\u001b[1m1182/1182\u001b[0m \u001b[32m━━━━━━━━━━━━━━━━━━━━\u001b[0m\u001b[37m\u001b[0m \u001b[1m3s\u001b[0m 2ms/step - accuracy: 0.9602 - loss: 0.6082 - val_accuracy: 0.9690 - val_loss: 0.5477\n",
      "Epoch 16/50\n",
      "\u001b[1m1182/1182\u001b[0m \u001b[32m━━━━━━━━━━━━━━━━━━━━\u001b[0m\u001b[37m\u001b[0m \u001b[1m3s\u001b[0m 2ms/step - accuracy: 0.9592 - loss: 0.5846 - val_accuracy: 0.9700 - val_loss: 0.5251\n",
      "Epoch 17/50\n",
      "\u001b[1m1182/1182\u001b[0m \u001b[32m━━━━━━━━━━━━━━━━━━━━\u001b[0m\u001b[37m\u001b[0m \u001b[1m3s\u001b[0m 2ms/step - accuracy: 0.9648 - loss: 0.5541 - val_accuracy: 0.9710 - val_loss: 0.5034\n",
      "Epoch 18/50\n",
      "\u001b[1m1182/1182\u001b[0m \u001b[32m━━━━━━━━━━━━━━━━━━━━\u001b[0m\u001b[37m\u001b[0m \u001b[1m3s\u001b[0m 2ms/step - accuracy: 0.9646 - loss: 0.5286 - val_accuracy: 0.9743 - val_loss: 0.4805\n",
      "Epoch 19/50\n",
      "\u001b[1m1182/1182\u001b[0m \u001b[32m━━━━━━━━━━━━━━━━━━━━\u001b[0m\u001b[37m\u001b[0m \u001b[1m3s\u001b[0m 2ms/step - accuracy: 0.9684 - loss: 0.5007 - val_accuracy: 0.9733 - val_loss: 0.4658\n",
      "Epoch 20/50\n",
      "\u001b[1m1182/1182\u001b[0m \u001b[32m━━━━━━━━━━━━━━━━━━━━\u001b[0m\u001b[37m\u001b[0m \u001b[1m3s\u001b[0m 2ms/step - accuracy: 0.9667 - loss: 0.4913 - val_accuracy: 0.9726 - val_loss: 0.4525\n",
      "Epoch 21/50\n",
      "\u001b[1m1182/1182\u001b[0m \u001b[32m━━━━━━━━━━━━━━━━━━━━\u001b[0m\u001b[37m\u001b[0m \u001b[1m3s\u001b[0m 2ms/step - accuracy: 0.9696 - loss: 0.4690 - val_accuracy: 0.9752 - val_loss: 0.4326\n",
      "Epoch 22/50\n",
      "\u001b[1m1182/1182\u001b[0m \u001b[32m━━━━━━━━━━━━━━━━━━━━\u001b[0m\u001b[37m\u001b[0m \u001b[1m3s\u001b[0m 2ms/step - accuracy: 0.9690 - loss: 0.4552 - val_accuracy: 0.9738 - val_loss: 0.4246\n",
      "Epoch 23/50\n",
      "\u001b[1m1182/1182\u001b[0m \u001b[32m━━━━━━━━━━━━━━━━━━━━\u001b[0m\u001b[37m\u001b[0m \u001b[1m5s\u001b[0m 2ms/step - accuracy: 0.9722 - loss: 0.4340 - val_accuracy: 0.9738 - val_loss: 0.4103\n",
      "Epoch 24/50\n",
      "\u001b[1m1182/1182\u001b[0m \u001b[32m━━━━━━━━━━━━━━━━━━━━\u001b[0m\u001b[37m\u001b[0m \u001b[1m3s\u001b[0m 2ms/step - accuracy: 0.9722 - loss: 0.4254 - val_accuracy: 0.9743 - val_loss: 0.4012\n",
      "Epoch 25/50\n",
      "\u001b[1m1182/1182\u001b[0m \u001b[32m━━━━━━━━━━━━━━━━━━━━\u001b[0m\u001b[37m\u001b[0m \u001b[1m3s\u001b[0m 2ms/step - accuracy: 0.9735 - loss: 0.4070 - val_accuracy: 0.9755 - val_loss: 0.3863\n",
      "Epoch 26/50\n",
      "\u001b[1m1182/1182\u001b[0m \u001b[32m━━━━━━━━━━━━━━━━━━━━\u001b[0m\u001b[37m\u001b[0m \u001b[1m3s\u001b[0m 2ms/step - accuracy: 0.9748 - loss: 0.3946 - val_accuracy: 0.9771 - val_loss: 0.3760\n",
      "Epoch 27/50\n",
      "\u001b[1m1182/1182\u001b[0m \u001b[32m━━━━━━━━━━━━━━━━━━━━\u001b[0m\u001b[37m\u001b[0m \u001b[1m3s\u001b[0m 2ms/step - accuracy: 0.9744 - loss: 0.3847 - val_accuracy: 0.9760 - val_loss: 0.3694\n",
      "Epoch 28/50\n",
      "\u001b[1m1182/1182\u001b[0m \u001b[32m━━━━━━━━━━━━━━━━━━━━\u001b[0m\u001b[37m\u001b[0m \u001b[1m3s\u001b[0m 2ms/step - accuracy: 0.9756 - loss: 0.3712 - val_accuracy: 0.9767 - val_loss: 0.3597\n",
      "Epoch 29/50\n",
      "\u001b[1m1182/1182\u001b[0m \u001b[32m━━━━━━━━━━━━━━━━━━━━\u001b[0m\u001b[37m\u001b[0m \u001b[1m3s\u001b[0m 2ms/step - accuracy: 0.9776 - loss: 0.3597 - val_accuracy: 0.9762 - val_loss: 0.3520\n",
      "Epoch 30/50\n",
      "\u001b[1m1182/1182\u001b[0m \u001b[32m━━━━━━━━━━━━━━━━━━━━\u001b[0m\u001b[37m\u001b[0m \u001b[1m3s\u001b[0m 2ms/step - accuracy: 0.9777 - loss: 0.3510 - val_accuracy: 0.9767 - val_loss: 0.3445\n",
      "Epoch 31/50\n",
      "\u001b[1m1182/1182\u001b[0m \u001b[32m━━━━━━━━━━━━━━━━━━━━\u001b[0m\u001b[37m\u001b[0m \u001b[1m3s\u001b[0m 2ms/step - accuracy: 0.9778 - loss: 0.3415 - val_accuracy: 0.9743 - val_loss: 0.3361\n",
      "Epoch 32/50\n",
      "\u001b[1m1182/1182\u001b[0m \u001b[32m━━━━━━━━━━━━━━━━━━━━\u001b[0m\u001b[37m\u001b[0m \u001b[1m3s\u001b[0m 2ms/step - accuracy: 0.9789 - loss: 0.3326 - val_accuracy: 0.9786 - val_loss: 0.3321\n",
      "Epoch 33/50\n",
      "\u001b[1m1182/1182\u001b[0m \u001b[32m━━━━━━━━━━━━━━━━━━━━\u001b[0m\u001b[37m\u001b[0m \u001b[1m3s\u001b[0m 2ms/step - accuracy: 0.9794 - loss: 0.3276 - val_accuracy: 0.9786 - val_loss: 0.3246\n",
      "Epoch 34/50\n",
      "\u001b[1m1182/1182\u001b[0m \u001b[32m━━━━━━━━━━━━━━━━━━━━\u001b[0m\u001b[37m\u001b[0m \u001b[1m3s\u001b[0m 2ms/step - accuracy: 0.9804 - loss: 0.3175 - val_accuracy: 0.9764 - val_loss: 0.3200\n",
      "Epoch 35/50\n",
      "\u001b[1m1182/1182\u001b[0m \u001b[32m━━━━━━━━━━━━━━━━━━━━\u001b[0m\u001b[37m\u001b[0m \u001b[1m3s\u001b[0m 2ms/step - accuracy: 0.9804 - loss: 0.3129 - val_accuracy: 0.9764 - val_loss: 0.3130\n",
      "Epoch 36/50\n",
      "\u001b[1m1182/1182\u001b[0m \u001b[32m━━━━━━━━━━━━━━━━━━━━\u001b[0m\u001b[37m\u001b[0m \u001b[1m3s\u001b[0m 2ms/step - accuracy: 0.9804 - loss: 0.3044 - val_accuracy: 0.9764 - val_loss: 0.3153\n",
      "Epoch 37/50\n",
      "\u001b[1m1182/1182\u001b[0m \u001b[32m━━━━━━━━━━━━━━━━━━━━\u001b[0m\u001b[37m\u001b[0m \u001b[1m3s\u001b[0m 2ms/step - accuracy: 0.9832 - loss: 0.2980 - val_accuracy: 0.9769 - val_loss: 0.3052\n",
      "Epoch 38/50\n",
      "\u001b[1m1182/1182\u001b[0m \u001b[32m━━━━━━━━━━━━━━━━━━━━\u001b[0m\u001b[37m\u001b[0m \u001b[1m3s\u001b[0m 2ms/step - accuracy: 0.9801 - loss: 0.2958 - val_accuracy: 0.9767 - val_loss: 0.2995\n",
      "Epoch 39/50\n",
      "\u001b[1m1182/1182\u001b[0m \u001b[32m━━━━━━━━━━━━━━━━━━━━\u001b[0m\u001b[37m\u001b[0m \u001b[1m2s\u001b[0m 2ms/step - accuracy: 0.9817 - loss: 0.2904 - val_accuracy: 0.9774 - val_loss: 0.2969\n",
      "Epoch 40/50\n",
      "\u001b[1m1182/1182\u001b[0m \u001b[32m━━━━━━━━━━━━━━━━━━━━\u001b[0m\u001b[37m\u001b[0m \u001b[1m3s\u001b[0m 2ms/step - accuracy: 0.9828 - loss: 0.2841 - val_accuracy: 0.9774 - val_loss: 0.2942\n",
      "Epoch 41/50\n",
      "\u001b[1m1182/1182\u001b[0m \u001b[32m━━━━━━━━━━━━━━━━━━━━\u001b[0m\u001b[37m\u001b[0m \u001b[1m3s\u001b[0m 2ms/step - accuracy: 0.9834 - loss: 0.2810 - val_accuracy: 0.9781 - val_loss: 0.2924\n",
      "Epoch 42/50\n",
      "\u001b[1m1182/1182\u001b[0m \u001b[32m━━━━━━━━━━━━━━━━━━━━\u001b[0m\u001b[37m\u001b[0m \u001b[1m3s\u001b[0m 2ms/step - accuracy: 0.9822 - loss: 0.2798 - val_accuracy: 0.9752 - val_loss: 0.2897\n",
      "Epoch 43/50\n",
      "\u001b[1m1182/1182\u001b[0m \u001b[32m━━━━━━━━━━━━━━━━━━━━\u001b[0m\u001b[37m\u001b[0m \u001b[1m3s\u001b[0m 2ms/step - accuracy: 0.9836 - loss: 0.2732 - val_accuracy: 0.9781 - val_loss: 0.2860\n",
      "Epoch 44/50\n",
      "\u001b[1m1182/1182\u001b[0m \u001b[32m━━━━━━━━━━━━━━━━━━━━\u001b[0m\u001b[37m\u001b[0m \u001b[1m3s\u001b[0m 2ms/step - accuracy: 0.9849 - loss: 0.2682 - val_accuracy: 0.9767 - val_loss: 0.2822\n",
      "Epoch 45/50\n",
      "\u001b[1m1182/1182\u001b[0m \u001b[32m━━━━━━━━━━━━━━━━━━━━\u001b[0m\u001b[37m\u001b[0m \u001b[1m3s\u001b[0m 2ms/step - accuracy: 0.9846 - loss: 0.2635 - val_accuracy: 0.9771 - val_loss: 0.2773\n",
      "Epoch 46/50\n",
      "\u001b[1m1182/1182\u001b[0m \u001b[32m━━━━━━━━━━━━━━━━━━━━\u001b[0m\u001b[37m\u001b[0m \u001b[1m3s\u001b[0m 2ms/step - accuracy: 0.9835 - loss: 0.2627 - val_accuracy: 0.9764 - val_loss: 0.2768\n",
      "Epoch 47/50\n",
      "\u001b[1m1182/1182\u001b[0m \u001b[32m━━━━━━━━━━━━━━━━━━━━\u001b[0m\u001b[37m\u001b[0m \u001b[1m3s\u001b[0m 2ms/step - accuracy: 0.9845 - loss: 0.2591 - val_accuracy: 0.9781 - val_loss: 0.2732\n",
      "Epoch 48/50\n",
      "\u001b[1m1182/1182\u001b[0m \u001b[32m━━━━━━━━━━━━━━━━━━━━\u001b[0m\u001b[37m\u001b[0m \u001b[1m3s\u001b[0m 2ms/step - accuracy: 0.9838 - loss: 0.2595 - val_accuracy: 0.9793 - val_loss: 0.2715\n",
      "Epoch 49/50\n",
      "\u001b[1m1182/1182\u001b[0m \u001b[32m━━━━━━━━━━━━━━━━━━━━\u001b[0m\u001b[37m\u001b[0m \u001b[1m3s\u001b[0m 2ms/step - accuracy: 0.9850 - loss: 0.2541 - val_accuracy: 0.9795 - val_loss: 0.2662\n",
      "Epoch 50/50\n",
      "\u001b[1m1182/1182\u001b[0m \u001b[32m━━━━━━━━━━━━━━━━━━━━\u001b[0m\u001b[37m\u001b[0m \u001b[1m3s\u001b[0m 2ms/step - accuracy: 0.9859 - loss: 0.2497 - val_accuracy: 0.9781 - val_loss: 0.2659\n"
     ]
    },
    {
     "data": {
      "text/plain": [
       "<keras.src.callbacks.history.History at 0x7af03c5bf430>"
      ]
     },
     "execution_count": 11,
     "metadata": {},
     "output_type": "execute_result"
    }
   ],
   "source": [
    "# Define a deeper and more complex model\n",
    "model = Sequential([\n",
    "    Dense(units=512, activation='relu', kernel_regularizer=L2(0.001)),  # Increased units\n",
    "    Dropout(0.4),  # Add dropout to prevent overfitting\n",
    "    Dense(units=256, activation='relu', kernel_regularizer=L2(0.001)),\n",
    "    Dropout(0.4),\n",
    "    Dense(units=128, activation='relu', kernel_regularizer=L2(0.001)),\n",
    "    Dropout(0.3),\n",
    "    Dense(units=64, activation='relu', kernel_regularizer=L2(0.001)),\n",
    "    Dropout(0.3),\n",
    "    Dense(units=32, activation='relu', kernel_regularizer=L2(0.001)),\n",
    "    Dense(units=10, activation='softmax', kernel_regularizer=L2(0.001))  \n",
    "])\n",
    "\n",
    "# Compile the model with an Adam optimizer and metrics\n",
    "model.compile(\n",
    "    optimizer=Adam(learning_rate=5e-5),  # Reduced learning rate for better convergence\n",
    "    loss=SparseCategoricalCrossentropy(),\n",
    "    metrics=['accuracy']\n",
    ")\n",
    "\n",
    "# Train the model\n",
    "model.fit(X_train, y_train, epochs=50, validation_data=(X_val, y_val))  # Increased epochs"
   ]
  },
  {
   "cell_type": "markdown",
   "id": "12f9e4e1",
   "metadata": {
    "papermill": {
     "duration": 0.380334,
     "end_time": "2024-09-23T20:35:48.951897",
     "exception": false,
     "start_time": "2024-09-23T20:35:48.571563",
     "status": "completed"
    },
    "tags": []
   },
   "source": [
    "The results are promising, but now let's take it a step further by trying a convolutional neural network (CNN)."
   ]
  },
  {
   "cell_type": "markdown",
   "id": "c90bc963",
   "metadata": {
    "papermill": {
     "duration": 0.381644,
     "end_time": "2024-09-23T20:35:49.749258",
     "exception": false,
     "start_time": "2024-09-23T20:35:49.367614",
     "status": "completed"
    },
    "tags": []
   },
   "source": [
    "# <div style=\"text-align:center; border-radius:15px; padding:15px; margin:0; font-size:110%; font-family:Arial, sans-serif; background-color:#056C90; color:#EDEBEC; overflow:hidden; box-shadow:0 4px 8px rgba(0, 0, 0, 0.3);\"><b> 5. Convolutional Neural Network </b></div>"
   ]
  },
  {
   "cell_type": "markdown",
   "id": "cbe88e71",
   "metadata": {
    "papermill": {
     "duration": 0.373731,
     "end_time": "2024-09-23T20:35:50.511122",
     "exception": false,
     "start_time": "2024-09-23T20:35:50.137391",
     "status": "completed"
    },
    "tags": []
   },
   "source": [
    "Convolutional Neural Networks (CNNs) are powerful for image recognition tasks because they can capture spatial features, like edges, patterns, and shapes, making them much more effective than dense neural networks for working with images.\n",
    "\n",
    "However, to take advantage of CNNs, we need to reshape our data. The images in the dataset are originally stored as flat 1D vectors (with 784 elements for 28x28 pixel images). CNNs, though, require the data to be in 2D (28x28) with a depth of 1 for grayscale images. This allows the CNN to process the pixel structure properly and detect patterns.\n",
    "\n",
    "That’s why we convert our data from DataFrames to NumPy arrays and reshape them to (28, 28, 1). This gives CNNs the right format to work with, preserving the spatial relationships between pixels."
   ]
  },
  {
   "cell_type": "code",
   "execution_count": 12,
   "id": "81b67efd",
   "metadata": {
    "execution": {
     "iopub.execute_input": "2024-09-23T20:35:51.259653Z",
     "iopub.status.busy": "2024-09-23T20:35:51.259247Z",
     "iopub.status.idle": "2024-09-23T20:35:51.264692Z",
     "shell.execute_reply": "2024-09-23T20:35:51.263817Z"
    },
    "papermill": {
     "duration": 0.379764,
     "end_time": "2024-09-23T20:35:51.266732",
     "exception": false,
     "start_time": "2024-09-23T20:35:50.886968",
     "status": "completed"
    },
    "tags": []
   },
   "outputs": [],
   "source": [
    "# Convert DataFrames to NumPy arrays\n",
    "X_train = X_train.to_numpy().reshape(-1, 28, 28, 1)\n",
    "X_val = X_val.to_numpy().reshape(-1, 28, 28, 1)\n",
    "X_test = X_test.to_numpy().reshape(-1, 28, 28, 1)"
   ]
  },
  {
   "cell_type": "code",
   "execution_count": 13,
   "id": "ff70b031",
   "metadata": {
    "execution": {
     "iopub.execute_input": "2024-09-23T20:35:52.060403Z",
     "iopub.status.busy": "2024-09-23T20:35:52.060026Z",
     "iopub.status.idle": "2024-09-23T20:38:37.089730Z",
     "shell.execute_reply": "2024-09-23T20:38:37.088802Z"
    },
    "papermill": {
     "duration": 165.411027,
     "end_time": "2024-09-23T20:38:37.091631",
     "exception": false,
     "start_time": "2024-09-23T20:35:51.680604",
     "status": "completed"
    },
    "tags": []
   },
   "outputs": [
    {
     "name": "stdout",
     "output_type": "stream",
     "text": [
      "Epoch 1/50\n",
      "\u001b[1m1182/1182\u001b[0m \u001b[32m━━━━━━━━━━━━━━━━━━━━\u001b[0m\u001b[37m\u001b[0m \u001b[1m20s\u001b[0m 9ms/step - accuracy: 0.4781 - loss: 1.5454 - val_accuracy: 0.9445 - val_loss: 0.2335\n",
      "Epoch 2/50\n",
      "\u001b[1m1182/1182\u001b[0m \u001b[32m━━━━━━━━━━━━━━━━━━━━\u001b[0m\u001b[37m\u001b[0m \u001b[1m3s\u001b[0m 3ms/step - accuracy: 0.9020 - loss: 0.3391 - val_accuracy: 0.9619 - val_loss: 0.1565\n",
      "Epoch 3/50\n",
      "\u001b[1m1182/1182\u001b[0m \u001b[32m━━━━━━━━━━━━━━━━━━━━\u001b[0m\u001b[37m\u001b[0m \u001b[1m3s\u001b[0m 2ms/step - accuracy: 0.9350 - loss: 0.2375 - val_accuracy: 0.9705 - val_loss: 0.1283\n",
      "Epoch 4/50\n",
      "\u001b[1m1182/1182\u001b[0m \u001b[32m━━━━━━━━━━━━━━━━━━━━\u001b[0m\u001b[37m\u001b[0m \u001b[1m3s\u001b[0m 2ms/step - accuracy: 0.9491 - loss: 0.1907 - val_accuracy: 0.9767 - val_loss: 0.1094\n",
      "Epoch 5/50\n",
      "\u001b[1m1182/1182\u001b[0m \u001b[32m━━━━━━━━━━━━━━━━━━━━\u001b[0m\u001b[37m\u001b[0m \u001b[1m3s\u001b[0m 2ms/step - accuracy: 0.9571 - loss: 0.1682 - val_accuracy: 0.9783 - val_loss: 0.0992\n",
      "Epoch 6/50\n",
      "\u001b[1m1182/1182\u001b[0m \u001b[32m━━━━━━━━━━━━━━━━━━━━\u001b[0m\u001b[37m\u001b[0m \u001b[1m3s\u001b[0m 2ms/step - accuracy: 0.9639 - loss: 0.1463 - val_accuracy: 0.9812 - val_loss: 0.0934\n",
      "Epoch 7/50\n",
      "\u001b[1m1182/1182\u001b[0m \u001b[32m━━━━━━━━━━━━━━━━━━━━\u001b[0m\u001b[37m\u001b[0m \u001b[1m3s\u001b[0m 2ms/step - accuracy: 0.9680 - loss: 0.1304 - val_accuracy: 0.9810 - val_loss: 0.0877\n",
      "Epoch 8/50\n",
      "\u001b[1m1182/1182\u001b[0m \u001b[32m━━━━━━━━━━━━━━━━━━━━\u001b[0m\u001b[37m\u001b[0m \u001b[1m3s\u001b[0m 2ms/step - accuracy: 0.9713 - loss: 0.1222 - val_accuracy: 0.9840 - val_loss: 0.0813\n",
      "Epoch 9/50\n",
      "\u001b[1m1182/1182\u001b[0m \u001b[32m━━━━━━━━━━━━━━━━━━━━\u001b[0m\u001b[37m\u001b[0m \u001b[1m3s\u001b[0m 2ms/step - accuracy: 0.9739 - loss: 0.1153 - val_accuracy: 0.9843 - val_loss: 0.0799\n",
      "Epoch 10/50\n",
      "\u001b[1m1182/1182\u001b[0m \u001b[32m━━━━━━━━━━━━━━━━━━━━\u001b[0m\u001b[37m\u001b[0m \u001b[1m3s\u001b[0m 2ms/step - accuracy: 0.9741 - loss: 0.1108 - val_accuracy: 0.9857 - val_loss: 0.0766\n",
      "Epoch 11/50\n",
      "\u001b[1m1182/1182\u001b[0m \u001b[32m━━━━━━━━━━━━━━━━━━━━\u001b[0m\u001b[37m\u001b[0m \u001b[1m3s\u001b[0m 3ms/step - accuracy: 0.9758 - loss: 0.1066 - val_accuracy: 0.9864 - val_loss: 0.0730\n",
      "Epoch 12/50\n",
      "\u001b[1m1182/1182\u001b[0m \u001b[32m━━━━━━━━━━━━━━━━━━━━\u001b[0m\u001b[37m\u001b[0m \u001b[1m3s\u001b[0m 2ms/step - accuracy: 0.9786 - loss: 0.0988 - val_accuracy: 0.9869 - val_loss: 0.0729\n",
      "Epoch 13/50\n",
      "\u001b[1m1182/1182\u001b[0m \u001b[32m━━━━━━━━━━━━━━━━━━━━\u001b[0m\u001b[37m\u001b[0m \u001b[1m3s\u001b[0m 2ms/step - accuracy: 0.9803 - loss: 0.0939 - val_accuracy: 0.9881 - val_loss: 0.0691\n",
      "Epoch 14/50\n",
      "\u001b[1m1182/1182\u001b[0m \u001b[32m━━━━━━━━━━━━━━━━━━━━\u001b[0m\u001b[37m\u001b[0m \u001b[1m3s\u001b[0m 2ms/step - accuracy: 0.9816 - loss: 0.0893 - val_accuracy: 0.9876 - val_loss: 0.0699\n",
      "Epoch 15/50\n",
      "\u001b[1m1182/1182\u001b[0m \u001b[32m━━━━━━━━━━━━━━━━━━━━\u001b[0m\u001b[37m\u001b[0m \u001b[1m3s\u001b[0m 3ms/step - accuracy: 0.9839 - loss: 0.0846 - val_accuracy: 0.9879 - val_loss: 0.0684\n",
      "Epoch 16/50\n",
      "\u001b[1m1182/1182\u001b[0m \u001b[32m━━━━━━━━━━━━━━━━━━━━\u001b[0m\u001b[37m\u001b[0m \u001b[1m3s\u001b[0m 3ms/step - accuracy: 0.9828 - loss: 0.0865 - val_accuracy: 0.9893 - val_loss: 0.0654\n",
      "Epoch 17/50\n",
      "\u001b[1m1182/1182\u001b[0m \u001b[32m━━━━━━━━━━━━━━━━━━━━\u001b[0m\u001b[37m\u001b[0m \u001b[1m3s\u001b[0m 3ms/step - accuracy: 0.9850 - loss: 0.0809 - val_accuracy: 0.9888 - val_loss: 0.0661\n",
      "Epoch 18/50\n",
      "\u001b[1m1182/1182\u001b[0m \u001b[32m━━━━━━━━━━━━━━━━━━━━\u001b[0m\u001b[37m\u001b[0m \u001b[1m3s\u001b[0m 2ms/step - accuracy: 0.9843 - loss: 0.0806 - val_accuracy: 0.9895 - val_loss: 0.0644\n",
      "Epoch 19/50\n",
      "\u001b[1m1182/1182\u001b[0m \u001b[32m━━━━━━━━━━━━━━━━━━━━\u001b[0m\u001b[37m\u001b[0m \u001b[1m3s\u001b[0m 2ms/step - accuracy: 0.9848 - loss: 0.0788 - val_accuracy: 0.9893 - val_loss: 0.0633\n",
      "Epoch 20/50\n",
      "\u001b[1m1182/1182\u001b[0m \u001b[32m━━━━━━━━━━━━━━━━━━━━\u001b[0m\u001b[37m\u001b[0m \u001b[1m3s\u001b[0m 3ms/step - accuracy: 0.9848 - loss: 0.0798 - val_accuracy: 0.9900 - val_loss: 0.0613\n",
      "Epoch 21/50\n",
      "\u001b[1m1182/1182\u001b[0m \u001b[32m━━━━━━━━━━━━━━━━━━━━\u001b[0m\u001b[37m\u001b[0m \u001b[1m3s\u001b[0m 3ms/step - accuracy: 0.9866 - loss: 0.0734 - val_accuracy: 0.9890 - val_loss: 0.0632\n",
      "Epoch 22/50\n",
      "\u001b[1m1182/1182\u001b[0m \u001b[32m━━━━━━━━━━━━━━━━━━━━\u001b[0m\u001b[37m\u001b[0m \u001b[1m3s\u001b[0m 3ms/step - accuracy: 0.9862 - loss: 0.0719 - val_accuracy: 0.9902 - val_loss: 0.0603\n",
      "Epoch 23/50\n",
      "\u001b[1m1182/1182\u001b[0m \u001b[32m━━━━━━━━━━━━━━━━━━━━\u001b[0m\u001b[37m\u001b[0m \u001b[1m3s\u001b[0m 3ms/step - accuracy: 0.9876 - loss: 0.0710 - val_accuracy: 0.9900 - val_loss: 0.0610\n",
      "Epoch 24/50\n",
      "\u001b[1m1182/1182\u001b[0m \u001b[32m━━━━━━━━━━━━━━━━━━━━\u001b[0m\u001b[37m\u001b[0m \u001b[1m3s\u001b[0m 3ms/step - accuracy: 0.9857 - loss: 0.0738 - val_accuracy: 0.9917 - val_loss: 0.0581\n",
      "Epoch 25/50\n",
      "\u001b[1m1182/1182\u001b[0m \u001b[32m━━━━━━━━━━━━━━━━━━━━\u001b[0m\u001b[37m\u001b[0m \u001b[1m3s\u001b[0m 3ms/step - accuracy: 0.9874 - loss: 0.0713 - val_accuracy: 0.9910 - val_loss: 0.0583\n",
      "Epoch 26/50\n",
      "\u001b[1m1182/1182\u001b[0m \u001b[32m━━━━━━━━━━━━━━━━━━━━\u001b[0m\u001b[37m\u001b[0m \u001b[1m3s\u001b[0m 2ms/step - accuracy: 0.9881 - loss: 0.0645 - val_accuracy: 0.9902 - val_loss: 0.0587\n",
      "Epoch 27/50\n",
      "\u001b[1m1182/1182\u001b[0m \u001b[32m━━━━━━━━━━━━━━━━━━━━\u001b[0m\u001b[37m\u001b[0m \u001b[1m3s\u001b[0m 2ms/step - accuracy: 0.9885 - loss: 0.0662 - val_accuracy: 0.9914 - val_loss: 0.0591\n",
      "Epoch 28/50\n",
      "\u001b[1m1182/1182\u001b[0m \u001b[32m━━━━━━━━━━━━━━━━━━━━\u001b[0m\u001b[37m\u001b[0m \u001b[1m3s\u001b[0m 3ms/step - accuracy: 0.9877 - loss: 0.0668 - val_accuracy: 0.9919 - val_loss: 0.0548\n",
      "Epoch 29/50\n",
      "\u001b[1m1182/1182\u001b[0m \u001b[32m━━━━━━━━━━━━━━━━━━━━\u001b[0m\u001b[37m\u001b[0m \u001b[1m3s\u001b[0m 2ms/step - accuracy: 0.9899 - loss: 0.0625 - val_accuracy: 0.9912 - val_loss: 0.0557\n",
      "Epoch 30/50\n",
      "\u001b[1m1182/1182\u001b[0m \u001b[32m━━━━━━━━━━━━━━━━━━━━\u001b[0m\u001b[37m\u001b[0m \u001b[1m3s\u001b[0m 3ms/step - accuracy: 0.9905 - loss: 0.0617 - val_accuracy: 0.9893 - val_loss: 0.0613\n",
      "Epoch 31/50\n",
      "\u001b[1m1182/1182\u001b[0m \u001b[32m━━━━━━━━━━━━━━━━━━━━\u001b[0m\u001b[37m\u001b[0m \u001b[1m3s\u001b[0m 3ms/step - accuracy: 0.9889 - loss: 0.0626 - val_accuracy: 0.9910 - val_loss: 0.0563\n",
      "Epoch 32/50\n",
      "\u001b[1m1182/1182\u001b[0m \u001b[32m━━━━━━━━━━━━━━━━━━━━\u001b[0m\u001b[37m\u001b[0m \u001b[1m3s\u001b[0m 3ms/step - accuracy: 0.9897 - loss: 0.0634 - val_accuracy: 0.9910 - val_loss: 0.0560\n",
      "Epoch 33/50\n",
      "\u001b[1m1182/1182\u001b[0m \u001b[32m━━━━━━━━━━━━━━━━━━━━\u001b[0m\u001b[37m\u001b[0m \u001b[1m3s\u001b[0m 3ms/step - accuracy: 0.9899 - loss: 0.0619 - val_accuracy: 0.9929 - val_loss: 0.0549\n",
      "Epoch 34/50\n",
      "\u001b[1m1182/1182\u001b[0m \u001b[32m━━━━━━━━━━━━━━━━━━━━\u001b[0m\u001b[37m\u001b[0m \u001b[1m3s\u001b[0m 2ms/step - accuracy: 0.9907 - loss: 0.0597 - val_accuracy: 0.9912 - val_loss: 0.0544\n",
      "Epoch 35/50\n",
      "\u001b[1m1182/1182\u001b[0m \u001b[32m━━━━━━━━━━━━━━━━━━━━\u001b[0m\u001b[37m\u001b[0m \u001b[1m3s\u001b[0m 2ms/step - accuracy: 0.9899 - loss: 0.0588 - val_accuracy: 0.9919 - val_loss: 0.0553\n",
      "Epoch 36/50\n",
      "\u001b[1m1182/1182\u001b[0m \u001b[32m━━━━━━━━━━━━━━━━━━━━\u001b[0m\u001b[37m\u001b[0m \u001b[1m3s\u001b[0m 3ms/step - accuracy: 0.9894 - loss: 0.0599 - val_accuracy: 0.9917 - val_loss: 0.0539\n",
      "Epoch 37/50\n",
      "\u001b[1m1182/1182\u001b[0m \u001b[32m━━━━━━━━━━━━━━━━━━━━\u001b[0m\u001b[37m\u001b[0m \u001b[1m3s\u001b[0m 2ms/step - accuracy: 0.9919 - loss: 0.0538 - val_accuracy: 0.9895 - val_loss: 0.0554\n",
      "Epoch 38/50\n",
      "\u001b[1m1182/1182\u001b[0m \u001b[32m━━━━━━━━━━━━━━━━━━━━\u001b[0m\u001b[37m\u001b[0m \u001b[1m3s\u001b[0m 2ms/step - accuracy: 0.9912 - loss: 0.0552 - val_accuracy: 0.9919 - val_loss: 0.0529\n",
      "Epoch 39/50\n",
      "\u001b[1m1182/1182\u001b[0m \u001b[32m━━━━━━━━━━━━━━━━━━━━\u001b[0m\u001b[37m\u001b[0m \u001b[1m3s\u001b[0m 2ms/step - accuracy: 0.9913 - loss: 0.0537 - val_accuracy: 0.9931 - val_loss: 0.0529\n",
      "Epoch 40/50\n",
      "\u001b[1m1182/1182\u001b[0m \u001b[32m━━━━━━━━━━━━━━━━━━━━\u001b[0m\u001b[37m\u001b[0m \u001b[1m3s\u001b[0m 2ms/step - accuracy: 0.9917 - loss: 0.0551 - val_accuracy: 0.9919 - val_loss: 0.0551\n",
      "Epoch 41/50\n",
      "\u001b[1m1182/1182\u001b[0m \u001b[32m━━━━━━━━━━━━━━━━━━━━\u001b[0m\u001b[37m\u001b[0m \u001b[1m3s\u001b[0m 2ms/step - accuracy: 0.9914 - loss: 0.0551 - val_accuracy: 0.9910 - val_loss: 0.0545\n",
      "Epoch 42/50\n",
      "\u001b[1m1182/1182\u001b[0m \u001b[32m━━━━━━━━━━━━━━━━━━━━\u001b[0m\u001b[37m\u001b[0m \u001b[1m3s\u001b[0m 2ms/step - accuracy: 0.9905 - loss: 0.0548 - val_accuracy: 0.9924 - val_loss: 0.0510\n",
      "Epoch 43/50\n",
      "\u001b[1m1182/1182\u001b[0m \u001b[32m━━━━━━━━━━━━━━━━━━━━\u001b[0m\u001b[37m\u001b[0m \u001b[1m3s\u001b[0m 3ms/step - accuracy: 0.9928 - loss: 0.0514 - val_accuracy: 0.9919 - val_loss: 0.0539\n",
      "Epoch 44/50\n",
      "\u001b[1m1182/1182\u001b[0m \u001b[32m━━━━━━━━━━━━━━━━━━━━\u001b[0m\u001b[37m\u001b[0m \u001b[1m3s\u001b[0m 2ms/step - accuracy: 0.9925 - loss: 0.0496 - val_accuracy: 0.9919 - val_loss: 0.0532\n",
      "Epoch 45/50\n",
      "\u001b[1m1182/1182\u001b[0m \u001b[32m━━━━━━━━━━━━━━━━━━━━\u001b[0m\u001b[37m\u001b[0m \u001b[1m3s\u001b[0m 2ms/step - accuracy: 0.9916 - loss: 0.0524 - val_accuracy: 0.9926 - val_loss: 0.0512\n",
      "Epoch 46/50\n",
      "\u001b[1m1182/1182\u001b[0m \u001b[32m━━━━━━━━━━━━━━━━━━━━\u001b[0m\u001b[37m\u001b[0m \u001b[1m3s\u001b[0m 2ms/step - accuracy: 0.9923 - loss: 0.0502 - val_accuracy: 0.9931 - val_loss: 0.0498\n",
      "Epoch 47/50\n",
      "\u001b[1m1182/1182\u001b[0m \u001b[32m━━━━━━━━━━━━━━━━━━━━\u001b[0m\u001b[37m\u001b[0m \u001b[1m3s\u001b[0m 2ms/step - accuracy: 0.9923 - loss: 0.0511 - val_accuracy: 0.9921 - val_loss: 0.0497\n",
      "Epoch 48/50\n",
      "\u001b[1m1182/1182\u001b[0m \u001b[32m━━━━━━━━━━━━━━━━━━━━\u001b[0m\u001b[37m\u001b[0m \u001b[1m3s\u001b[0m 2ms/step - accuracy: 0.9916 - loss: 0.0516 - val_accuracy: 0.9910 - val_loss: 0.0525\n",
      "Epoch 49/50\n",
      "\u001b[1m1182/1182\u001b[0m \u001b[32m━━━━━━━━━━━━━━━━━━━━\u001b[0m\u001b[37m\u001b[0m \u001b[1m3s\u001b[0m 2ms/step - accuracy: 0.9921 - loss: 0.0494 - val_accuracy: 0.9933 - val_loss: 0.0472\n",
      "Epoch 50/50\n",
      "\u001b[1m1182/1182\u001b[0m \u001b[32m━━━━━━━━━━━━━━━━━━━━\u001b[0m\u001b[37m\u001b[0m \u001b[1m3s\u001b[0m 2ms/step - accuracy: 0.9924 - loss: 0.0496 - val_accuracy: 0.9931 - val_loss: 0.0483\n"
     ]
    },
    {
     "data": {
      "text/plain": [
       "<keras.src.callbacks.history.History at 0x7af0306de1a0>"
      ]
     },
     "execution_count": 13,
     "metadata": {},
     "output_type": "execute_result"
    }
   ],
   "source": [
    "# Define a model with Conv2D layers\n",
    "model = Sequential([\n",
    "    Conv2D(32, kernel_size=(3, 3), activation='relu', padding = 'Same', kernel_regularizer=L2(0.0001), input_shape=(28, 28, 1)),    # First conv layer\n",
    "    MaxPooling2D(pool_size=(2, 2)),   # Pooling layer\n",
    "    Dropout(0.2),  # Dropout to reduce overfitting\n",
    "    \n",
    "    Conv2D(64, kernel_size=(3, 3), activation='relu', padding = 'Same', kernel_regularizer=L2(0.0001)),  # Second conv layer\n",
    "    MaxPooling2D(pool_size=(2, 2)),\n",
    "    Dropout(0.3),\n",
    "    \n",
    "    Conv2D(128, kernel_size=(3, 3), activation='relu', padding = 'Same', kernel_regularizer=L2(0.0001)),   # Third conv layer\n",
    "    MaxPooling2D(pool_size=(2, 2)),\n",
    "    Dropout(0.3),\n",
    "    \n",
    "    Flatten(),    # Flatten the output for dense layers\n",
    "    Dense(64, activation='relu', kernel_regularizer=L2(0.0001)),  # Fully connected layer\n",
    "    Dropout(0.2),\n",
    "    Dense(10, activation='softmax')  # Output layer\n",
    "])\n",
    "\n",
    "# Compile the model\n",
    "model.compile(\n",
    "    optimizer=Adam(learning_rate=1e-4),   \n",
    "    loss=SparseCategoricalCrossentropy(),\n",
    "    metrics=['accuracy']\n",
    ")\n",
    "\n",
    "# Train the model\n",
    "model.fit(X_train, y_train, epochs=50, validation_data=(X_val, y_val))  "
   ]
  },
  {
   "cell_type": "markdown",
   "id": "f86170f4",
   "metadata": {
    "papermill": {
     "duration": 0.634824,
     "end_time": "2024-09-23T20:38:38.324181",
     "exception": false,
     "start_time": "2024-09-23T20:38:37.689357",
     "status": "completed"
    },
    "tags": []
   },
   "source": [
    "## Data Augmentation"
   ]
  },
  {
   "cell_type": "markdown",
   "id": "55313f20",
   "metadata": {
    "papermill": {
     "duration": 0.593661,
     "end_time": "2024-09-23T20:38:39.514000",
     "exception": false,
     "start_time": "2024-09-23T20:38:38.920339",
     "status": "completed"
    },
    "tags": []
   },
   "source": [
    "Data augmentation is a powerful technique used to improve the performance and generalization of machine learning models, especially in image recognition tasks like digit recognition. The idea behind data augmentation is to artificially increase the size and diversity of the training dataset by applying random transformations to the original images, such as rotations, zooms, shifts, or flips. This helps the model learn more robust features and reduces the risk of overfitting.\n",
    "\n",
    "Since our training dataset may not be large or varied enough, data augmentation allows us to create new variations of the existing images, simulating real-world scenarios where digits might be slightly tilted, resized, or shifted. This technique makes the model more adaptable and better at recognizing digits in various conditions.\n",
    "\n",
    "For this project, we use data augmentation to randomly rotate, shift, or zoom in on images, enhancing the model's ability to generalize well to unseen data. This ensures that the model doesn't simply memorize the training images but learns patterns that can be applied to new data."
   ]
  },
  {
   "cell_type": "markdown",
   "id": "351ff33f",
   "metadata": {
    "papermill": {
     "duration": 0.595991,
     "end_time": "2024-09-23T20:38:40.742877",
     "exception": false,
     "start_time": "2024-09-23T20:38:40.146886",
     "status": "completed"
    },
    "tags": []
   },
   "source": [
    "#### Key Aspects:\n",
    "- **Rotation Range (5 degrees)**: Digit recognition can benefit from slight rotations as handwritten digits may not be perfectly aligned. A small range like 5 degrees keeps the transformation realistic without distorting the digits.\n",
    "\n",
    "- **Zoom Range (0.1)**: A 10% zoom allows the model to learn from digits that may be written smaller or larger, which adds robustness.\n",
    "\n",
    "- **Width/Height Shift (0.1)**: Small translations mimic slight variations in where digits might appear in images. This helps the model handle digits that are not perfectly centered."
   ]
  },
  {
   "cell_type": "code",
   "execution_count": 14,
   "id": "f6b09463",
   "metadata": {
    "execution": {
     "iopub.execute_input": "2024-09-23T20:38:41.933365Z",
     "iopub.status.busy": "2024-09-23T20:38:41.932513Z",
     "iopub.status.idle": "2024-09-23T20:38:42.023318Z",
     "shell.execute_reply": "2024-09-23T20:38:42.022490Z"
    },
    "papermill": {
     "duration": 0.689323,
     "end_time": "2024-09-23T20:38:42.025664",
     "exception": false,
     "start_time": "2024-09-23T20:38:41.336341",
     "status": "completed"
    },
    "tags": []
   },
   "outputs": [],
   "source": [
    "datagen = ImageDataGenerator(\n",
    "        rotation_range=5,         # Randomly rotate images by up to 5 degrees\n",
    "        zoom_range=0.1,            # Randomly zoom images by up to 10%\n",
    "        width_shift_range=0.1,     # Randomly shift images horizontally by up to 10% of width\n",
    "        height_shift_range=0.1,    # Randomly shift images vertically by up to 10% of height\n",
    ")\n",
    "\n",
    "datagen.fit(X_train)"
   ]
  },
  {
   "cell_type": "code",
   "execution_count": 15,
   "id": "daf09777",
   "metadata": {
    "execution": {
     "iopub.execute_input": "2024-09-23T20:38:43.265013Z",
     "iopub.status.busy": "2024-09-23T20:38:43.263883Z",
     "iopub.status.idle": "2024-09-23T20:52:13.517466Z",
     "shell.execute_reply": "2024-09-23T20:52:13.516414Z"
    },
    "papermill": {
     "duration": 810.857892,
     "end_time": "2024-09-23T20:52:13.520234",
     "exception": false,
     "start_time": "2024-09-23T20:38:42.662342",
     "status": "completed"
    },
    "tags": []
   },
   "outputs": [
    {
     "name": "stdout",
     "output_type": "stream",
     "text": [
      "Epoch 1/50\n",
      "\u001b[1m1182/1182\u001b[0m \u001b[32m━━━━━━━━━━━━━━━━━━━━\u001b[0m\u001b[37m\u001b[0m \u001b[1m37s\u001b[0m 21ms/step - accuracy: 0.2239 - loss: 2.4818 - val_accuracy: 0.8805 - val_loss: 0.5993\n",
      "Epoch 2/50\n",
      "\u001b[1m1182/1182\u001b[0m \u001b[32m━━━━━━━━━━━━━━━━━━━━\u001b[0m\u001b[37m\u001b[0m \u001b[1m15s\u001b[0m 13ms/step - accuracy: 0.6583 - loss: 1.0803 - val_accuracy: 0.9671 - val_loss: 0.1728\n",
      "Epoch 3/50\n",
      "\u001b[1m1182/1182\u001b[0m \u001b[32m━━━━━━━━━━━━━━━━━━━━\u001b[0m\u001b[37m\u001b[0m \u001b[1m15s\u001b[0m 13ms/step - accuracy: 0.8422 - loss: 0.5669 - val_accuracy: 0.9798 - val_loss: 0.1265\n",
      "Epoch 4/50\n",
      "\u001b[1m1182/1182\u001b[0m \u001b[32m━━━━━━━━━━━━━━━━━━━━\u001b[0m\u001b[37m\u001b[0m \u001b[1m21s\u001b[0m 13ms/step - accuracy: 0.8963 - loss: 0.4185 - val_accuracy: 0.9805 - val_loss: 0.1196\n",
      "Epoch 5/50\n",
      "\u001b[1m1182/1182\u001b[0m \u001b[32m━━━━━━━━━━━━━━━━━━━━\u001b[0m\u001b[37m\u001b[0m \u001b[1m16s\u001b[0m 13ms/step - accuracy: 0.9281 - loss: 0.3166 - val_accuracy: 0.9860 - val_loss: 0.1067\n",
      "Epoch 6/50\n",
      "\u001b[1m1182/1182\u001b[0m \u001b[32m━━━━━━━━━━━━━━━━━━━━\u001b[0m\u001b[37m\u001b[0m \u001b[1m15s\u001b[0m 13ms/step - accuracy: 0.9379 - loss: 0.2841 - val_accuracy: 0.9864 - val_loss: 0.1080\n",
      "Epoch 7/50\n",
      "\u001b[1m1182/1182\u001b[0m \u001b[32m━━━━━━━━━━━━━━━━━━━━\u001b[0m\u001b[37m\u001b[0m \u001b[1m16s\u001b[0m 13ms/step - accuracy: 0.9507 - loss: 0.2430 - val_accuracy: 0.9867 - val_loss: 0.1063\n",
      "Epoch 8/50\n",
      "\u001b[1m1182/1182\u001b[0m \u001b[32m━━━━━━━━━━━━━━━━━━━━\u001b[0m\u001b[37m\u001b[0m \u001b[1m15s\u001b[0m 13ms/step - accuracy: 0.9538 - loss: 0.2288 - val_accuracy: 0.9890 - val_loss: 0.0964\n",
      "Epoch 9/50\n",
      "\u001b[1m1182/1182\u001b[0m \u001b[32m━━━━━━━━━━━━━━━━━━━━\u001b[0m\u001b[37m\u001b[0m \u001b[1m16s\u001b[0m 14ms/step - accuracy: 0.9591 - loss: 0.2085 - val_accuracy: 0.9890 - val_loss: 0.0937\n",
      "Epoch 10/50\n",
      "\u001b[1m1182/1182\u001b[0m \u001b[32m━━━━━━━━━━━━━━━━━━━━\u001b[0m\u001b[37m\u001b[0m \u001b[1m15s\u001b[0m 13ms/step - accuracy: 0.9640 - loss: 0.1889 - val_accuracy: 0.9862 - val_loss: 0.1053\n",
      "Epoch 11/50\n",
      "\u001b[1m1182/1182\u001b[0m \u001b[32m━━━━━━━━━━━━━━━━━━━━\u001b[0m\u001b[37m\u001b[0m \u001b[1m16s\u001b[0m 13ms/step - accuracy: 0.9660 - loss: 0.1884 - val_accuracy: 0.9895 - val_loss: 0.0859\n",
      "Epoch 12/50\n",
      "\u001b[1m1182/1182\u001b[0m \u001b[32m━━━━━━━━━━━━━━━━━━━━\u001b[0m\u001b[37m\u001b[0m \u001b[1m16s\u001b[0m 13ms/step - accuracy: 0.9702 - loss: 0.1695 - val_accuracy: 0.9905 - val_loss: 0.0879\n",
      "Epoch 13/50\n",
      "\u001b[1m1182/1182\u001b[0m \u001b[32m━━━━━━━━━━━━━━━━━━━━\u001b[0m\u001b[37m\u001b[0m \u001b[1m16s\u001b[0m 14ms/step - accuracy: 0.9734 - loss: 0.1613 - val_accuracy: 0.9902 - val_loss: 0.0887\n",
      "Epoch 14/50\n",
      "\u001b[1m1182/1182\u001b[0m \u001b[32m━━━━━━━━━━━━━━━━━━━━\u001b[0m\u001b[37m\u001b[0m \u001b[1m16s\u001b[0m 13ms/step - accuracy: 0.9752 - loss: 0.1517 - val_accuracy: 0.9907 - val_loss: 0.0839\n",
      "Epoch 15/50\n",
      "\u001b[1m1182/1182\u001b[0m \u001b[32m━━━━━━━━━━━━━━━━━━━━\u001b[0m\u001b[37m\u001b[0m \u001b[1m16s\u001b[0m 13ms/step - accuracy: 0.9737 - loss: 0.1550 - val_accuracy: 0.9910 - val_loss: 0.0843\n",
      "Epoch 16/50\n",
      "\u001b[1m1182/1182\u001b[0m \u001b[32m━━━━━━━━━━━━━━━━━━━━\u001b[0m\u001b[37m\u001b[0m \u001b[1m15s\u001b[0m 13ms/step - accuracy: 0.9763 - loss: 0.1453 - val_accuracy: 0.9910 - val_loss: 0.0834\n",
      "Epoch 17/50\n",
      "\u001b[1m1182/1182\u001b[0m \u001b[32m━━━━━━━━━━━━━━━━━━━━\u001b[0m\u001b[37m\u001b[0m \u001b[1m15s\u001b[0m 13ms/step - accuracy: 0.9780 - loss: 0.1408 - val_accuracy: 0.9910 - val_loss: 0.0853\n",
      "Epoch 18/50\n",
      "\u001b[1m1182/1182\u001b[0m \u001b[32m━━━━━━━━━━━━━━━━━━━━\u001b[0m\u001b[37m\u001b[0m \u001b[1m15s\u001b[0m 13ms/step - accuracy: 0.9782 - loss: 0.1396 - val_accuracy: 0.9914 - val_loss: 0.0817\n",
      "Epoch 19/50\n",
      "\u001b[1m1182/1182\u001b[0m \u001b[32m━━━━━━━━━━━━━━━━━━━━\u001b[0m\u001b[37m\u001b[0m \u001b[1m16s\u001b[0m 13ms/step - accuracy: 0.9800 - loss: 0.1321 - val_accuracy: 0.9936 - val_loss: 0.0785\n",
      "Epoch 20/50\n",
      "\u001b[1m1182/1182\u001b[0m \u001b[32m━━━━━━━━━━━━━━━━━━━━\u001b[0m\u001b[37m\u001b[0m \u001b[1m15s\u001b[0m 13ms/step - accuracy: 0.9789 - loss: 0.1339 - val_accuracy: 0.9924 - val_loss: 0.0819\n",
      "Epoch 21/50\n",
      "\u001b[1m1182/1182\u001b[0m \u001b[32m━━━━━━━━━━━━━━━━━━━━\u001b[0m\u001b[37m\u001b[0m \u001b[1m16s\u001b[0m 14ms/step - accuracy: 0.9808 - loss: 0.1239 - val_accuracy: 0.9933 - val_loss: 0.0806\n",
      "Epoch 22/50\n",
      "\u001b[1m1182/1182\u001b[0m \u001b[32m━━━━━━━━━━━━━━━━━━━━\u001b[0m\u001b[37m\u001b[0m \u001b[1m16s\u001b[0m 13ms/step - accuracy: 0.9815 - loss: 0.1226 - val_accuracy: 0.9921 - val_loss: 0.0834\n",
      "Epoch 23/50\n",
      "\u001b[1m1182/1182\u001b[0m \u001b[32m━━━━━━━━━━━━━━━━━━━━\u001b[0m\u001b[37m\u001b[0m \u001b[1m16s\u001b[0m 13ms/step - accuracy: 0.9822 - loss: 0.1268 - val_accuracy: 0.9924 - val_loss: 0.0807\n",
      "Epoch 24/50\n",
      "\u001b[1m1182/1182\u001b[0m \u001b[32m━━━━━━━━━━━━━━━━━━━━\u001b[0m\u001b[37m\u001b[0m \u001b[1m16s\u001b[0m 13ms/step - accuracy: 0.9794 - loss: 0.1265 - val_accuracy: 0.9929 - val_loss: 0.0757\n",
      "Epoch 25/50\n",
      "\u001b[1m1182/1182\u001b[0m \u001b[32m━━━━━━━━━━━━━━━━━━━━\u001b[0m\u001b[37m\u001b[0m \u001b[1m16s\u001b[0m 13ms/step - accuracy: 0.9841 - loss: 0.1145 - val_accuracy: 0.9924 - val_loss: 0.0771\n",
      "Epoch 26/50\n",
      "\u001b[1m1182/1182\u001b[0m \u001b[32m━━━━━━━━━━━━━━━━━━━━\u001b[0m\u001b[37m\u001b[0m \u001b[1m16s\u001b[0m 13ms/step - accuracy: 0.9821 - loss: 0.1197 - val_accuracy: 0.9936 - val_loss: 0.0768\n",
      "Epoch 27/50\n",
      "\u001b[1m1182/1182\u001b[0m \u001b[32m━━━━━━━━━━━━━━━━━━━━\u001b[0m\u001b[37m\u001b[0m \u001b[1m16s\u001b[0m 13ms/step - accuracy: 0.9837 - loss: 0.1139 - val_accuracy: 0.9919 - val_loss: 0.0774\n",
      "Epoch 28/50\n",
      "\u001b[1m1182/1182\u001b[0m \u001b[32m━━━━━━━━━━━━━━━━━━━━\u001b[0m\u001b[37m\u001b[0m \u001b[1m15s\u001b[0m 13ms/step - accuracy: 0.9853 - loss: 0.1067 - val_accuracy: 0.9929 - val_loss: 0.0748\n",
      "Epoch 29/50\n",
      "\u001b[1m1182/1182\u001b[0m \u001b[32m━━━━━━━━━━━━━━━━━━━━\u001b[0m\u001b[37m\u001b[0m \u001b[1m16s\u001b[0m 13ms/step - accuracy: 0.9851 - loss: 0.1069 - val_accuracy: 0.9936 - val_loss: 0.0756\n",
      "Epoch 30/50\n",
      "\u001b[1m1182/1182\u001b[0m \u001b[32m━━━━━━━━━━━━━━━━━━━━\u001b[0m\u001b[37m\u001b[0m \u001b[1m16s\u001b[0m 13ms/step - accuracy: 0.9853 - loss: 0.1097 - val_accuracy: 0.9936 - val_loss: 0.0752\n",
      "Epoch 31/50\n",
      "\u001b[1m1182/1182\u001b[0m \u001b[32m━━━━━━━━━━━━━━━━━━━━\u001b[0m\u001b[37m\u001b[0m \u001b[1m20s\u001b[0m 13ms/step - accuracy: 0.9857 - loss: 0.1054 - val_accuracy: 0.9929 - val_loss: 0.0758\n",
      "Epoch 32/50\n",
      "\u001b[1m1182/1182\u001b[0m \u001b[32m━━━━━━━━━━━━━━━━━━━━\u001b[0m\u001b[37m\u001b[0m \u001b[1m15s\u001b[0m 13ms/step - accuracy: 0.9856 - loss: 0.1040 - val_accuracy: 0.9931 - val_loss: 0.0735\n",
      "Epoch 33/50\n",
      "\u001b[1m1182/1182\u001b[0m \u001b[32m━━━━━━━━━━━━━━━━━━━━\u001b[0m\u001b[37m\u001b[0m \u001b[1m16s\u001b[0m 13ms/step - accuracy: 0.9859 - loss: 0.1042 - val_accuracy: 0.9936 - val_loss: 0.0734\n",
      "Epoch 34/50\n",
      "\u001b[1m1182/1182\u001b[0m \u001b[32m━━━━━━━━━━━━━━━━━━━━\u001b[0m\u001b[37m\u001b[0m \u001b[1m15s\u001b[0m 13ms/step - accuracy: 0.9848 - loss: 0.1074 - val_accuracy: 0.9948 - val_loss: 0.0737\n",
      "Epoch 35/50\n",
      "\u001b[1m1182/1182\u001b[0m \u001b[32m━━━━━━━━━━━━━━━━━━━━\u001b[0m\u001b[37m\u001b[0m \u001b[1m16s\u001b[0m 13ms/step - accuracy: 0.9871 - loss: 0.0995 - val_accuracy: 0.9933 - val_loss: 0.0732\n",
      "Epoch 36/50\n",
      "\u001b[1m1182/1182\u001b[0m \u001b[32m━━━━━━━━━━━━━━━━━━━━\u001b[0m\u001b[37m\u001b[0m \u001b[1m15s\u001b[0m 13ms/step - accuracy: 0.9865 - loss: 0.1009 - val_accuracy: 0.9940 - val_loss: 0.0744\n",
      "Epoch 37/50\n",
      "\u001b[1m1182/1182\u001b[0m \u001b[32m━━━━━━━━━━━━━━━━━━━━\u001b[0m\u001b[37m\u001b[0m \u001b[1m16s\u001b[0m 13ms/step - accuracy: 0.9872 - loss: 0.0983 - val_accuracy: 0.9933 - val_loss: 0.0723\n",
      "Epoch 38/50\n",
      "\u001b[1m1182/1182\u001b[0m \u001b[32m━━━━━━━━━━━━━━━━━━━━\u001b[0m\u001b[37m\u001b[0m \u001b[1m16s\u001b[0m 13ms/step - accuracy: 0.9866 - loss: 0.0979 - val_accuracy: 0.9936 - val_loss: 0.0736\n",
      "Epoch 39/50\n",
      "\u001b[1m1182/1182\u001b[0m \u001b[32m━━━━━━━━━━━━━━━━━━━━\u001b[0m\u001b[37m\u001b[0m \u001b[1m16s\u001b[0m 13ms/step - accuracy: 0.9871 - loss: 0.1002 - val_accuracy: 0.9933 - val_loss: 0.0744\n",
      "Epoch 40/50\n",
      "\u001b[1m1182/1182\u001b[0m \u001b[32m━━━━━━━━━━━━━━━━━━━━\u001b[0m\u001b[37m\u001b[0m \u001b[1m15s\u001b[0m 13ms/step - accuracy: 0.9875 - loss: 0.0992 - val_accuracy: 0.9940 - val_loss: 0.0733\n",
      "Epoch 41/50\n",
      "\u001b[1m1182/1182\u001b[0m \u001b[32m━━━━━━━━━━━━━━━━━━━━\u001b[0m\u001b[37m\u001b[0m \u001b[1m15s\u001b[0m 13ms/step - accuracy: 0.9883 - loss: 0.0921 - val_accuracy: 0.9945 - val_loss: 0.0706\n",
      "Epoch 42/50\n",
      "\u001b[1m1182/1182\u001b[0m \u001b[32m━━━━━━━━━━━━━━━━━━━━\u001b[0m\u001b[37m\u001b[0m \u001b[1m15s\u001b[0m 13ms/step - accuracy: 0.9882 - loss: 0.0920 - val_accuracy: 0.9929 - val_loss: 0.0723\n",
      "Epoch 43/50\n",
      "\u001b[1m1182/1182\u001b[0m \u001b[32m━━━━━━━━━━━━━━━━━━━━\u001b[0m\u001b[37m\u001b[0m \u001b[1m15s\u001b[0m 13ms/step - accuracy: 0.9880 - loss: 0.0938 - val_accuracy: 0.9933 - val_loss: 0.0726\n",
      "Epoch 44/50\n",
      "\u001b[1m1182/1182\u001b[0m \u001b[32m━━━━━━━━━━━━━━━━━━━━\u001b[0m\u001b[37m\u001b[0m \u001b[1m15s\u001b[0m 13ms/step - accuracy: 0.9885 - loss: 0.0929 - val_accuracy: 0.9943 - val_loss: 0.0712\n",
      "Epoch 45/50\n",
      "\u001b[1m1182/1182\u001b[0m \u001b[32m━━━━━━━━━━━━━━━━━━━━\u001b[0m\u001b[37m\u001b[0m \u001b[1m15s\u001b[0m 13ms/step - accuracy: 0.9883 - loss: 0.0951 - val_accuracy: 0.9945 - val_loss: 0.0706\n",
      "Epoch 46/50\n",
      "\u001b[1m1182/1182\u001b[0m \u001b[32m━━━━━━━━━━━━━━━━━━━━\u001b[0m\u001b[37m\u001b[0m \u001b[1m15s\u001b[0m 13ms/step - accuracy: 0.9886 - loss: 0.0944 - val_accuracy: 0.9926 - val_loss: 0.0740\n",
      "Epoch 47/50\n",
      "\u001b[1m1182/1182\u001b[0m \u001b[32m━━━━━━━━━━━━━━━━━━━━\u001b[0m\u001b[37m\u001b[0m \u001b[1m15s\u001b[0m 13ms/step - accuracy: 0.9882 - loss: 0.0924 - val_accuracy: 0.9940 - val_loss: 0.0709\n",
      "Epoch 48/50\n",
      "\u001b[1m1182/1182\u001b[0m \u001b[32m━━━━━━━━━━━━━━━━━━━━\u001b[0m\u001b[37m\u001b[0m \u001b[1m16s\u001b[0m 13ms/step - accuracy: 0.9886 - loss: 0.0904 - val_accuracy: 0.9943 - val_loss: 0.0706\n",
      "Epoch 49/50\n",
      "\u001b[1m1182/1182\u001b[0m \u001b[32m━━━━━━━━━━━━━━━━━━━━\u001b[0m\u001b[37m\u001b[0m \u001b[1m15s\u001b[0m 13ms/step - accuracy: 0.9900 - loss: 0.0847 - val_accuracy: 0.9940 - val_loss: 0.0673\n",
      "Epoch 50/50\n",
      "\u001b[1m1182/1182\u001b[0m \u001b[32m━━━━━━━━━━━━━━━━━━━━\u001b[0m\u001b[37m\u001b[0m \u001b[1m15s\u001b[0m 13ms/step - accuracy: 0.9882 - loss: 0.0917 - val_accuracy: 0.9940 - val_loss: 0.0708\n"
     ]
    }
   ],
   "source": [
    "# Define a more complex model with adjusted architecture\n",
    "model = Sequential([\n",
    "    # First convolutional block\n",
    "    Conv2D(64, kernel_size=(3, 3), activation='relu', padding = 'Same', kernel_regularizer=L2(0.0001), input_shape=(28, 28, 1)),\n",
    "    BatchNormalization(),\n",
    "    MaxPooling2D(pool_size=(2, 2)),\n",
    "    Dropout(0.3),\n",
    "    \n",
    "    # Second convolutional block\n",
    "    Conv2D(128, kernel_size=(3, 3), activation='relu', padding = 'Same', kernel_regularizer=L2(0.0001)),\n",
    "    BatchNormalization(),\n",
    "    MaxPooling2D(pool_size=(2, 2)),\n",
    "    Dropout(0.3),\n",
    "    \n",
    "    # Third convolutional block\n",
    "    Conv2D(256, kernel_size=(3, 3), activation='relu', padding = 'Same', kernel_regularizer=L2(0.0001)),\n",
    "    BatchNormalization(),\n",
    "    MaxPooling2D(pool_size=(2, 2)),\n",
    "    Dropout(0.4),\n",
    "    \n",
    "    # Flatten and fully connected layers\n",
    "    Flatten(),\n",
    "    Dense(128, activation='relu', kernel_regularizer=L2(0.0001)),\n",
    "    Dropout(0.4),\n",
    "    Dense(64, activation='relu', kernel_regularizer=L2(0.0001)),\n",
    "    Dropout(0.3),\n",
    "    \n",
    "    # Output layer for classification\n",
    "    Dense(10, activation='softmax')\n",
    "])\n",
    "\n",
    "# Compile the model\n",
    "model.compile(\n",
    "    optimizer=Adam(learning_rate=1e-4),\n",
    "    loss=SparseCategoricalCrossentropy(),\n",
    "    metrics=['accuracy']\n",
    ")\n",
    "\n",
    "# Train the model\n",
    "history = model.fit(datagen.flow(X_train, y_train, batch_size=32),\n",
    "                    epochs=50,   \n",
    "                    validation_data=(X_val, y_val))"
   ]
  },
  {
   "cell_type": "markdown",
   "id": "41a14a48",
   "metadata": {
    "papermill": {
     "duration": 1.830883,
     "end_time": "2024-09-23T20:52:17.141189",
     "exception": false,
     "start_time": "2024-09-23T20:52:15.310306",
     "status": "completed"
    },
    "tags": []
   },
   "source": [
    "## Model Evaluation"
   ]
  },
  {
   "cell_type": "markdown",
   "id": "8ffc5bfe",
   "metadata": {
    "papermill": {
     "duration": 1.792479,
     "end_time": "2024-09-23T20:52:20.720902",
     "exception": false,
     "start_time": "2024-09-23T20:52:18.928423",
     "status": "completed"
    },
    "tags": []
   },
   "source": [
    "### Training and Validation Curves"
   ]
  },
  {
   "cell_type": "code",
   "execution_count": 16,
   "id": "a52f0618",
   "metadata": {
    "_kg_hide-input": true,
    "execution": {
     "iopub.execute_input": "2024-09-23T20:52:24.273883Z",
     "iopub.status.busy": "2024-09-23T20:52:24.272969Z",
     "iopub.status.idle": "2024-09-23T20:52:24.781355Z",
     "shell.execute_reply": "2024-09-23T20:52:24.780439Z"
    },
    "papermill": {
     "duration": 2.319513,
     "end_time": "2024-09-23T20:52:24.783461",
     "exception": false,
     "start_time": "2024-09-23T20:52:22.463948",
     "status": "completed"
    },
    "tags": []
   },
   "outputs": [
    {
     "data": {
      "image/png": "[encoded data removed]",
      "text/plain": [
       "<Figure size 640x480 with 1 Axes>"
      ]
     },
     "metadata": {},
     "output_type": "display_data"
    },
    {
     "data": {
      "image/png": "[encoded data removed]",
      "text/plain": [
       "<Figure size 640x480 with 1 Axes>"
      ]
     },
     "metadata": {},
     "output_type": "display_data"
    }
   ],
   "source": [
    "# Plot accuracy\n",
    "plt.plot(history.history['accuracy'], label='train accuracy')\n",
    "plt.plot(history.history['val_accuracy'], label='validation accuracy')\n",
    "plt.legend()\n",
    "plt.show()\n",
    "\n",
    "# Plot loss\n",
    "plt.plot(history.history['loss'], label='train loss')\n",
    "plt.plot(history.history['val_loss'], label='validation loss')\n",
    "plt.legend()\n",
    "plt.show()"
   ]
  },
  {
   "cell_type": "markdown",
   "id": "8e5eb8d6",
   "metadata": {
    "papermill": {
     "duration": 1.810507,
     "end_time": "2024-09-23T20:52:28.380724",
     "exception": false,
     "start_time": "2024-09-23T20:52:26.570217",
     "status": "completed"
    },
    "tags": []
   },
   "source": [
    "### Confusion Matrix"
   ]
  },
  {
   "cell_type": "code",
   "execution_count": 17,
   "id": "369d1d49",
   "metadata": {
    "_kg_hide-input": true,
    "execution": {
     "iopub.execute_input": "2024-09-23T20:52:31.967765Z",
     "iopub.status.busy": "2024-09-23T20:52:31.966840Z",
     "iopub.status.idle": "2024-09-23T20:52:33.536788Z",
     "shell.execute_reply": "2024-09-23T20:52:33.535891Z"
    },
    "papermill": {
     "duration": 3.365549,
     "end_time": "2024-09-23T20:52:33.539007",
     "exception": false,
     "start_time": "2024-09-23T20:52:30.173458",
     "status": "completed"
    },
    "tags": []
   },
   "outputs": [
    {
     "name": "stdout",
     "output_type": "stream",
     "text": [
      "\u001b[1m132/132\u001b[0m \u001b[32m━━━━━━━━━━━━━━━━━━━━\u001b[0m\u001b[37m\u001b[0m \u001b[1m1s\u001b[0m 4ms/step\n"
     ]
    },
    {
     "data": {
      "image/png": "[encoded data removed]",
      "text/plain": [
       "<Figure size 800x600 with 2 Axes>"
      ]
     },
     "metadata": {},
     "output_type": "display_data"
    }
   ],
   "source": [
    "# 1. Make predictions on the validation or test set\n",
    "y_pred_probs = model.predict(X_val)  # Predict probabilities\n",
    "y_pred = np.argmax(y_pred_probs, axis=1)  # Convert probabilities to class labels\n",
    "\n",
    "# 2. Generate the confusion matrix\n",
    "conf_matrix = confusion_matrix(y_val, y_pred)\n",
    "\n",
    "# 3. Define class names (digits 0 to 9)\n",
    "class_names = [i for i in range(10)]\n",
    "\n",
    "# 4. Plot the confusion matrix\n",
    "plt.figure(figsize=(8, 6))\n",
    "sns.heatmap(conf_matrix, annot=True, fmt='d', cmap='Blues', xticklabels=class_names, yticklabels=class_names)\n",
    "plt.xlabel('Predicted Label')\n",
    "plt.ylabel('True Label')\n",
    "plt.title('Confusion Matrix')\n",
    "plt.show()"
   ]
  },
  {
   "cell_type": "markdown",
   "id": "7321fbb5",
   "metadata": {
    "papermill": {
     "duration": 1.836049,
     "end_time": "2024-09-23T20:52:37.165452",
     "exception": false,
     "start_time": "2024-09-23T20:52:35.329403",
     "status": "completed"
    },
    "tags": []
   },
   "source": [
    "## Predictions"
   ]
  },
  {
   "cell_type": "code",
   "execution_count": 18,
   "id": "12474b23",
   "metadata": {
    "execution": {
     "iopub.execute_input": "2024-09-23T20:52:40.763718Z",
     "iopub.status.busy": "2024-09-23T20:52:40.763353Z",
     "iopub.status.idle": "2024-09-23T20:52:42.823310Z",
     "shell.execute_reply": "2024-09-23T20:52:42.822465Z"
    },
    "papermill": {
     "duration": 3.859666,
     "end_time": "2024-09-23T20:52:42.825361",
     "exception": false,
     "start_time": "2024-09-23T20:52:38.965695",
     "status": "completed"
    },
    "tags": []
   },
   "outputs": [
    {
     "name": "stdout",
     "output_type": "stream",
     "text": [
      "\u001b[1m219/219\u001b[0m \u001b[32m━━━━━━━━━━━━━━━━━━━━\u001b[0m\u001b[37m\u001b[0m \u001b[1m2s\u001b[0m 5ms/step\n"
     ]
    }
   ],
   "source": [
    "predictions = model.predict(X_test, batch_size=128)"
   ]
  },
  {
   "cell_type": "code",
   "execution_count": 19,
   "id": "5d871a82",
   "metadata": {
    "execution": {
     "iopub.execute_input": "2024-09-23T20:52:46.369255Z",
     "iopub.status.busy": "2024-09-23T20:52:46.368882Z",
     "iopub.status.idle": "2024-09-23T20:52:46.373845Z",
     "shell.execute_reply": "2024-09-23T20:52:46.373014Z"
    },
    "papermill": {
     "duration": 1.812854,
     "end_time": "2024-09-23T20:52:46.375747",
     "exception": false,
     "start_time": "2024-09-23T20:52:44.562893",
     "status": "completed"
    },
    "tags": []
   },
   "outputs": [],
   "source": [
    "predicted_classes = np.argmax(predictions, axis=1)"
   ]
  },
  {
   "cell_type": "code",
   "execution_count": 20,
   "id": "e4be637f",
   "metadata": {
    "execution": {
     "iopub.execute_input": "2024-09-23T20:52:50.062704Z",
     "iopub.status.busy": "2024-09-23T20:52:50.062343Z",
     "iopub.status.idle": "2024-09-23T20:52:50.102877Z",
     "shell.execute_reply": "2024-09-23T20:52:50.102148Z"
    },
    "papermill": {
     "duration": 1.863097,
     "end_time": "2024-09-23T20:52:50.104830",
     "exception": false,
     "start_time": "2024-09-23T20:52:48.241733",
     "status": "completed"
    },
    "tags": []
   },
   "outputs": [],
   "source": [
    "submission_df = pd.DataFrame({\n",
    "    'ImageId': range(1, len(predicted_classes) + 1),\n",
    "    'Label': predicted_classes\n",
    "})\n",
    "submission_df.to_csv('submission.csv', index=False)"
   ]
  },
  {
   "cell_type": "markdown",
   "id": "31dd4ccd",
   "metadata": {
    "papermill": {
     "duration": 1.829195,
     "end_time": "2024-09-23T20:52:53.731366",
     "exception": false,
     "start_time": "2024-09-23T20:52:51.902171",
     "status": "completed"
    },
    "tags": []
   },
   "source": [
    "<div style=\"border: 2px solid #84172D; padding: 15px; border-radius: 10px; background-color: #f9f9f9; color: #333;\">\n",
    "    <p style=\"font-size: 26px; font-family: 'Arial'; line-height: 1.6em; text-align: center; color: #84172D;\">🙏 Thank You for Reading the Notebook!</p>\n",
    "    <p style=\"text-align: center; color: #333; font-size: 16px\">Your support is truly appreciated. If you found this helpful, feel free to upvote and leave feedback.</p>\n",
    "    <p style=\"text-align: center; color: #056C90; font-size: 18px \">🚀 <b>Happy Coding!</b> 💻</p>\n",
    "</div>"
   ]
  }
 ],
 "metadata": {
  "kaggle": {
   "accelerator": "nvidiaTeslaT4",
   "dataSources": [
    {
     "databundleVersionId": 861823,
     "sourceId": 3004,
     "sourceType": "competition"
    }
   ],
   "dockerImageVersionId": 30762,
   "isGpuEnabled": true,
   "isInternetEnabled": true,
   "language": "python",
   "sourceType": "notebook"
  },
  "kernelspec": {
   "display_name": "Python 3",
   "language": "python",
   "name": "python3"
  },
  "language_info": {
   "codemirror_mode": {
    "name": "ipython",
    "version": 3
   },
   "file_extension": ".py",
   "mimetype": "text/x-python",
   "name": "python",
   "nbconvert_exporter": "python",
   "pygments_lexer": "ipython3",
   "version": "3.10.14"
  },
  "papermill": {
   "default_parameters": {},
   "duration": 1327.521856,
   "end_time": "2024-09-23T20:52:58.312881",
   "environment_variables": {},
   "exception": null,
   "input_path": "__notebook__.ipynb",
   "output_path": "__notebook__.ipynb",
   "parameters": {},
   "start_time": "2024-09-23T20:30:50.791025",
   "version": "2.6.0"
  }
 },
 "nbformat": 4,
 "nbformat_minor": 5
}
